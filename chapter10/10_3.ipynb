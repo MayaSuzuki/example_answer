{
  "nbformat": 4,
  "nbformat_minor": 0,
  "metadata": {
    "colab": {
      "name": "10_3.ipynb",
      "provenance": []
    },
    "kernelspec": {
      "name": "python3",
      "display_name": "Python 3"
    }
  },
  "cells": [
    {
      "cell_type": "code",
      "metadata": {
        "colab": {
          "base_uri": "https://localhost:8080/"
        },
        "id": "buNGkTXELe_m",
        "outputId": "0385bda7-9496-4362-c435-1235a11a031b"
      },
      "source": [
        "%%file 10-3.c\n",
        "\n",
        "#include<stdio.h>\n",
        "\n",
        "void sort3(int *n1, int *n2, int *n3) {\n",
        "    int point;\n",
        "\n",
        "    if(*n1 > * n2) {\n",
        "        point = *n1;\n",
        "        *n1 = *n2;\n",
        "        *n2 = point;\n",
        "    }else if(*n2 > *n3) {\n",
        "        point = *n2;\n",
        "        *n2 = *n3;\n",
        "        *n3 = point;\n",
        "    }else if(*n1 > *n2){\n",
        "        point = *n1;\n",
        "        *n1 = *n2;\n",
        "        *n2 = point;\n",
        "    }\n",
        "\n",
        "}\n",
        "\n",
        "int main() {\n",
        "    int n1, n2, n3;\n",
        "\n",
        "    n1 = 7; n2 = 38; n3 = 4;\n",
        "    sort3(&n1, &n2, &n3);\n",
        "    printf(\"7 38 4 を昇順にソートすると %d %d %d です\",n1 ,n2, n3);\n",
        "\n",
        "    return 0;\n",
        "}"
      ],
      "execution_count": 54,
      "outputs": [
        {
          "output_type": "stream",
          "text": [
            "Overwriting 10-3.c\n"
          ],
          "name": "stdout"
        }
      ]
    },
    {
      "cell_type": "code",
      "metadata": {
        "colab": {
          "base_uri": "https://localhost:8080/"
        },
        "id": "Xlq99QrTMBWw",
        "outputId": "1bc03074-92a4-4eec-e1c7-d2708bbe3e07"
      },
      "source": [
        "!gcc 10-3.c -o prog && ./prog"
      ],
      "execution_count": 55,
      "outputs": [
        {
          "output_type": "stream",
          "text": [
            "7 38 4 を昇順にソートすると 7 4 38 です"
          ],
          "name": "stdout"
        }
      ]
    }
  ]
}