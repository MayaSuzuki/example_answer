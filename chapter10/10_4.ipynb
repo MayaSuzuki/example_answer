{
  "nbformat": 4,
  "nbformat_minor": 0,
  "metadata": {
    "colab": {
      "name": "10_4.ipynb",
      "provenance": []
    },
    "kernelspec": {
      "name": "python3",
      "display_name": "Python 3"
    }
  },
  "cells": [
    {
      "cell_type": "code",
      "metadata": {
        "colab": {
          "base_uri": "https://localhost:8080/"
        },
        "id": "buNGkTXELe_m",
        "outputId": "80b18871-c6f5-436a-83db-d8a17cd9e9a5"
      },
      "source": [
        "%%file 10-4.c\n",
        "\n",
        "#include<stdio.h>\n",
        "\n",
        "void set_idx(int *v, int n){\n",
        "    for(int i = 0; i < n; i++) {\n",
        "        v[i] = i;\n",
        "    }\n",
        "\n",
        "}\n",
        "\n",
        "int main() {\n",
        "    int n[5] = {35, 27, 35, 43, 52};\n",
        "\n",
        "    printf(\"変更前の配列 :\\n\");\n",
        "    for(int i=0; i < 5; i++){\n",
        "        printf(\"n[%d] : %d\\n\", i, n[i]);\n",
        "    }\n",
        "\n",
        "    set_idx(n, 3);\n",
        "\n",
        "    printf(\"変更後の配列 :\\n\");\n",
        "    for(int i=0; i < 5; i++){\n",
        "        printf(\"n[%d] : %d\\n\", i, n[i]);\n",
        "    }\n",
        "\n",
        "    return 0;\n",
        "}"
      ],
      "execution_count": 60,
      "outputs": [
        {
          "output_type": "stream",
          "text": [
            "Overwriting 10-4.c\n"
          ],
          "name": "stdout"
        }
      ]
    },
    {
      "cell_type": "code",
      "metadata": {
        "colab": {
          "base_uri": "https://localhost:8080/"
        },
        "id": "Xlq99QrTMBWw",
        "outputId": "023ea543-429a-4cf6-a735-e585fde11567"
      },
      "source": [
        "!gcc 10-4.c -o prog && ./prog"
      ],
      "execution_count": 61,
      "outputs": [
        {
          "output_type": "stream",
          "text": [
            "変更前の配列 :\n",
            "n[0] : 35\n",
            "n[1] : 27\n",
            "n[2] : 35\n",
            "n[3] : 43\n",
            "n[4] : 52\n",
            "変更後の配列 :\n",
            "n[0] : 0\n",
            "n[1] : 1\n",
            "n[2] : 2\n",
            "n[3] : 43\n",
            "n[4] : 52\n"
          ],
          "name": "stdout"
        }
      ]
    }
  ]
}