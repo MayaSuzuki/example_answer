{
  "nbformat": 4,
  "nbformat_minor": 0,
  "metadata": {
    "colab": {
      "name": "10_5.ipynb",
      "provenance": []
    },
    "kernelspec": {
      "name": "python3",
      "display_name": "Python 3"
    }
  },
  "cells": [
    {
      "cell_type": "code",
      "metadata": {
        "colab": {
          "base_uri": "https://localhost:8080/"
        },
        "id": "buNGkTXELe_m",
        "outputId": "493151c7-743d-4765-eb79-e9391ef75be5"
      },
      "source": [
        "%%file 10-5.c\n",
        "\n",
        "#include<stdio.h>\n",
        "\n",
        "void ary_set(int v[], int n, int val){\n",
        "    for(int i = 0; i < n; i++) {\n",
        "        v[i] = val;\n",
        "    }\n",
        "\n",
        "}\n",
        "\n",
        "int main() {\n",
        "    int i;\n",
        "    int a[] = {1, 2, 3, 4, 5};\n",
        "\n",
        "    ary_set(&a[2], 2, 99);\n",
        "\n",
        "    for(int i=0; i < 5; i++){\n",
        "        printf(\"a[%d] : %d\\n\", i, a[i]);\n",
        "    }\n",
        "\n",
        "    return 0;\n",
        "}"
      ],
      "execution_count": 64,
      "outputs": [
        {
          "output_type": "stream",
          "text": [
            "Overwriting 10-5.c\n"
          ],
          "name": "stdout"
        }
      ]
    },
    {
      "cell_type": "code",
      "metadata": {
        "colab": {
          "base_uri": "https://localhost:8080/"
        },
        "id": "Xlq99QrTMBWw",
        "outputId": "88cee652-cd5a-4cb7-b58c-c7948d2d4abd"
      },
      "source": [
        "!gcc 10-5.c -o prog && ./prog"
      ],
      "execution_count": 65,
      "outputs": [
        {
          "output_type": "stream",
          "text": [
            "a[0] : 1\n",
            "a[1] : 2\n",
            "a[2] : 99\n",
            "a[3] : 99\n",
            "a[4] : 5\n"
          ],
          "name": "stdout"
        }
      ]
    },
    {
      "cell_type": "markdown",
      "metadata": {
        "id": "fpKcPijgayO0"
      },
      "source": [
        "ポインタ v[] は a[2] を指すことになるので\r\n",
        "\r\n",
        "  v[0] は   a[2]\r\n",
        "\r\n",
        "  v[1] は   a[3]\r\n",
        "\r\n",
        "となる"
      ]
    }
  ]
}