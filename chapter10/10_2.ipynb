{
  "nbformat": 4,
  "nbformat_minor": 0,
  "metadata": {
    "colab": {
      "name": "10_2.ipynb",
      "provenance": []
    },
    "kernelspec": {
      "name": "python3",
      "display_name": "Python 3"
    }
  },
  "cells": [
    {
      "cell_type": "code",
      "metadata": {
        "colab": {
          "base_uri": "https://localhost:8080/"
        },
        "id": "buNGkTXELe_m",
        "outputId": "ffa3feac-6853-4491-fcba-f5c55a071e1d"
      },
      "source": [
        "%%file 10-2.c\n",
        "\n",
        "#include<stdio.h>\n",
        "\n",
        "//うるう年の判定\n",
        "int is_leap_year(int y) {\n",
        "    if(y % 4 == 0 && y % 100 != 0 || y % 400 == 0){\n",
        "        return 1;\n",
        "    }else{\n",
        "        return 0;\n",
        "    }\n",
        "}\n",
        "\n",
        "//日にちの計算\n",
        "int month_date(int y, int m) {\n",
        "    int monthdays[][12] = {\n",
        "        {31, 28, 31, 30, 31, 30, 31, 31, 30, 31, 30, 31},  //うるう年でないとき\n",
        "        {31, 29, 31, 30, 31, 30, 31, 31, 30, 31, 30, 31},  //うるう年のとき\n",
        "    };\n",
        "    return monthdays[is_leap_year(y)][m - 1];\n",
        "}\n",
        "\n",
        "void decrement_date(int *y, int *m, int *d) {\n",
        "    if(*d == 1){\n",
        "        if(*m == 1){\n",
        "            --*y;\n",
        "            *m = 12;\n",
        "            *d = 31;\n",
        "        }else{\n",
        "            --*m;\n",
        "            *d = month_date(*y, *m);\n",
        "        }\n",
        "    }else{\n",
        "        --*d;\n",
        "    }\n",
        "}\n",
        "\n",
        "\n",
        "void increment_date(int *y, int *m, int *d) {\n",
        "    if(*d == month_date(*y, *m)){\n",
        "        if(*m == 12){\n",
        "            ++*y;\n",
        "            *m = 1;\n",
        "            *d = 1;\n",
        "        }else{\n",
        "            ++*m;\n",
        "            *d = 1;\n",
        "        }\n",
        "    }else{\n",
        "        ++*d;\n",
        "    }\n",
        "}\n",
        "\n",
        "int main() {\n",
        "    int year, month, date;\n",
        "\n",
        "    year = 2010; month = 12; date = 31;\n",
        "    increment_date(&year, &month, &date);\n",
        "    printf(\"2010年12月31日の次の日は : %d年%d月%d日です\\n\", year, month, date);\n",
        "\n",
        "    year = 2000; month = 1; date = 1;\n",
        "    decrement_date(&year, &month, &date);\n",
        "    printf(\"2000年1月1日の前の日は : %d年%d月%d日です\\n\", year, month, date); \n",
        "\n",
        "    year = 2011; month = 1; date = 31;\n",
        "    increment_date(&year, &month, &date);\n",
        "    printf(\"2011年1月31日の次の日は : %d年%d月%d日です\\n\", year, month, date);\n",
        "\n",
        "    year = 2030; month = 4; date = 1;\n",
        "    decrement_date(&year, &month, &date);\n",
        "    printf(\"2030年4月1日の前の日は : %d年%d月%d日です\\n\", year, month, date); \n",
        "\n",
        "    year = 2012; month = 2; date = 28;\n",
        "    increment_date(&year, &month, &date);\n",
        "    printf(\"2012年2月28日の次の日は : %d年%d月%d日です\\n\", year, month, date);\n",
        "\n",
        "    year = 2014; month = 2; date = 28;\n",
        "    increment_date(&year, &month, &date);\n",
        "    printf(\"2014年2月28日の次の日は : %d年%d月%d日です\\n\", year, month, date);\n",
        "\n",
        "    return 0;\n",
        "}"
      ],
      "execution_count": 48,
      "outputs": [
        {
          "output_type": "stream",
          "text": [
            "Overwriting 10-2.c\n"
          ],
          "name": "stdout"
        }
      ]
    },
    {
      "cell_type": "code",
      "metadata": {
        "colab": {
          "base_uri": "https://localhost:8080/"
        },
        "id": "Xlq99QrTMBWw",
        "outputId": "378bda0e-4afe-49d3-c543-024efd527c1e"
      },
      "source": [
        "!gcc 10-2.c -o prog && ./prog"
      ],
      "execution_count": 49,
      "outputs": [
        {
          "output_type": "stream",
          "text": [
            "2010年12月31日の次の日は : 2011年1月1日です\n",
            "2000年1月1日の前の日は : 1999年12月31日です\n",
            "2011年1月31日の次の日は : 2011年2月1日です\n",
            "2030年4月1日の前の日は : 2030年3月31日です\n",
            "2012年2月28日の次の日は : 2012年2月29日です\n",
            "2014年2月28日の次の日は : 2014年3月1日です\n"
          ],
          "name": "stdout"
        }
      ]
    }
  ]
}