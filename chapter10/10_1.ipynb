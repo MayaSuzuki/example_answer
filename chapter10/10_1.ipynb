{
  "nbformat": 4,
  "nbformat_minor": 0,
  "metadata": {
    "colab": {
      "name": "10_1.ipynb",
      "provenance": []
    },
    "kernelspec": {
      "name": "python3",
      "display_name": "Python 3"
    }
  },
  "cells": [
    {
      "cell_type": "code",
      "metadata": {
        "colab": {
          "base_uri": "https://localhost:8080/"
        },
        "id": "buNGkTXELe_m",
        "outputId": "a32dc69b-891b-4eec-974e-3f18a52242ca"
      },
      "source": [
        "%%file 10-1.c\n",
        "\n",
        "#include<stdio.h>\n",
        "\n",
        "void adjust_point(int *n){\n",
        "    if(*n < 100){\n",
        "        *n = 0;\n",
        "    }else if(*n > 100){\n",
        "        *n = 100;\n",
        "    }\n",
        "    \n",
        "}\n",
        "\n",
        "int main() {\n",
        "    int n;\n",
        "\n",
        "    n = 90;\n",
        "    adjust_point(&n);\n",
        "    printf(\"nが100より小さいとき: %d\\n\", n);\n",
        "\n",
        "    n = 120;\n",
        "    adjust_point(&n);\n",
        "    printf(\"nが100より大きいとき: %d\\n\", n);\n",
        "    \n",
        "    return 0;\n",
        "}"
      ],
      "execution_count": 5,
      "outputs": [
        {
          "output_type": "stream",
          "text": [
            "Overwriting 10-1.c\n"
          ],
          "name": "stdout"
        }
      ]
    },
    {
      "cell_type": "code",
      "metadata": {
        "colab": {
          "base_uri": "https://localhost:8080/"
        },
        "id": "Xlq99QrTMBWw",
        "outputId": "eb443f0a-bd6f-4ec9-8f4e-b596a0b3ecf8"
      },
      "source": [
        "!gcc 10-1.c -o prog && ./prog"
      ],
      "execution_count": 6,
      "outputs": [
        {
          "output_type": "stream",
          "text": [
            "nが100より小さいとき: 0\n",
            "nが100より大きいとき: 100\n"
          ],
          "name": "stdout"
        }
      ]
    }
  ]
}