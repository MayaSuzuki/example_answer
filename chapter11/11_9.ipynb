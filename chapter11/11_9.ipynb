{
  "nbformat": 4,
  "nbformat_minor": 0,
  "metadata": {
    "colab": {
      "name": "11_9.ipynb",
      "provenance": []
    },
    "kernelspec": {
      "name": "python3",
      "display_name": "Python 3"
    }
  },
  "cells": [
    {
      "cell_type": "code",
      "metadata": {
        "colab": {
          "base_uri": "https://localhost:8080/"
        },
        "id": "buNGkTXELe_m",
        "outputId": "a9a68e40-bbdd-4c6b-9d73-5a09b5721838"
      },
      "source": [
        "%%file 11-9.c\n",
        "\n",
        "#include<stdio.h>\n",
        "#include<string.h>\n",
        "\n",
        "int main() {\n",
        "    char str[128] = \"ABCDEFG\";\n",
        "\n",
        "    printf(\"文字列の長さ: %d\\n\", (unsigned)strlen(str));\n",
        "\n",
        "    strcpy(str, \"123\");\n",
        "    printf(\"strに123をコピーしました: %s\\n\", str);\n",
        "\n",
        "    strncpy(str, \"ABC\", 2);\n",
        "    printf(\"strにABCを2文字目までコピーしました: %s\\n\", str);\n",
        "    \n",
        "    strcat(str, \"abc\");\n",
        "    printf(\"strにabcを連結しました: %s\\n\", str);\n",
        "\n",
        "    strncat(str, \"efg\", 2);\n",
        "    printf(\"strにefgの2文字目までを連結しました: %s\\n\", str);\n",
        "\n",
        "    if(strcmp(str, \"ABC\")  == 0) {\n",
        "        printf(\"strはABCと等しい\\n\");\n",
        "    }else{\n",
        "        printf(\"strはABCと等しくない\\n\");\n",
        "    }\n",
        "    \n",
        "    if(strncmp(str, \"ABC\", 1) == 0) {\n",
        "        printf(\"strはABCと1文字目まで等しい\\n\");\n",
        "    }else{\n",
        "        printf(\"strはABCと等しくない\\n\");\n",
        "    }\n",
        "\n",
        "    return 0;\n",
        "}"
      ],
      "execution_count": 63,
      "outputs": [
        {
          "output_type": "stream",
          "text": [
            "Overwriting 11-9.c\n"
          ],
          "name": "stdout"
        }
      ]
    },
    {
      "cell_type": "code",
      "metadata": {
        "colab": {
          "base_uri": "https://localhost:8080/"
        },
        "id": "Xlq99QrTMBWw",
        "outputId": "e15f07d3-7747-46b7-c545-9838f43b1a5e"
      },
      "source": [
        "!gcc 11-9.c -o prog && ./prog"
      ],
      "execution_count": 64,
      "outputs": [
        {
          "output_type": "stream",
          "text": [
            "文字列の長さ: 7\n",
            "strに123をコピーしました: 123\n",
            "strにABCを2文字目までコピーしました: AB3\n",
            "strにabcを連結しました: AB3abc\n",
            "strにefgの2文字目までを連結しました: AB3abcef\n",
            "strはABCと等しくない\n",
            "strはABCと1文字目まで等しい\n"
          ],
          "name": "stdout"
        }
      ]
    }
  ]
}