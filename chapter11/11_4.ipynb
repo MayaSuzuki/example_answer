{
  "nbformat": 4,
  "nbformat_minor": 0,
  "metadata": {
    "colab": {
      "name": "11_4.ipynb",
      "provenance": []
    },
    "kernelspec": {
      "name": "python3",
      "display_name": "Python 3"
    }
  },
  "cells": [
    {
      "cell_type": "code",
      "metadata": {
        "colab": {
          "base_uri": "https://localhost:8080/"
        },
        "id": "buNGkTXELe_m",
        "outputId": "15203920-ed2a-4656-8ed9-e3870ee11871"
      },
      "source": [
        "%%file 11-4.c\n",
        "\n",
        "#include<stdio.h>\n",
        "\n",
        "void put_string(const char *s)\n",
        "{\n",
        "    while(*s) {\n",
        "        putchar(*s);\n",
        "        *s++;\n",
        "    }\n",
        "}\n",
        "\n",
        "int main() {\n",
        "    char ptr[128] = \"ABC\";\n",
        "    char tmp[128];\n",
        "\n",
        "    put_string(ptr);\n",
        "\n",
        "    return 0;\n",
        "}"
      ],
      "execution_count": 110,
      "outputs": [
        {
          "output_type": "stream",
          "text": [
            "Writing 11-4.c\n"
          ],
          "name": "stdout"
        }
      ]
    },
    {
      "cell_type": "code",
      "metadata": {
        "colab": {
          "base_uri": "https://localhost:8080/"
        },
        "id": "Xlq99QrTMBWw",
        "outputId": "dfa34418-3db2-4603-f13b-b27cc0e3a6fd"
      },
      "source": [
        "!gcc 11-4.c -o prog && ./prog"
      ],
      "execution_count": 111,
      "outputs": [
        {
          "output_type": "stream",
          "text": [
            "ABC"
          ],
          "name": "stdout"
        }
      ]
    }
  ]
}