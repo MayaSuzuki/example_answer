{
  "nbformat": 4,
  "nbformat_minor": 0,
  "metadata": {
    "colab": {
      "name": "11_5.ipynb",
      "provenance": []
    },
    "kernelspec": {
      "name": "python3",
      "display_name": "Python 3"
    }
  },
  "cells": [
    {
      "cell_type": "code",
      "metadata": {
        "colab": {
          "base_uri": "https://localhost:8080/"
        },
        "id": "buNGkTXELe_m",
        "outputId": "6572a010-c640-4b37-b5b8-32b0526765a1"
      },
      "source": [
        "%%file 11-5.c\n",
        "\n",
        "#include<stdio.h>\n",
        "\n",
        "int str_chnum(const char *s, int c)\n",
        "{\n",
        "    int count = 0;\n",
        "    while(*s) {\n",
        "        if(*s == c) {\n",
        "            count++;\n",
        "        }\n",
        "        *s++;\n",
        "    }\n",
        " \n",
        "    return count;\n",
        "}\n",
        "\n",
        "int main() {\n",
        "    char ptr[128] = \"ABCABCBCABCBA\";\n",
        "\n",
        "    printf(\"ptrにAは%d個含まれます\\n\", str_chnum(ptr, 'A'));\n",
        "    printf(\"ptrにBは%d個含まれます\\n\", str_chnum(ptr, 'B'));\n",
        "    printf(\"ptrにCは%d個含まれます\\n\", str_chnum(ptr, 'C'));\n",
        "\n",
        "    return 0;\n",
        "}"
      ],
      "execution_count": 122,
      "outputs": [
        {
          "output_type": "stream",
          "text": [
            "Overwriting 11-5.c\n"
          ],
          "name": "stdout"
        }
      ]
    },
    {
      "cell_type": "code",
      "metadata": {
        "colab": {
          "base_uri": "https://localhost:8080/"
        },
        "id": "Xlq99QrTMBWw",
        "outputId": "471b11be-d7fa-476a-ef9b-99b235d8fd82"
      },
      "source": [
        "!gcc 11-5.c -o prog && ./prog"
      ],
      "execution_count": 123,
      "outputs": [
        {
          "output_type": "stream",
          "text": [
            "ptrにAは4個含まれます\n",
            "ptrにBは5個含まれます\n",
            "ptrにCは4個含まれます\n"
          ],
          "name": "stdout"
        }
      ]
    }
  ]
}