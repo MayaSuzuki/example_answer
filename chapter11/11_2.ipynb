{
  "nbformat": 4,
  "nbformat_minor": 0,
  "metadata": {
    "colab": {
      "name": "11_2.ipynb",
      "provenance": []
    },
    "kernelspec": {
      "name": "python3",
      "display_name": "Python 3"
    }
  },
  "cells": [
    {
      "cell_type": "code",
      "metadata": {
        "colab": {
          "base_uri": "https://localhost:8080/"
        },
        "id": "buNGkTXELe_m",
        "outputId": "5969ab2e-3d86-456c-cd56-fea123554c0e"
      },
      "source": [
        "%%file 11-2.c\n",
        "\n",
        "#include<stdio.h>\n",
        "\n",
        "int main() {\n",
        "    int i;\n",
        "    char a[][5] = {\"LISP\", \"C\", \"Ada\"};\n",
        "    char *p[]    = {\"PAUL\", \"X\", \"MAC\"};\n",
        "\n",
        "    for(i = 0; i < sizeof(a) / sizeof(a[0]); i++) {\n",
        "        printf(\"a[%d] = \\\"%s\\\"\\n\", i, a[i]);\n",
        "    }\n",
        "\n",
        "    for(i = 0; i < sizeof(p) / sizeof(p[0]); i++) {\n",
        "        printf(\"a[%d] = \\\"%s\\\"\\n\", i, p[i]);\n",
        "    }\n",
        "\n",
        "    return 0;\n",
        "}"
      ],
      "execution_count": 76,
      "outputs": [
        {
          "output_type": "stream",
          "text": [
            "Overwriting 11-2.c\n"
          ],
          "name": "stdout"
        }
      ]
    },
    {
      "cell_type": "code",
      "metadata": {
        "colab": {
          "base_uri": "https://localhost:8080/"
        },
        "id": "Xlq99QrTMBWw",
        "outputId": "7d24c86f-614a-407c-8509-5ed409008f63"
      },
      "source": [
        "!gcc 11-2.c -o prog && ./prog"
      ],
      "execution_count": 77,
      "outputs": [
        {
          "output_type": "stream",
          "text": [
            "a[0] = \"LISP\"\n",
            "a[1] = \"C\"\n",
            "a[2] = \"Ada\"\n",
            "a[0] = \"PAUL\"\n",
            "a[1] = \"X\"\n",
            "a[2] = \"MAC\"\n"
          ],
          "name": "stdout"
        }
      ]
    }
  ]
}