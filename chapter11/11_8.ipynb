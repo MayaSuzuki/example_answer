{
  "nbformat": 4,
  "nbformat_minor": 0,
  "metadata": {
    "colab": {
      "name": "11_8.ipynb",
      "provenance": []
    },
    "kernelspec": {
      "name": "python3",
      "display_name": "Python 3"
    }
  },
  "cells": [
    {
      "cell_type": "code",
      "metadata": {
        "colab": {
          "base_uri": "https://localhost:8080/"
        },
        "id": "buNGkTXELe_m",
        "outputId": "72e65d9d-a1cc-4129-8bae-ef2f2f1b07b4"
      },
      "source": [
        "%%file 11-8.c\n",
        "\n",
        "#include<stdio.h>\n",
        "\n",
        "void del_digit(char *str){\n",
        "    char *point = str;\n",
        "\n",
        "    while(*str){\n",
        "        if(*str < '0' || *str > '9'){\n",
        "            *point++ = *str;\n",
        "        }\n",
        "        str++;\n",
        "    }\n",
        "    *point = '\\0';\n",
        "    \n",
        "}\n",
        "\n",
        "int main() {\n",
        "    char str[128];\n",
        "\n",
        "    printf(\"文字列を入力してください\");\n",
        "    scanf(\"%s\", str);\n",
        "\n",
        "    printf(\"数字文字を削除しました\\n\");\n",
        "    del_digit(str);\n",
        "\n",
        "    printf(\"%s\", str);\n",
        "    \n",
        "    return 0;\n",
        "}"
      ],
      "execution_count": 10,
      "outputs": [
        {
          "output_type": "stream",
          "text": [
            "Overwriting 11-7.c\n"
          ],
          "name": "stdout"
        }
      ]
    },
    {
      "cell_type": "code",
      "metadata": {
        "colab": {
          "base_uri": "https://localhost:8080/"
        },
        "id": "Xlq99QrTMBWw",
        "outputId": "ca128831-7694-4277-d95b-bfc7b8f67a01"
      },
      "source": [
        "!gcc 11-8.c -o prog && ./prog"
      ],
      "execution_count": 13,
      "outputs": [
        {
          "output_type": "stream",
          "text": [
            "文字列を入力してください123ABC\n",
            "数字文字を削除しました\n",
            "ABC"
          ],
          "name": "stdout"
        }
      ]
    }
  ]
}