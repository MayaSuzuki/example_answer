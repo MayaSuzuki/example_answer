{
  "nbformat": 4,
  "nbformat_minor": 0,
  "metadata": {
    "colab": {
      "name": "11_10.ipynb",
      "provenance": []
    },
    "kernelspec": {
      "name": "python3",
      "display_name": "Python 3"
    }
  },
  "cells": [
    {
      "cell_type": "code",
      "metadata": {
        "colab": {
          "base_uri": "https://localhost:8080/"
        },
        "id": "buNGkTXELe_m",
        "outputId": "71bd50bc-9d9b-4d13-959e-d01a01791c83"
      },
      "source": [
        "%%file 11-10.c\n",
        "\n",
        "#include<stdio.h>\n",
        "#define True 1\n",
        "#define False 0\n",
        "\n",
        "//空白類文字か判定\n",
        "int is_whitespace(int ch)\n",
        "{\n",
        "    if(ch == ' ' || ch == '\\f' || ch == '\\n' || ch == '\\r' || ch == '\\t' || ch == '\\v') {\n",
        "        return True;\n",
        "    }else{\n",
        "        return False;\n",
        "    }\n",
        "}\n",
        "\n",
        "long strtol(const char *nptr)\n",
        "{\n",
        "    int sign = 1;  //符号\n",
        "    long x = 0;    //変換後の整数\n",
        " \n",
        "    while(is_whitespace(*nptr)){  //空白類文字を飛ばす\n",
        "        nptr++;\n",
        "    }\n",
        " \n",
        "    switch(*nptr){\n",
        "        case '+':\n",
        "           nptr++;\n",
        "           break;\n",
        "        case '-':     //負の値なら符号をマイナスに\n",
        "          nptr++;\n",
        "          sign = -1;\n",
        "          break;\n",
        "    }\n",
        " \n",
        "    //文字を数字に変換\n",
        "    for(x = 0; *nptr >= '0' && *nptr <= '9'; nptr++) {\n",
        "        x = x * 10 + (*nptr - '0');\n",
        "    }\n",
        " \n",
        "    return sign * x;\n",
        "}\n",
        "\n",
        "int strtoi(const char *nptr)\n",
        "{\n",
        "    return (int)strtol(nptr);\n",
        "}\n",
        "\n",
        "double strtof(const char *nptr)\n",
        "{\n",
        "    int sign = 1;  //符号\n",
        "    double x = 0;  //変換後の整数\n",
        "    double dec;    //少数部計算用\n",
        " \n",
        "    while(is_whitespace(*nptr)){  //空白類文字を飛ばす\n",
        "        nptr++;\n",
        "    }\n",
        " \n",
        "    switch(*nptr){\n",
        "        case '+':\n",
        "           nptr++;\n",
        "           break;\n",
        "        case '-':     //負の値なら符号をマイナスに\n",
        "          nptr++;\n",
        "          sign = -1;\n",
        "          break;\n",
        "    }\n",
        "\n",
        "    //文字を数字に変換\n",
        "    for(x = 0; *nptr >= '0' && *nptr <= '9'; nptr++) {\n",
        "        x = x * 10.0 + (*nptr - '0');\n",
        "    }\n",
        " \n",
        "    if(*nptr == '.') {\n",
        "        nptr++;\n",
        "    }\n",
        " \n",
        "    //少数部\n",
        "    for(dec = 1.0; *nptr >= '0' && *nptr <= '9'; nptr++) {\n",
        "        x = x + (dec /= 10.0) * (*nptr - '0');\n",
        "    }\n",
        " \n",
        "    //指数部\n",
        "    if(*nptr == 'E' || *nptr == 'e') {\n",
        "        int exp;  //指数部の値\n",
        "        int sign = 1;  //指数部の符号\n",
        "\n",
        "      switch(*++nptr){\n",
        "          case '+':\n",
        "            nptr++;\n",
        "            break;\n",
        "          case '-':     //負の値なら符号をマイナスに\n",
        "            nptr++;\n",
        "            sign = -1;\n",
        "            break;\n",
        "      }\n",
        "\n",
        "      for(exp = 0; *nptr >= '0' && *nptr <= '9'; nptr++) {\n",
        "        exp = 10 * exp + (*nptr - '0');\n",
        "      }\n",
        "\n",
        "      switch(sign){\n",
        "          case 1:\n",
        "            while(exp-- > 0) {\n",
        "                x *= 10.0;\n",
        "            }\n",
        "            break;\n",
        "          case -1:\n",
        "            while(exp-- > 0) {\n",
        "                x /= 10.0;\n",
        "            }\n",
        "            break;\n",
        "      }\n",
        "\n",
        "    }\n",
        "    return sign * x;\n",
        " \n",
        "}\n",
        "\n",
        "int main() {\n",
        "    char number[128] = \"123\";\n",
        "    char number2[128] = \"5.0\";\n",
        "    char number3[128] = \"-5.0\";\n",
        "    char number4[128] = \"-123\";\n",
        "\n",
        "    printf(\"123  + 1   =: %d\\n\", strtoi(number) + 1);\n",
        "    printf(\"-123 + 1   =: %d\\n\", strtoi(number4) + 1);\n",
        "    printf(\"123  + 1   =: %ld\\n\", strtol(number) + 1);\n",
        "    printf(\"-5.0 + 1.8 =: %f\\n\", strtol(number3) + 1.8);\n",
        "\n",
        "    return 0;\n",
        "}"
      ],
      "execution_count": 83,
      "outputs": [
        {
          "output_type": "stream",
          "text": [
            "Overwriting 11-10.c\n"
          ],
          "name": "stdout"
        }
      ]
    },
    {
      "cell_type": "code",
      "metadata": {
        "colab": {
          "base_uri": "https://localhost:8080/"
        },
        "id": "Xlq99QrTMBWw",
        "outputId": "4d2323bd-d024-463b-ee2a-fa3524d29f5c"
      },
      "source": [
        "!gcc 11-10.c -o prog && ./prog"
      ],
      "execution_count": 84,
      "outputs": [
        {
          "output_type": "stream",
          "text": [
            "123  + 1   =: 124\n",
            "-123 + 1   =: -122\n",
            "123  + 1   =: 124\n",
            "-5.0 + 1.8 =: -3.200000\n"
          ],
          "name": "stdout"
        }
      ]
    }
  ]
}