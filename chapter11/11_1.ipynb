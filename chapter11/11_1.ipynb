{
  "nbformat": 4,
  "nbformat_minor": 0,
  "metadata": {
    "colab": {
      "name": "11_1.ipynb",
      "provenance": []
    },
    "kernelspec": {
      "name": "python3",
      "display_name": "Python 3"
    }
  },
  "cells": [
    {
      "cell_type": "code",
      "metadata": {
        "colab": {
          "base_uri": "https://localhost:8080/"
        },
        "id": "buNGkTXELe_m",
        "outputId": "5188ec4d-0f3b-4a0f-91e6-f72f58f80d19"
      },
      "source": [
        "%%file 11-1.c\n",
        "\n",
        "#include<stdio.h>\n",
        "\n",
        "int main() {\n",
        "    char *p = \"123\";\n",
        "    printf(\"p = \\\"%s\\\"\\n\", p);\n",
        "    p = \"456\" + 1;\n",
        "    printf(\"p = \\\"%s\\\"\\n\", p);\n",
        "}"
      ],
      "execution_count": 66,
      "outputs": [
        {
          "output_type": "stream",
          "text": [
            "Writing 11-1.c\n"
          ],
          "name": "stdout"
        }
      ]
    },
    {
      "cell_type": "code",
      "metadata": {
        "colab": {
          "base_uri": "https://localhost:8080/"
        },
        "id": "Xlq99QrTMBWw",
        "outputId": "961af1bb-4afa-4428-81ec-4e65f946306d"
      },
      "source": [
        "!gcc 11-1.c -o prog && ./prog"
      ],
      "execution_count": 67,
      "outputs": [
        {
          "output_type": "stream",
          "text": [
            "p = \"123\"\n",
            "p = \"56\"\n"
          ],
          "name": "stdout"
        }
      ]
    },
    {
      "cell_type": "markdown",
      "metadata": {
        "id": "fpKcPijgayO0"
      },
      "source": [
        "ポインタ *p は文字列の先頭を指す\r\n",
        "つまり「\"456\"」は 4 を指し、「\"456\" + 1」は 5 を指すことになる"
      ]
    }
  ]
}