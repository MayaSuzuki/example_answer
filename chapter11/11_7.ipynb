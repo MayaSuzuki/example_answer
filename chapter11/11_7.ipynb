{
  "nbformat": 4,
  "nbformat_minor": 0,
  "metadata": {
    "colab": {
      "name": "11_7.ipynb",
      "provenance": []
    },
    "kernelspec": {
      "name": "python3",
      "display_name": "Python 3"
    }
  },
  "cells": [
    {
      "cell_type": "code",
      "metadata": {
        "colab": {
          "base_uri": "https://localhost:8080/"
        },
        "id": "buNGkTXELe_m",
        "outputId": "1f6c4962-8537-479d-86a0-5b44ac67b752"
      },
      "source": [
        "%%file 11-7.c\n",
        "\n",
        "#include<ctype.h>\n",
        "#include<stdio.h>\n",
        "\n",
        "char str_toupper(char *s)\n",
        "{\n",
        "    while(*s) {\n",
        "        *s = toupper(*s);\n",
        "        *s++;\n",
        "    }\n",
        "}\n",
        "\n",
        "char str_tolower(char *s)\n",
        "{\n",
        "    while(*s) {\n",
        "        *s = tolower(*s);\n",
        "        *s++;\n",
        "    }\n",
        "}\n",
        "\n",
        "\n",
        "int main() {\n",
        "    char str[128] = \"ABC\";\n",
        "    char str2[128] = \"abc\";\n",
        "\n",
        "    str_tolower(str);\n",
        "    printf(\"strを小文字に変換しました: %s\\n\", str);\n",
        "\n",
        "    str_toupper(str2);\n",
        "    printf(\"str2を大文字に変換しました: %s\\n\", str2);\n",
        "\n",
        "    return 0;\n",
        "}"
      ],
      "execution_count": 11,
      "outputs": [
        {
          "output_type": "stream",
          "text": [
            "Overwriting 11-7.c\n"
          ],
          "name": "stdout"
        }
      ]
    },
    {
      "cell_type": "code",
      "metadata": {
        "colab": {
          "base_uri": "https://localhost:8080/"
        },
        "id": "Xlq99QrTMBWw",
        "outputId": "c7819519-6253-4c07-fefb-bda741dcffa7"
      },
      "source": [
        "!gcc 11-7.c -o prog && ./prog"
      ],
      "execution_count": 12,
      "outputs": [
        {
          "output_type": "stream",
          "text": [
            "strを小文字に変換しました: abc\n",
            "str2を大文字に変換しました: ABC\n"
          ],
          "name": "stdout"
        }
      ]
    }
  ]
}