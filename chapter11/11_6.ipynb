{
  "nbformat": 4,
  "nbformat_minor": 0,
  "metadata": {
    "colab": {
      "name": "11_6.ipynb",
      "provenance": []
    },
    "kernelspec": {
      "name": "python3",
      "display_name": "Python 3"
    }
  },
  "cells": [
    {
      "cell_type": "code",
      "metadata": {
        "colab": {
          "base_uri": "https://localhost:8080/"
        },
        "id": "buNGkTXELe_m",
        "outputId": "10a17db1-c93e-4732-9498-5feb2e9717ea"
      },
      "source": [
        "%%file 11-6.c\n",
        "\n",
        "#include<stdio.h>\n",
        "\n",
        "char *str_chr(const char *s, int c)\n",
        "{\n",
        "    while(*s) {\n",
        "        if(*s == c) {\n",
        "            return (unsigned char *)s;\n",
        "        }\n",
        "        s++;\n",
        "    }\n",
        " \n",
        "    return NULL;\n",
        "}\n",
        "\n",
        "int main() {\n",
        "    char ptr[128] = \"ABCABCBCABCBA\";\n",
        "    char *point;\n",
        "\n",
        "    point = str_chr(ptr, 'C');\n",
        "    if(point != NULL) {\n",
        "         printf(\"%s\\n\", point);\n",
        "    }else{\n",
        "        printf(\"Cは含まれません\\n\");\n",
        "    }\n",
        "\n",
        "    point = str_chr(ptr, 'D');\n",
        "    if(point != NULL) {\n",
        "         printf(\"%s\\n\", point);\n",
        "    }else{\n",
        "        printf(\"Dは含まれません\\n\");\n",
        "    }\n",
        "\n",
        "    return 0;\n",
        "}"
      ],
      "execution_count": 147,
      "outputs": [
        {
          "output_type": "stream",
          "text": [
            "Overwriting 11-6.c\n"
          ],
          "name": "stdout"
        }
      ]
    },
    {
      "cell_type": "code",
      "metadata": {
        "colab": {
          "base_uri": "https://localhost:8080/"
        },
        "id": "Xlq99QrTMBWw",
        "outputId": "2869b651-bef3-43db-d030-0362c202d427"
      },
      "source": [
        "!gcc 11-6.c -o prog && ./prog"
      ],
      "execution_count": 148,
      "outputs": [
        {
          "output_type": "stream",
          "text": [
            "CABCBCABCBA\n",
            "Dは含まれません\n"
          ],
          "name": "stdout"
        }
      ]
    }
  ]
}