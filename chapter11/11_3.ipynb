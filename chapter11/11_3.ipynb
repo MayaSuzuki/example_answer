{
  "nbformat": 4,
  "nbformat_minor": 0,
  "metadata": {
    "colab": {
      "name": "11_3.ipynb",
      "provenance": []
    },
    "kernelspec": {
      "name": "python3",
      "display_name": "Python 3"
    }
  },
  "cells": [
    {
      "cell_type": "code",
      "metadata": {
        "colab": {
          "base_uri": "https://localhost:8080/"
        },
        "id": "buNGkTXELe_m",
        "outputId": "c5d06ef5-d0bf-4784-ac07-417e987cf943"
      },
      "source": [
        "%%file 11-3.c\n",
        "\n",
        "#include<stdio.h>\n",
        "\n",
        "char *str_copy(char *d, const char *s)\n",
        "{\n",
        "    char *t = d;\n",
        "    while(*d++ = *s++){\n",
        "        ;\n",
        "    }\n",
        "    return t;\n",
        "}\n",
        "\n",
        "int main() {\n",
        "    char ptr[128] = \"1234\";\n",
        "    char tmp[128];\n",
        "\n",
        "    printf(\"ptr = \\\"%s\\\"\\n\", ptr);\n",
        "\n",
        "    printf(\"コピーするのは: \");\n",
        "    scanf(\"%s\", tmp);\n",
        "    \n",
        "    puts(\"コピーしました。\");\n",
        "    printf(\"ptr = \\\"%s\\\"\\n\", str_copy(ptr, tmp));\n",
        "\n",
        "    return 0;\n",
        "}"
      ],
      "execution_count": 106,
      "outputs": [
        {
          "output_type": "stream",
          "text": [
            "Overwriting 11-3.c\n"
          ],
          "name": "stdout"
        }
      ]
    },
    {
      "cell_type": "code",
      "metadata": {
        "colab": {
          "base_uri": "https://localhost:8080/"
        },
        "id": "Xlq99QrTMBWw",
        "outputId": "1bb515b3-c0e1-448f-dbca-6c09dca5926a"
      },
      "source": [
        "!gcc 11-3.c -o prog && ./prog"
      ],
      "execution_count": 107,
      "outputs": [
        {
          "output_type": "stream",
          "text": [
            "ptr = \"1234\"\n",
            "コピーするのは: LOKM\n",
            "コピーしました。\n",
            "ptr = \"LOKM\"\n"
          ],
          "name": "stdout"
        }
      ]
    }
  ]
}