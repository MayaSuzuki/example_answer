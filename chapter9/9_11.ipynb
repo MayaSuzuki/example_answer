{
  "nbformat": 4,
  "nbformat_minor": 0,
  "metadata": {
    "colab": {
      "name": "9_11",
      "provenance": []
    },
    "kernelspec": {
      "name": "python3",
      "display_name": "Python 3"
    }
  },
  "cells": [
    {
      "cell_type": "code",
      "metadata": {
        "colab": {
          "base_uri": "https://localhost:8080/"
        },
        "id": "buNGkTXELe_m",
        "outputId": "28e9b154-cc24-437a-cc49-4a8381735915"
      },
      "source": [
        "%%file 9-11.c\n",
        "\n",
        "#include<stdio.h>\n",
        "\n",
        "#define NUM 100\n",
        "#define LEN 128\n",
        "\n",
        "void put_strary(const char s[][LEN], int n)\n",
        "{\n",
        "    int i;\n",
        "    for(i = 0; i < n; i++){\n",
        "        printf(\"cs[%d] = \\\"%s\\\"\\n\", i, s[i]);\n",
        "    }\n",
        "}\n",
        "\n",
        "int checkstr(int i, const char str[][LEN]){\n",
        "    for(int j = 0; j < 5; j++){\n",
        "        if(str[i][j] != '$'){\n",
        "            return 0;\n",
        "        }\n",
        "    }\n",
        "    return 1;\n",
        "}\n",
        "\n",
        "int read_str(const char s[][LEN], int n){\n",
        "    int tag = n;\n",
        "\n",
        "    for(int i = 0; i < n; i++){\n",
        "        printf(\"cs[%d] : \", i);\n",
        "        scanf(\"%s\", s[i]);\n",
        "        \n",
        "        if(checkstr(i, s)){\n",
        "            tag = i;\n",
        "            return tag;\n",
        "        }\n",
        "    }\n",
        "    return tag;\n",
        "}\n",
        "\n",
        "\n",
        "int main() {\n",
        "    int tag;\n",
        "    char cs[NUM][LEN];\n",
        "\n",
        "    tag = read_str(cs, NUM);\n",
        "    put_strary(cs, tag);\n",
        "    \n",
        "    return 0;\n",
        "}"
      ],
      "execution_count": 150,
      "outputs": [
        {
          "output_type": "stream",
          "text": [
            "Overwriting 9-11.c\n"
          ],
          "name": "stdout"
        }
      ]
    },
    {
      "cell_type": "code",
      "metadata": {
        "colab": {
          "base_uri": "https://localhost:8080/"
        },
        "id": "Xlq99QrTMBWw",
        "outputId": "d9b5a72c-c5dd-49bd-fd97-2f0cd675bce0"
      },
      "source": [
        "!gcc 9-11.c -o prog && ./prog"
      ],
      "execution_count": 151,
      "outputs": [
        {
          "output_type": "stream",
          "text": [
            "\u001b[01m\u001b[K9-11.c:\u001b[m\u001b[K In function ‘\u001b[01m\u001b[Kread_str\u001b[m\u001b[K’:\n",
            "\u001b[01m\u001b[K9-11.c:29:9:\u001b[m\u001b[K \u001b[01;35m\u001b[Kwarning: \u001b[m\u001b[Kwriting into constant object (argument 2) [\u001b[01;35m\u001b[K-Wformat=\u001b[m\u001b[K]\n",
            "         \u001b[01;35m\u001b[Kscanf\u001b[m\u001b[K(\"%s\", s[i]);\n",
            "         \u001b[01;35m\u001b[K^~~~~\u001b[m\u001b[K\n",
            "cs[0] : Turvon\n",
            "cs[1] : NA\n",
            "cs[2] : DHPC\n",
            "cs[3] : $$$$$\n",
            "cs[0] = \"Turvon\"\n",
            "cs[1] = \"NA\"\n",
            "cs[2] = \"DHPC\"\n"
          ],
          "name": "stdout"
        }
      ]
    }
  ]
}