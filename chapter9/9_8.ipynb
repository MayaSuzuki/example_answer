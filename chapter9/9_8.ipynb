{
  "nbformat": 4,
  "nbformat_minor": 0,
  "metadata": {
    "colab": {
      "name": "9_8",
      "provenance": []
    },
    "kernelspec": {
      "name": "python3",
      "display_name": "Python 3"
    }
  },
  "cells": [
    {
      "cell_type": "code",
      "metadata": {
        "colab": {
          "base_uri": "https://localhost:8080/"
        },
        "id": "buNGkTXELe_m",
        "outputId": "ccce70d1-2285-4bc9-b5d0-53bd63623b9b"
      },
      "source": [
        "%%file 9-8.c\n",
        "\n",
        "#include<stdio.h>\n",
        "\n",
        "void put_stringr(const char s[]){\n",
        "    int str_len = 0;\n",
        "\n",
        "    for(int i = 0; s[i] != '\\0'; i++){\n",
        "        str_len++;\n",
        "    }\n",
        "\n",
        "    while(str_len -- > 0){\n",
        "       printf(\"%c\", s[str_len]);\n",
        "    }\n",
        "}\n",
        "\n",
        "int main() {\n",
        "\n",
        "    printf(\"文字列を反転します\");\n",
        "    put_stringr(\"ABC\");\n",
        "    \n",
        "    return 0;\n",
        "}"
      ],
      "execution_count": 85,
      "outputs": [
        {
          "output_type": "stream",
          "text": [
            "Overwriting 9-8.c\n"
          ],
          "name": "stdout"
        }
      ]
    },
    {
      "cell_type": "code",
      "metadata": {
        "colab": {
          "base_uri": "https://localhost:8080/"
        },
        "id": "Xlq99QrTMBWw",
        "outputId": "14617594-e8fe-4220-aba5-d8811632c7d7"
      },
      "source": [
        "!gcc 9-8.c -o prog && ./prog"
      ],
      "execution_count": 86,
      "outputs": [
        {
          "output_type": "stream",
          "text": [
            "文字列を反転しますCBA"
          ],
          "name": "stdout"
        }
      ]
    }
  ]
}