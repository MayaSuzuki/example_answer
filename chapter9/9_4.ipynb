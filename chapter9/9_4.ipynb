{
  "nbformat": 4,
  "nbformat_minor": 0,
  "metadata": {
    "colab": {
      "name": "9_4",
      "provenance": []
    },
    "kernelspec": {
      "name": "python3",
      "display_name": "Python 3"
    }
  },
  "cells": [
    {
      "cell_type": "code",
      "metadata": {
        "colab": {
          "base_uri": "https://localhost:8080/"
        },
        "id": "buNGkTXELe_m",
        "outputId": "d3b23c5b-d155-4971-decc-eb39f39d945e"
      },
      "source": [
        "%%file 9-4.c\n",
        "\n",
        "#include<stdio.h>\n",
        "\n",
        "void null_string(char s[]){\n",
        "    s[0] = '\\0';\n",
        "}\n",
        "\n",
        "int main() {\n",
        "    char str[] = \"ABC\";\n",
        "\n",
        "    printf(\"<%s>\\n\", str);\n",
        "    null_string(str);\n",
        "    printf(\"<%s>\\n\", str);\n",
        "\n",
        "    return 0;\n",
        "}"
      ],
      "execution_count": 47,
      "outputs": [
        {
          "output_type": "stream",
          "text": [
            "Overwriting 9-4.c\n"
          ],
          "name": "stdout"
        }
      ]
    },
    {
      "cell_type": "code",
      "metadata": {
        "colab": {
          "base_uri": "https://localhost:8080/"
        },
        "id": "Xlq99QrTMBWw",
        "outputId": "4d2af40a-ffe7-4b0a-e6a5-dc0ecb99f517"
      },
      "source": [
        "!gcc 9-4.c -o prog && ./prog"
      ],
      "execution_count": 48,
      "outputs": [
        {
          "output_type": "stream",
          "text": [
            "<ABC>\n",
            "<>\n"
          ],
          "name": "stdout"
        }
      ]
    }
  ]
}