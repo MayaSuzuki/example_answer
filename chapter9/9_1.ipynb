{
  "nbformat": 4,
  "nbformat_minor": 0,
  "metadata": {
    "colab": {
      "name": "9_1",
      "provenance": []
    },
    "kernelspec": {
      "name": "python3",
      "display_name": "Python 3"
    }
  },
  "cells": [
    {
      "cell_type": "code",
      "metadata": {
        "colab": {
          "base_uri": "https://localhost:8080/"
        },
        "id": "buNGkTXELe_m",
        "outputId": "fcc77ed6-5158-443d-abcf-d0055efbb028"
      },
      "source": [
        "%%file 9-1.c\n",
        "\n",
        "#include<stdio.h>\n",
        "\n",
        "int main() {\n",
        "    char str[] = \"ABC\\0DEf\";\n",
        "\n",
        "    printf(\"%s\", str);\n",
        "\n",
        "    return 0;\n",
        "}"
      ],
      "execution_count": 1,
      "outputs": [
        {
          "output_type": "stream",
          "text": [
            "Writing 9-1.c\n"
          ],
          "name": "stdout"
        }
      ]
    },
    {
      "cell_type": "code",
      "metadata": {
        "colab": {
          "base_uri": "https://localhost:8080/"
        },
        "id": "Xlq99QrTMBWw",
        "outputId": "b7684e47-2556-4ff6-c0df-8f6ce5f4f37d"
      },
      "source": [
        "!gcc 9-1.c -o prog && ./prog"
      ],
      "execution_count": 2,
      "outputs": [
        {
          "output_type": "stream",
          "text": [
            "ABC"
          ],
          "name": "stdout"
        }
      ]
    }
  ]
}