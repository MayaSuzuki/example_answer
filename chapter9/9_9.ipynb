{
  "nbformat": 4,
  "nbformat_minor": 0,
  "metadata": {
    "colab": {
      "name": "9_9",
      "provenance": []
    },
    "kernelspec": {
      "name": "python3",
      "display_name": "Python 3"
    }
  },
  "cells": [
    {
      "cell_type": "code",
      "metadata": {
        "colab": {
          "base_uri": "https://localhost:8080/"
        },
        "id": "buNGkTXELe_m",
        "outputId": "ac90fced-2c4c-4b46-9c66-9205cb7a9aad"
      },
      "source": [
        "%%file 9-9.c\n",
        "\n",
        "#include<stdio.h>\n",
        "\n",
        "void rev_string( char s[]){\n",
        "    int i, len = 0;\n",
        "\n",
        "    for(i = 0; s[i] != '\\0'; i++){\n",
        "        len++;\n",
        "    }\n",
        "\n",
        "    for(i = 0; i < len / 2; i++){\n",
        "        char temp = s[i];\n",
        "        s[i] = s[len - i - 1];\n",
        "        s[len - i - 1] = temp;\n",
        "    }\n",
        "}\n",
        "\n",
        "int main() {\n",
        "    char str[10];\n",
        "\n",
        "    printf(\"文字列を入力してください\");\n",
        "    scanf(\"%s\", str);\n",
        "\n",
        "    printf(\"文字列を反転したものに更新しました\\n\");\n",
        "    rev_string(str);\n",
        "\n",
        "    printf(\"%s\", str);\n",
        "    \n",
        "    return 0;\n",
        "}"
      ],
      "execution_count": 101,
      "outputs": [
        {
          "output_type": "stream",
          "text": [
            "Writing 9-9.c\n"
          ],
          "name": "stdout"
        }
      ]
    },
    {
      "cell_type": "code",
      "metadata": {
        "colab": {
          "base_uri": "https://localhost:8080/"
        },
        "id": "Xlq99QrTMBWw",
        "outputId": "f1ddc7a7-cb07-441e-92b3-2b7acc7c6cb8"
      },
      "source": [
        "!gcc 9-9.c -o prog && ./prog"
      ],
      "execution_count": 102,
      "outputs": [
        {
          "output_type": "stream",
          "text": [
            "文字列を入力してくださいABC\n",
            "文字列を反転したものに更新しました\n",
            "CBA"
          ],
          "name": "stdout"
        }
      ]
    }
  ]
}