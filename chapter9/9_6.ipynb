{
  "nbformat": 4,
  "nbformat_minor": 0,
  "metadata": {
    "colab": {
      "name": "9_6",
      "provenance": []
    },
    "kernelspec": {
      "name": "python3",
      "display_name": "Python 3"
    }
  },
  "cells": [
    {
      "cell_type": "code",
      "metadata": {
        "colab": {
          "base_uri": "https://localhost:8080/"
        },
        "id": "buNGkTXELe_m",
        "outputId": "f312042a-75e4-498a-b503-a96eadf5221f"
      },
      "source": [
        "%%file 9-6.c\n",
        "\n",
        "#include<stdio.h>\n",
        "\n",
        "int str_chnum(const char s[], int c){\n",
        "    int count = 0;\n",
        "\n",
        "    for(int i = 0; s[i] != '\\0'; i++){\n",
        "       if(s[i] == c){\n",
        "           count++;\n",
        "       } \n",
        "    }\n",
        "    return count;\n",
        "}\n",
        "\n",
        "int main() {\n",
        "    int x;\n",
        "    char ch[10];\n",
        "\n",
        "    printf(\"文字を入力してください: \");\n",
        "    scanf(\"%s\", ch);\n",
        "\n",
        "    x = str_chnum(\"ANGERNKLNALNGAW\", ch[0]);\n",
        "    \n",
        "    printf(\"文字列に%sは%d個含まれます\", ch, x);\n",
        "  \n",
        "\n",
        "    return 0;\n",
        "}"
      ],
      "execution_count": 71,
      "outputs": [
        {
          "output_type": "stream",
          "text": [
            "Overwriting 9-6.c\n"
          ],
          "name": "stdout"
        }
      ]
    },
    {
      "cell_type": "code",
      "metadata": {
        "colab": {
          "base_uri": "https://localhost:8080/"
        },
        "id": "Xlq99QrTMBWw",
        "outputId": "1a346748-eb69-4d42-e5d3-b6596e0e36fe"
      },
      "source": [
        "!gcc 9-6.c -o prog && ./prog"
      ],
      "execution_count": 72,
      "outputs": [
        {
          "output_type": "stream",
          "text": [
            "文字を入力してください: A\n",
            "文字列にAは3個含まれます"
          ],
          "name": "stdout"
        }
      ]
    }
  ]
}