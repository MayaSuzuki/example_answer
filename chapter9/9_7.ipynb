{
  "nbformat": 4,
  "nbformat_minor": 0,
  "metadata": {
    "colab": {
      "name": "9_7",
      "provenance": []
    },
    "kernelspec": {
      "name": "python3",
      "display_name": "Python 3"
    }
  },
  "cells": [
    {
      "cell_type": "code",
      "metadata": {
        "colab": {
          "base_uri": "https://localhost:8080/"
        },
        "id": "buNGkTXELe_m",
        "outputId": "9ec924bb-2ec2-4b75-8d6d-533e6a4ea2ae"
      },
      "source": [
        "%%file 9-7.c\n",
        "\n",
        "#include<stdio.h>\n",
        "\n",
        "void put_stringn(const char s[], int n){\n",
        "    for(int i = 0; i < n; i++){\n",
        "       printf(\"%s\", s);\n",
        "    }\n",
        "}\n",
        "\n",
        "int main() {\n",
        "    int x;\n",
        "\n",
        "    printf(\"回数を入力してください: \");\n",
        "    scanf(\"%d\", &x);\n",
        "\n",
        "    put_stringn(\"ABC\", x);\n",
        "    \n",
        "    return 0;\n",
        "}"
      ],
      "execution_count": 77,
      "outputs": [
        {
          "output_type": "stream",
          "text": [
            "Overwriting 9-7.c\n"
          ],
          "name": "stdout"
        }
      ]
    },
    {
      "cell_type": "code",
      "metadata": {
        "colab": {
          "base_uri": "https://localhost:8080/"
        },
        "id": "Xlq99QrTMBWw",
        "outputId": "33050407-4f1d-420b-d553-8a6e103f26a3"
      },
      "source": [
        "!gcc 9-7.c -o prog && ./prog"
      ],
      "execution_count": 79,
      "outputs": [
        {
          "output_type": "stream",
          "text": [
            "回数を入力してください: 5\n",
            "ABCABCABCABCABC"
          ],
          "name": "stdout"
        }
      ]
    }
  ]
}