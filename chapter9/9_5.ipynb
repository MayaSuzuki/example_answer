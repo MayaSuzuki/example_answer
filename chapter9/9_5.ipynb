{
  "nbformat": 4,
  "nbformat_minor": 0,
  "metadata": {
    "colab": {
      "name": "9_5",
      "provenance": []
    },
    "kernelspec": {
      "name": "python3",
      "display_name": "Python 3"
    }
  },
  "cells": [
    {
      "cell_type": "code",
      "metadata": {
        "colab": {
          "base_uri": "https://localhost:8080/"
        },
        "id": "buNGkTXELe_m",
        "outputId": "0fb9abf3-ed31-47f4-84b4-a5d51c48c591"
      },
      "source": [
        "%%file 9-5.c\n",
        "\n",
        "#include<stdio.h>\n",
        "\n",
        "int str_char(const char s[], int c){\n",
        "    for(int i = 0; s[i] != '\\0'; i++){\n",
        "       if(s[i] == c){\n",
        "           return i;\n",
        "       } \n",
        "    }\n",
        "    return -1;\n",
        "}\n",
        "\n",
        "int main() {\n",
        "    int x;\n",
        "    char ch[10];\n",
        "\n",
        "    printf(\"文字を入力してください: \");\n",
        "    scanf(\"%s\", ch);\n",
        "\n",
        "    x = str_char(\"ABC\", ch[0]);\n",
        "    \n",
        "    if(x == -1){\n",
        "        printf(\"%sは文字列に含まれません\", ch);\n",
        "    }else{\n",
        "        printf(\"str[%d]が%sです\", x, ch);\n",
        "    }\n",
        "    \n",
        "\n",
        "    return 0;\n",
        "}"
      ],
      "execution_count": 60,
      "outputs": [
        {
          "output_type": "stream",
          "text": [
            "Overwriting 9-5.c\n"
          ],
          "name": "stdout"
        }
      ]
    },
    {
      "cell_type": "code",
      "metadata": {
        "colab": {
          "base_uri": "https://localhost:8080/"
        },
        "id": "Xlq99QrTMBWw",
        "outputId": "c279522d-8618-46dc-e96b-63a32ef35c4e"
      },
      "source": [
        "!gcc 9-5.c -o prog && ./prog"
      ],
      "execution_count": 63,
      "outputs": [
        {
          "output_type": "stream",
          "text": [
            "文字を入力してください: C\n",
            "str[2]がCです"
          ],
          "name": "stdout"
        }
      ]
    },
    {
      "cell_type": "code",
      "metadata": {
        "colab": {
          "base_uri": "https://localhost:8080/"
        },
        "id": "qMkKinZYa3YN",
        "outputId": "20ae86ee-19d5-4a06-e761-3c4030bf297d"
      },
      "source": [
        "!gcc 9-5.c -o prog && ./prog"
      ],
      "execution_count": 62,
      "outputs": [
        {
          "output_type": "stream",
          "text": [
            "文字を入力してください: D\n",
            "Dは文字列に含まれません"
          ],
          "name": "stdout"
        }
      ]
    }
  ]
}