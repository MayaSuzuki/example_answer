{
  "nbformat": 4,
  "nbformat_minor": 0,
  "metadata": {
    "colab": {
      "name": "9_3",
      "provenance": []
    },
    "kernelspec": {
      "name": "python3",
      "display_name": "Python 3"
    }
  },
  "cells": [
    {
      "cell_type": "code",
      "metadata": {
        "colab": {
          "base_uri": "https://localhost:8080/"
        },
        "id": "buNGkTXELe_m",
        "outputId": "46c33292-f06f-4c9e-fd80-4200f0518098"
      },
      "source": [
        "%%file 9-3.c\n",
        "\n",
        "#include<stdio.h>\n",
        "#define STRNUM 100\n",
        "\n",
        "int checkstr(int i, char str[STRNUM][128]){\n",
        "    for(int j = 0; j < 5; j++){\n",
        "        if(str[i][j] != '$'){\n",
        "            return 0;\n",
        "        }\n",
        "    }\n",
        "    return 1;\n",
        "}\n",
        "\n",
        "int main() {\n",
        "    int i, tag;\n",
        "    char s[STRNUM][128];\n",
        "\n",
        "    for(i=0; i < STRNUM; i++) {\n",
        "        printf(\"s[%d] : \", i);\n",
        "        scanf(\"%s\", s[i]);\n",
        "        if(checkstr(i, s)){\n",
        "            tag = i;\n",
        "            break;\n",
        "        }\n",
        "    }\n",
        "\n",
        "    for(i = 0; i < tag; i++){\n",
        "        printf(\"s[%d] = \\\"%s\\\"\\n\", i, s[i]);\n",
        "    }\n",
        "\n",
        "    return 0;\n",
        "}"
      ],
      "execution_count": 43,
      "outputs": [
        {
          "output_type": "stream",
          "text": [
            "Overwriting 9-3.c\n"
          ],
          "name": "stdout"
        }
      ]
    },
    {
      "cell_type": "code",
      "metadata": {
        "colab": {
          "base_uri": "https://localhost:8080/"
        },
        "id": "Xlq99QrTMBWw",
        "outputId": "c95b8e78-e599-48af-a4b5-c1f2112661c0"
      },
      "source": [
        "!gcc 9-3.c -o prog && ./prog"
      ],
      "execution_count": 44,
      "outputs": [
        {
          "output_type": "stream",
          "text": [
            "s[0] : paul\n",
            "s[1] : john\n",
            "s[2] : george\n",
            "s[3] : $$$$$\n",
            "s[0] = \"paul\"\n",
            "s[1] = \"john\"\n",
            "s[2] = \"george\"\n"
          ],
          "name": "stdout"
        }
      ]
    }
  ]
}