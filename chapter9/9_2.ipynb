{
  "nbformat": 4,
  "nbformat_minor": 0,
  "metadata": {
    "colab": {
      "name": "9_2",
      "provenance": []
    },
    "kernelspec": {
      "name": "python3",
      "display_name": "Python 3"
    }
  },
  "cells": [
    {
      "cell_type": "code",
      "metadata": {
        "colab": {
          "base_uri": "https://localhost:8080/"
        },
        "id": "buNGkTXELe_m",
        "outputId": "a627d5dd-6490-49dd-d9bc-d24bd4c61ee0"
      },
      "source": [
        "%%file 9-2.c\n",
        "\n",
        "#include<stdio.h>\n",
        "\n",
        "int main() {\n",
        "    char s[] = \"ABC\";\n",
        "\n",
        "    s[0] = '\\0';\n",
        "    printf(\"<%s>\", s);\n",
        "\n",
        "    return 0;\n",
        "}"
      ],
      "execution_count": 24,
      "outputs": [
        {
          "output_type": "stream",
          "text": [
            "Overwriting 9-2.c\n"
          ],
          "name": "stdout"
        }
      ]
    },
    {
      "cell_type": "code",
      "metadata": {
        "colab": {
          "base_uri": "https://localhost:8080/"
        },
        "id": "Xlq99QrTMBWw",
        "outputId": "0bda65c2-1d9b-479e-dffe-f6a214f33251"
      },
      "source": [
        "!gcc 9-2.c -o prog && ./prog"
      ],
      "execution_count": 25,
      "outputs": [
        {
          "output_type": "stream",
          "text": [
            "<>"
          ],
          "name": "stdout"
        }
      ]
    }
  ]
}