{
  "nbformat": 4,
  "nbformat_minor": 0,
  "metadata": {
    "colab": {
      "name": "9_12",
      "provenance": []
    },
    "kernelspec": {
      "name": "python3",
      "display_name": "Python 3"
    }
  },
  "cells": [
    {
      "cell_type": "code",
      "metadata": {
        "colab": {
          "base_uri": "https://localhost:8080/"
        },
        "id": "buNGkTXELe_m",
        "outputId": "d543b1ae-eff5-4d47-a5cb-39051b645d8a"
      },
      "source": [
        "%%file 9-12.c\n",
        "\n",
        "#include<stdio.h>\n",
        "\n",
        "#define LEN 128\n",
        "\n",
        "void put_strary(const char s[][LEN], int n)\n",
        "{\n",
        "    int i;\n",
        "    for(i = 0; i < n; i++){\n",
        "        printf(\"cs[%d] = \\\"%s\\\"\\n\", i, s[i]);\n",
        "    }\n",
        "}\n",
        "\n",
        "void rev_string( char s[]){\n",
        "    int i, len = 0;\n",
        "\n",
        "    for(i = 0; s[i] != '\\0'; i++){\n",
        "        len++;\n",
        "    }\n",
        "\n",
        "    for(i = 0; i < len / 2; i++){\n",
        "        char temp = s[i];\n",
        "        s[i] = s[len - i - 1];\n",
        "        s[len - i - 1] = temp;\n",
        "    }\n",
        "}\n",
        "\n",
        "int rev_strings(char s[][LEN], int n){\n",
        "\n",
        "    for(int i = 0; i < n; i++){\n",
        "        rev_string(s[i]);\n",
        "    }\n",
        "}\n",
        "\n",
        "\n",
        "int main() {\n",
        "    int n;\n",
        "    char s[100][LEN];\n",
        "\n",
        "    printf(\"文字列の個数入力してください\");\n",
        "    scanf(\"%d\", &n);\n",
        "\n",
        "    for(int i=0; i < n; i++) {\n",
        "        printf(\"s[%d] : \", i);\n",
        "        scanf(\"%s\", s[i]);\n",
        "    }\n",
        "\n",
        "    rev_strings(s, n);\n",
        "    put_strary(s, n);\n",
        "    \n",
        "    return 0;\n",
        "}"
      ],
      "execution_count": 158,
      "outputs": [
        {
          "output_type": "stream",
          "text": [
            "Overwriting 9-12.c\n"
          ],
          "name": "stdout"
        }
      ]
    },
    {
      "cell_type": "code",
      "metadata": {
        "colab": {
          "base_uri": "https://localhost:8080/"
        },
        "id": "Xlq99QrTMBWw",
        "outputId": "0ab35a57-e8c5-41e9-cbcf-71cee811dc71"
      },
      "source": [
        "!gcc 9-12.c -o prog && ./prog"
      ],
      "execution_count": 159,
      "outputs": [
        {
          "output_type": "stream",
          "text": [
            "文字列の個数入力してください3\n",
            "s[0] : SEC\n",
            "s[1] : ABC\n",
            "s[2] : 123\n",
            "cs[0] = \"CES\"\n",
            "cs[1] = \"CBA\"\n",
            "cs[2] = \"321\"\n"
          ],
          "name": "stdout"
        }
      ]
    }
  ]
}