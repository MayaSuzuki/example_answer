{
  "nbformat": 4,
  "nbformat_minor": 0,
  "metadata": {
    "colab": {
      "name": "9_10",
      "provenance": []
    },
    "kernelspec": {
      "name": "python3",
      "display_name": "Python 3"
    }
  },
  "cells": [
    {
      "cell_type": "code",
      "metadata": {
        "colab": {
          "base_uri": "https://localhost:8080/"
        },
        "id": "buNGkTXELe_m",
        "outputId": "ece269b4-af24-4748-c8de-d293c05de3be"
      },
      "source": [
        "%%file 9-10.c\n",
        "\n",
        "#include<stdio.h>\n",
        "\n",
        "void del_digit(char s[]){\n",
        "    int i = 0;\n",
        "    int index = 0;\n",
        "\n",
        "    while(s[i] != '\\0'){\n",
        "        if(s[i] < '0' || s[i] > '9'){\n",
        "            s[index++] = s[i];\n",
        "        }\n",
        "        i++;\n",
        "    }\n",
        "    s[index] = '\\0';\n",
        "    \n",
        "}\n",
        "\n",
        "int main() {\n",
        "    char str[10];\n",
        "\n",
        "    printf(\"文字列を入力してください\");\n",
        "    scanf(\"%s\", str);\n",
        "\n",
        "    printf(\"数字文字を削除しました\\n\");\n",
        "    del_digit(str);\n",
        "\n",
        "    printf(\"%s\", str);\n",
        "    \n",
        "    return 0;\n",
        "}"
      ],
      "execution_count": 109,
      "outputs": [
        {
          "output_type": "stream",
          "text": [
            "Overwriting 9-10.c\n"
          ],
          "name": "stdout"
        }
      ]
    },
    {
      "cell_type": "code",
      "metadata": {
        "colab": {
          "base_uri": "https://localhost:8080/"
        },
        "id": "Xlq99QrTMBWw",
        "outputId": "01632e1f-f72d-48f1-f883-bbefb3fa5db0"
      },
      "source": [
        "!gcc 9-10.c -o prog && ./prog"
      ],
      "execution_count": 110,
      "outputs": [
        {
          "output_type": "stream",
          "text": [
            "文字列を入力してくださいkh78h5hhj7\n",
            "数字文字を削除しました\n",
            "khhhhj"
          ],
          "name": "stdout"
        }
      ]
    }
  ]
}