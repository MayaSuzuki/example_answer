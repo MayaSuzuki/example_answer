{
  "nbformat": 4,
  "nbformat_minor": 0,
  "metadata": {
    "colab": {
      "name": "2-3",
      "provenance": []
    },
    "kernelspec": {
      "name": "python3",
      "display_name": "Python 3"
    }
  },
  "cells": [
    {
      "cell_type": "code",
      "metadata": {
        "id": "dozY-L1I13zU",
        "outputId": "c6a0bd6c-f58c-410d-b0dd-89b2d7f6df91",
        "colab": {
          "base_uri": "https://localhost:8080/"
        }
      },
      "source": [
        "%%file 2-3.c\n",
        "#include<stdio.h>\n",
        "\n",
        "int main() {\n",
        "    double val;\n",
        "\n",
        "    puts(\"実数を入力してください :\");\n",
        "    scanf(\"%lf\", &val);\n",
        "\n",
        "    printf(\"あなたは %f と入力しましたね。\", val);\n",
        "\n",
        "    return 0;\n",
        "}"
      ],
      "execution_count": 5,
      "outputs": [
        {
          "output_type": "stream",
          "text": [
            "Writing 2-3.c\n"
          ],
          "name": "stdout"
        }
      ]
    },
    {
      "cell_type": "code",
      "metadata": {
        "id": "N5tak6rU2Gg_",
        "outputId": "5da4b348-e9be-4294-f951-d00cf5f262b8",
        "colab": {
          "base_uri": "https://localhost:8080/"
        }
      },
      "source": [
        "!gcc 2-3.c -o prog && ./prog"
      ],
      "execution_count": 6,
      "outputs": [
        {
          "output_type": "stream",
          "text": [
            "実数を入力してください :\n",
            "5.7\n",
            "あなたは 5.700000 と入力しましたね。"
          ],
          "name": "stdout"
        }
      ]
    }
  ]
}