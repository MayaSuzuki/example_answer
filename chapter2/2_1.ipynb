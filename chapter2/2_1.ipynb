{
  "nbformat": 4,
  "nbformat_minor": 0,
  "metadata": {
    "colab": {
      "name": "2-1",
      "provenance": []
    },
    "kernelspec": {
      "name": "python3",
      "display_name": "Python 3"
    }
  },
  "cells": [
    {
      "cell_type": "code",
      "metadata": {
        "id": "dozY-L1I13zU",
        "outputId": "7150e0ee-4bae-4da5-f4e4-f9fbb384cb47",
        "colab": {
          "base_uri": "https://localhost:8080/"
        }
      },
      "source": [
        "%%file 2-1.c\n",
        "#include<stdio.h>\n",
        "\n",
        "int main() {\n",
        "    int val1, val2;\n",
        "\n",
        "    puts(\"二つの整数を入力してください。\");\n",
        "    printf(\"整数x :\");   scanf(\"%d\", &val1);\n",
        "    printf(\"整数y :\");   scanf(\"%d\", &val2);\n",
        "\n",
        "    printf(\"xの値はyの %d %%です。\", 100 * val1 / val2);\n",
        "    //val1 / val2　＊ 100 とするとint型なので少数が切り捨てられて 0% となってしまう\n",
        "\n",
        "    return 0;\n",
        "}"
      ],
      "execution_count": 1,
      "outputs": [
        {
          "output_type": "stream",
          "text": [
            "Writing 2-1.c\n"
          ],
          "name": "stdout"
        }
      ]
    },
    {
      "cell_type": "code",
      "metadata": {
        "id": "N5tak6rU2Gg_",
        "outputId": "85e0eed0-05a4-4d45-8f4d-9ae02393b4d5",
        "colab": {
          "base_uri": "https://localhost:8080/"
        }
      },
      "source": [
        "!gcc 2-1.c -o prog && ./prog"
      ],
      "execution_count": 2,
      "outputs": [
        {
          "output_type": "stream",
          "text": [
            "二つの整数を入力してください。\n",
            "整数x :4\n",
            "整数y :40\n",
            "xの値はyの 10 %です。"
          ],
          "name": "stdout"
        }
      ]
    }
  ]
}