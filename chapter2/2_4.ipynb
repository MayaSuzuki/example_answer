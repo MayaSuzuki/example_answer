{
  "nbformat": 4,
  "nbformat_minor": 0,
  "metadata": {
    "colab": {
      "name": "2-4",
      "provenance": []
    },
    "kernelspec": {
      "name": "python3",
      "display_name": "Python 3"
    }
  },
  "cells": [
    {
      "cell_type": "code",
      "metadata": {
        "id": "dozY-L1I13zU",
        "outputId": "ef92afe4-2876-47d2-c651-d60157581f40",
        "colab": {
          "base_uri": "https://localhost:8080/"
        }
      },
      "source": [
        "%%file 2-4.c\n",
        "#include<stdio.h>\n",
        "\n",
        "int main() {\n",
        "    int n1, n2;\n",
        "    double d1, d2;\n",
        "\n",
        "    n1 = 5;\n",
        "    n2 = 3;\n",
        "    d1 = 3.14;\n",
        "    d2 = 7.77;\n",
        "\n",
        "    printf(\"5 * 2 = %d\\n\", 5 * 2);\n",
        "    printf(\"5 / 2 = %d\\n\", 5 / 2);\n",
        "    printf(\"5 * n1 = %d\\n\", 5 * n1);\n",
        "    printf(\"5 / n1 = %d\\n\", 5 / n1);\n",
        "    printf(\"n1 * n2 = %d\\n\", n1 * n2);\n",
        "    printf(\"n1 / n2 = %d\\n\", n1 / n2);\n",
        "\n",
        "    printf(\"5 * 2.5 = %f\\n\", 5 * 2.5);\n",
        "    printf(\"5 / 2.5 = %f\\n\", 5 / 2.5);\n",
        "    printf(\"5 * d2 = %f\\n\", 5 * d2);\n",
        "    printf(\"5 / d2 = %f\\n\", 5 / d2);\n",
        "\n",
        "    printf(\"5.3 * 2.5 = %f\\n\", 5.3 * 2.5);\n",
        "    printf(\"5.3 / 2.5 = %f\\n\", 5.3 / 2.5);\n",
        "    printf(\"5.3 * d1 = %f\\n\", 5.3 * d1);\n",
        "    printf(\"5.3 / d1 = %f\\n\", 5.3 / d1);\n",
        "    printf(\"d1 * d2 = %f\\n\", d1 * d2);\n",
        "    printf(\"d1 / d2 = %f\\n\", d1 / d2);\n",
        "\n",
        "    return 0;\n",
        "}"
      ],
      "execution_count": 7,
      "outputs": [
        {
          "output_type": "stream",
          "text": [
            "Writing 2-4.c\n"
          ],
          "name": "stdout"
        }
      ]
    },
    {
      "cell_type": "code",
      "metadata": {
        "id": "N5tak6rU2Gg_",
        "outputId": "5f57579e-65fa-4888-f7df-174ef8779505",
        "colab": {
          "base_uri": "https://localhost:8080/"
        }
      },
      "source": [
        "!gcc 2-4.c -o prog && ./prog"
      ],
      "execution_count": 8,
      "outputs": [
        {
          "output_type": "stream",
          "text": [
            "5 * 2 = 10\n",
            "5 / 2 = 2\n",
            "5 * n1 = 25\n",
            "5 / n1 = 1\n",
            "n1 * n2 = 15\n",
            "n1 / n2 = 1\n",
            "5 * 2.5 = 12.500000\n",
            "5 / 2.5 = 2.000000\n",
            "5 * d2 = 38.850000\n",
            "5 / d2 = 0.643501\n",
            "5.3 * 2.5 = 13.250000\n",
            "5.3 / 2.5 = 2.120000\n",
            "5.3 * d1 = 16.642000\n",
            "5.3 / d1 = 1.687898\n",
            "d1 * d2 = 24.397800\n",
            "d1 / d2 = 0.404118\n"
          ],
          "name": "stdout"
        }
      ]
    }
  ]
}