{
  "nbformat": 4,
  "nbformat_minor": 0,
  "metadata": {
    "colab": {
      "name": "2-6",
      "provenance": []
    },
    "kernelspec": {
      "name": "python3",
      "display_name": "Python 3"
    }
  },
  "cells": [
    {
      "cell_type": "code",
      "metadata": {
        "id": "dozY-L1I13zU",
        "outputId": "89d6e1ef-0f3e-4ad4-96a1-c1845db32e98",
        "colab": {
          "base_uri": "https://localhost:8080/"
        }
      },
      "source": [
        "%%file 2-6.c\n",
        "#include<stdio.h>\n",
        "\n",
        "int main() {\n",
        "    double height;\n",
        "\n",
        "    puts(\"身長を入力してください。\");\n",
        "    scanf(\"%lf\", &height);\n",
        "\n",
        "    printf(\"標準体重は %.1f です。\", (height - 100) * 0.9);\n",
        "    \n",
        "\n",
        "    return 0;\n",
        "}"
      ],
      "execution_count": 13,
      "outputs": [
        {
          "output_type": "stream",
          "text": [
            "Overwriting 2-6.c\n"
          ],
          "name": "stdout"
        }
      ]
    },
    {
      "cell_type": "code",
      "metadata": {
        "id": "N5tak6rU2Gg_",
        "outputId": "6f4db3df-09a8-491a-af35-7848a8964838",
        "colab": {
          "base_uri": "https://localhost:8080/"
        }
      },
      "source": [
        "!gcc 2-6.c -o prog && ./prog"
      ],
      "execution_count": 14,
      "outputs": [
        {
          "output_type": "stream",
          "text": [
            "身長を入力してください。\n",
            "156\n",
            "標準体重は 50.4 です。"
          ],
          "name": "stdout"
        }
      ]
    }
  ]
}