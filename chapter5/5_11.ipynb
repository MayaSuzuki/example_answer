{
  "nbformat": 4,
  "nbformat_minor": 0,
  "metadata": {
    "colab": {
      "name": "5_11.ipynb",
      "provenance": []
    },
    "kernelspec": {
      "name": "python3",
      "display_name": "Python 3"
    }
  },
  "cells": [
    {
      "cell_type": "code",
      "metadata": {
        "id": "dozY-L1I13zU",
        "outputId": "bbf427ec-8e13-4d32-a897-77831f9cd1e9",
        "colab": {
          "base_uri": "https://localhost:8080/"
        }
      },
      "source": [
        "%%file 5-11.c\n",
        "#include<stdio.h>\n",
        "#define NINZU 6  /*人数*/\n",
        "\n",
        "int main() {\n",
        "\n",
        "    int i, j;\n",
        "    int tensu[NINZU][2];        /*点数*/\n",
        "    int student[NINZU] = {0};   /*各学生の点数の合計*/\n",
        "    int subject[2] = {0};       /*各科目の点数の合計*/\n",
        "\n",
        "    printf(\"%d 人の点数を入力してください。\\n\", NINZU);\n",
        "\n",
        "    for(i = 0; i < NINZU; i++) {\n",
        "        printf(\"%2d番--- 国語 : \", i + 1);\n",
        "        scanf(\"%d\", &tensu[i][0]);\n",
        "        printf(\"\\t数学 : \", i + 1);\n",
        "        scanf(\"%d\", &tensu[i][1]);\n",
        "\n",
        "        student[i] = tensu[i][0] + tensu[i][1];  /*各生徒の合計*/\n",
        "        subject[0] += tensu[i][0];  /*国語の合計*/  \n",
        "        subject[1] += tensu[i][1];  /*数学の合計*/\n",
        "    }\n",
        "\n",
        "    printf(\"----------------------------\\n\");\n",
        "    printf(\"番号  国語  数学  合計  平均\\n\");\n",
        "    printf(\"----------------------------\\n\");\n",
        "\n",
        "    for(i = 0; i < NINZU; i++)\n",
        "      printf(\"%3d%6d%6d%6d%7.1f\\n\", i + 1, tensu[i][0], tensu[i][1], student[i], (double)student[i] / 2);\n",
        "    \n",
        "    printf(\"----------------------------\\n\");\n",
        "    printf(\"合計%5d%6d%6d\\n\", subject[0], subject[1], subject[0] + subject[1]);\n",
        "    printf(\"平均 %6.1f%6.1f%6.1f\\n\", (double)subject[0] / NINZU, (double)subject[1] / NINZU, (double)(subject[0] + subject[1]) / NINZU);\n",
        "    printf(\"----------------------------\\n\");\n",
        "\n",
        "    return 0;\n",
        "}"
      ],
      "execution_count": 20,
      "outputs": [
        {
          "output_type": "stream",
          "text": [
            "Overwriting 5-11.c\n"
          ],
          "name": "stdout"
        }
      ]
    },
    {
      "cell_type": "code",
      "metadata": {
        "id": "Wfn2y5gVl6Ot",
        "outputId": "e42dd1c2-171e-429a-efa8-bc6189898625",
        "colab": {
          "base_uri": "https://localhost:8080/"
        }
      },
      "source": [
        "!gcc 5-11.c -o prog && ./prog"
      ],
      "execution_count": 21,
      "outputs": [
        {
          "output_type": "stream",
          "text": [
            "\u001b[01m\u001b[K5-11.c:\u001b[m\u001b[K In function ‘\u001b[01m\u001b[Kmain\u001b[m\u001b[K’:\n",
            "\u001b[01m\u001b[K5-11.c:16:16:\u001b[m\u001b[K \u001b[01;35m\u001b[Kwarning: \u001b[m\u001b[Ktoo many arguments for format [\u001b[01;35m\u001b[K-Wformat-extra-args\u001b[m\u001b[K]\n",
            "         printf(\u001b[01;35m\u001b[K\"\\t数学 : \"\u001b[m\u001b[K, i + 1);\n",
            "                \u001b[01;35m\u001b[K^~~~~~~~~~~~~\u001b[m\u001b[K\n",
            "6 人の点数を入力してください。\n",
            " 1番--- 国語 : 23\n",
            "\t数学 : 37\n",
            " 2番--- 国語 : 56\n",
            "\t数学 : 87\n",
            " 3番--- 国語 : 100\n",
            "\t数学 : 58\n",
            " 4番--- 国語 : 64\n",
            "\t数学 : 18\n",
            " 5番--- 国語 : 95\n",
            "\t数学 : 26\n",
            " 6番--- 国語 : 15\n",
            "\t数学 : 35\n",
            "----------------------------\n",
            "番号  国語  数学  合計  平均\n",
            "----------------------------\n",
            "  1    23    37    60   30.0\n",
            "  2    56    87   143   71.5\n",
            "  3   100    58   158   79.0\n",
            "  4    64    18    82   41.0\n",
            "  5    95    26   121   60.5\n",
            "  6    15    35    50   25.0\n",
            "----------------------------\n",
            "合計  353   261   614\n",
            "平均   58.8  43.5 102.3\n",
            "----------------------------\n"
          ],
          "name": "stdout"
        }
      ]
    }
  ]
}