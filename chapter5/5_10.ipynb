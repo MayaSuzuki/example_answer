{
  "nbformat": 4,
  "nbformat_minor": 0,
  "metadata": {
    "colab": {
      "name": "5_10.ipynb",
      "provenance": []
    },
    "kernelspec": {
      "name": "python3",
      "display_name": "Python 3"
    }
  },
  "cells": [
    {
      "cell_type": "code",
      "metadata": {
        "id": "dozY-L1I13zU",
        "outputId": "64cdcaf5-0c9a-4af7-fb89-ba5b80f00895",
        "colab": {
          "base_uri": "https://localhost:8080/"
        }
      },
      "source": [
        "%%file 5-10.c\n",
        "#include<stdio.h>\n",
        "\n",
        "int main() {\n",
        "\n",
        "    int i, j, k;\n",
        "    int a[4][3];\n",
        "    int b[3][4];\n",
        "    int c[4][4];  /*計算結果*/\n",
        "\n",
        "    printf(\"4行3列のaと3行4列のbの積をcに求めます。\\n\");\n",
        "\n",
        "    puts(\"aの各要素の値を入力してください。\");\n",
        "    for(i = 0; i < 4; i++) {\n",
        "        for(j = 0; j < 3; j++) {\n",
        "            printf(\"a[%d][%d] : \", i, j);\n",
        "            scanf(\"%d\", &a[i][j]);\n",
        "        }\n",
        "    }\n",
        "\n",
        "    puts(\"bの各要素の値を入力してください。\");\n",
        "    for(i = 0; i < 3; i++) {\n",
        "        for(j = 0; j < 4; j++) {\n",
        "            printf(\"b[%d][%d] : \", i, j);\n",
        "            scanf(\"%d\", &b[i][j]);\n",
        "        }\n",
        "    }\n",
        "\n",
        "    for(i = 0; i < 4; i++) {\n",
        "        for(j = 0; j < 4; j++) {\n",
        "            c[i][j] = 0;\n",
        "            for(k = 0; k < 3; k++)\n",
        "              c[i][j] += a[i][k] * b[k][j];\n",
        "        }\n",
        "    }\n",
        "\n",
        "    puts(\"cの値は以下の通りです。\");\n",
        "    for(i = 0; i < 4; i++){\n",
        "        for(j = 0; j < 4; j++)\n",
        "          printf(\"c[%d][%d] = %d\\n\",i , j, c[i][j]);\n",
        "    }\n",
        "\n",
        "    return 0;\n",
        "}"
      ],
      "execution_count": null,
      "outputs": [
        {
          "output_type": "stream",
          "text": [
            "Overwriting 5-10.c\n"
          ],
          "name": "stdout"
        }
      ]
    },
    {
      "cell_type": "code",
      "metadata": {
        "id": "Wfn2y5gVl6Ot",
        "outputId": "f5fd1a8d-c9b5-45ce-ad80-7a3eaa13a28e",
        "colab": {
          "base_uri": "https://localhost:8080/"
        }
      },
      "source": [
        "!gcc 5-10.c -o prog && ./prog"
      ],
      "execution_count": null,
      "outputs": [
        {
          "output_type": "stream",
          "text": [
            "4行3列のaと3行4列のbの積をcに求めます。\n",
            "aの各要素の値を入力してください。\n",
            "a[0][0] : 1\n",
            "a[0][1] : 2\n",
            "a[0][2] : 3\n",
            "a[1][0] : 4\n",
            "a[1][1] : 5\n",
            "a[1][2] : 6\n",
            "a[2][0] : 7\n",
            "a[2][1] : 8\n",
            "a[2][2] : 9\n",
            "a[3][0] : 10\n",
            "a[3][1] : 11\n",
            "a[3][2] : 12\n",
            "bの各要素の値を入力してください。\n",
            "b[0][0] : 12\n",
            "b[0][1] : 11\n",
            "b[0][2] : 10\n",
            "b[0][3] : 9\n",
            "b[1][0] : 8\n",
            "b[1][1] : 7\n",
            "b[1][2] : 6\n",
            "b[1][3] : 5\n",
            "b[2][0] : 4\n",
            "b[2][1] : 3\n",
            "b[2][2] : 2\n",
            "b[2][3] : 1\n",
            "cの値は以下の通りです。\n",
            "c[0][0] = 40\n",
            "c[0][1] = 34\n",
            "c[0][2] = 28\n",
            "c[0][3] = 22\n",
            "c[1][0] = 112\n",
            "c[1][1] = 97\n",
            "c[1][2] = 82\n",
            "c[1][3] = 67\n",
            "c[2][0] = 184\n",
            "c[2][1] = 160\n",
            "c[2][2] = 136\n",
            "c[2][3] = 112\n",
            "c[3][0] = 256\n",
            "c[3][1] = 223\n",
            "c[3][2] = 190\n",
            "c[3][3] = 157\n"
          ],
          "name": "stdout"
        }
      ]
    }
  ]
}