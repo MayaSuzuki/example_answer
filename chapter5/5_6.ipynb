{
  "nbformat": 4,
  "nbformat_minor": 0,
  "metadata": {
    "colab": {
      "name": "5_6.ipynb",
      "provenance": []
    },
    "kernelspec": {
      "name": "python3",
      "display_name": "Python 3"
    }
  },
  "cells": [
    {
      "cell_type": "code",
      "metadata": {
        "id": "dozY-L1I13zU",
        "outputId": "6fefb2f6-777a-4aef-e8f7-545ca05ccec3",
        "colab": {
          "base_uri": "https://localhost:8080/"
        }
      },
      "source": [
        "%%file 5-6.c\n",
        "#include<stdio.h>\n",
        "int main() {\n",
        "\n",
        "    double a;\n",
        "    int b;\n",
        "\n",
        "    a = b = 1.5;  /*int型の b に1.5 を代入してから double型の a に b を代入*/\n",
        "\n",
        "    printf(\"a = %.1f b = %d\\n\", a, b);\n",
        "    /*b = 1.5 は小数点切り捨てで b = 1  a = b は 1になってしまう*/\n",
        "\n",
        "    return 0;\n",
        "}"
      ],
      "execution_count": 54,
      "outputs": [
        {
          "output_type": "stream",
          "text": [
            "Writing 5-6.c\n"
          ],
          "name": "stdout"
        }
      ]
    },
    {
      "cell_type": "code",
      "metadata": {
        "id": "N5tak6rU2Gg_",
        "outputId": "e4fcdcd8-38e4-4b8f-f375-60647b7703a4",
        "colab": {
          "base_uri": "https://localhost:8080/"
        }
      },
      "source": [
        "!gcc 5-6.c -o prog && ./prog"
      ],
      "execution_count": 55,
      "outputs": [
        {
          "output_type": "stream",
          "text": [
            "a = 1.0 b = 1\n"
          ],
          "name": "stdout"
        }
      ]
    }
  ]
}