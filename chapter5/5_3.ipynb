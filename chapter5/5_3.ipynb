{
  "nbformat": 4,
  "nbformat_minor": 0,
  "metadata": {
    "colab": {
      "name": "5_3.ipynb",
      "provenance": []
    },
    "kernelspec": {
      "name": "python3",
      "display_name": "Python 3"
    }
  },
  "cells": [
    {
      "cell_type": "code",
      "metadata": {
        "id": "dozY-L1I13zU",
        "outputId": "a8df4b41-138e-488a-a05b-aab3547d3306",
        "colab": {
          "base_uri": "https://localhost:8080/"
        }
      },
      "source": [
        "%%file 5-3.c\n",
        "#include<stdio.h>\n",
        "\n",
        "int main() {\n",
        "\n",
        "    int i;\n",
        "    int v[5] = {5, 4, 3, 2, 1};\n",
        "\n",
        "    for(i = 0; i < 5; i++)\n",
        "      printf(\"v[%d] = %d\\n\", i, v[i]);\n",
        "\n",
        "    return 0;\n",
        "}"
      ],
      "execution_count": 40,
      "outputs": [
        {
          "output_type": "stream",
          "text": [
            "Writing 5-3.c\n"
          ],
          "name": "stdout"
        }
      ]
    },
    {
      "cell_type": "code",
      "metadata": {
        "id": "N5tak6rU2Gg_",
        "outputId": "b4c70e3c-2be0-4b88-d4fd-b3bf215fe708",
        "colab": {
          "base_uri": "https://localhost:8080/"
        }
      },
      "source": [
        "!gcc 5-3.c -o prog && ./prog"
      ],
      "execution_count": 41,
      "outputs": [
        {
          "output_type": "stream",
          "text": [
            "v[0] = 5\n",
            "v[1] = 4\n",
            "v[2] = 3\n",
            "v[3] = 2\n",
            "v[4] = 1\n"
          ],
          "name": "stdout"
        }
      ]
    }
  ]
}