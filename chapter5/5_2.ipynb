{
  "nbformat": 4,
  "nbformat_minor": 0,
  "metadata": {
    "colab": {
      "name": "5_2.ipynb",
      "provenance": []
    },
    "kernelspec": {
      "name": "python3",
      "display_name": "Python 3"
    }
  },
  "cells": [
    {
      "cell_type": "code",
      "metadata": {
        "id": "dozY-L1I13zU",
        "outputId": "ca1b6221-e1d5-4155-df66-b0e0c2b9ba4b",
        "colab": {
          "base_uri": "https://localhost:8080/"
        }
      },
      "source": [
        "%%file 5-2.c\n",
        "#include<stdio.h>\n",
        "\n",
        "int main() {\n",
        "\n",
        "    int i;\n",
        "    int v[5];\n",
        "\n",
        "    for(i = 0; i < 5; i++)\n",
        "      v[i] = 5 - i;\n",
        "\n",
        "    for(i = 0; i < 5; i++)\n",
        "      printf(\"v[%d] = %d\\n\", i, v[i]);\n",
        "\n",
        "    return 0;\n",
        "}"
      ],
      "execution_count": 37,
      "outputs": [
        {
          "output_type": "stream",
          "text": [
            "Writing 5-2.c\n"
          ],
          "name": "stdout"
        }
      ]
    },
    {
      "cell_type": "code",
      "metadata": {
        "id": "N5tak6rU2Gg_",
        "outputId": "3d0de008-20a7-474f-9912-096f03547d0c",
        "colab": {
          "base_uri": "https://localhost:8080/"
        }
      },
      "source": [
        "!gcc 5-2.c -o prog && ./prog"
      ],
      "execution_count": 38,
      "outputs": [
        {
          "output_type": "stream",
          "text": [
            "v[0] = 5\n",
            "v[1] = 4\n",
            "v[2] = 3\n",
            "v[3] = 2\n",
            "v[4] = 1\n"
          ],
          "name": "stdout"
        }
      ]
    }
  ]
}