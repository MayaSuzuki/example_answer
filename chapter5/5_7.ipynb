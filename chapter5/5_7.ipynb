{
  "nbformat": 4,
  "nbformat_minor": 0,
  "metadata": {
    "colab": {
      "name": "5_7.ipynb",
      "provenance": []
    },
    "kernelspec": {
      "name": "python3",
      "display_name": "Python 3"
    }
  },
  "cells": [
    {
      "cell_type": "code",
      "metadata": {
        "id": "dozY-L1I13zU",
        "outputId": "19985459-183f-46bc-b1a6-6fcc5314a005",
        "colab": {
          "base_uri": "https://localhost:8080/"
        }
      },
      "source": [
        "%%file 5-7.c\n",
        "#include<stdio.h>\n",
        "#define NUMBER 96  /*配列aの要素数*/\n",
        "\n",
        "int main() {\n",
        "\n",
        "    int i, num;\n",
        "    int a[NUMBER];\n",
        "\n",
        "    printf(\"データ数: \");\n",
        "    do {\n",
        "        scanf(\"%d\", &num);\n",
        "        if(num < 1 || num > NUMBER)  /*要素数を超える数を入力した場合*/\n",
        "          printf(\"\\a1～%dで入力してください:\", NUMBER);\n",
        "    }while(num < 1 || num > NUMBER);\n",
        "\n",
        "    for(i = 0; i < num; i++) {\n",
        "        printf(\"%2d番: \", i + 1);\n",
        "        scanf(\"%d\", &a[i]);\n",
        "    }\n",
        "\n",
        "    printf(\"{\");\n",
        "\n",
        "    for(i = 0; i < num - 1; i++)\n",
        "      printf(\"%d, \", a[i]);\n",
        "\n",
        "    printf(\"%d}\", a[i]);\n",
        "\n",
        "    return 0;\n",
        "}"
      ],
      "execution_count": 58,
      "outputs": [
        {
          "output_type": "stream",
          "text": [
            "Overwriting 5-7.c\n"
          ],
          "name": "stdout"
        }
      ]
    },
    {
      "cell_type": "code",
      "metadata": {
        "id": "N5tak6rU2Gg_",
        "outputId": "7478f43c-4f1e-4e58-838e-ab846803b446",
        "colab": {
          "base_uri": "https://localhost:8080/"
        }
      },
      "source": [
        "!gcc 5-7.c -o prog && ./prog"
      ],
      "execution_count": 60,
      "outputs": [
        {
          "output_type": "stream",
          "text": [
            "データ数: 97\n",
            "\u00071～96で入力してください:4\n",
            " 1番: 23\n",
            " 2番: 74\n",
            " 3番: 9\n",
            " 4番: 853\n",
            "{23, 74, 9, 853}"
          ],
          "name": "stdout"
        }
      ]
    }
  ]
}