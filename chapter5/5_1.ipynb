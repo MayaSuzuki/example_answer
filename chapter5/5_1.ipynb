{
  "nbformat": 4,
  "nbformat_minor": 0,
  "metadata": {
    "colab": {
      "name": "5_1.ipynb",
      "provenance": []
    },
    "kernelspec": {
      "name": "python3",
      "display_name": "Python 3"
    }
  },
  "cells": [
    {
      "cell_type": "code",
      "metadata": {
        "id": "dozY-L1I13zU",
        "outputId": "bc06ba6a-86e0-4802-dce6-695d0d5b34f0",
        "colab": {
          "base_uri": "https://localhost:8080/"
        }
      },
      "source": [
        "%%file 5-1.c\n",
        "#include<stdio.h>\n",
        "\n",
        "int main() {\n",
        "\n",
        "    int i;\n",
        "    int v[5];\n",
        "\n",
        "    for(i = 0; i < 5; i++)\n",
        "      v[i] = i;\n",
        "\n",
        "    for(i = 0; i < 5; i++)\n",
        "      printf(\"v[%d] = %d\\n\", i, v[i]);\n",
        "\n",
        "    return 0;\n",
        "}"
      ],
      "execution_count": 33,
      "outputs": [
        {
          "output_type": "stream",
          "text": [
            "Writing 5-1.c\n"
          ],
          "name": "stdout"
        }
      ]
    },
    {
      "cell_type": "code",
      "metadata": {
        "id": "N5tak6rU2Gg_",
        "outputId": "3a38f4a8-968c-4a57-b63f-456f8ae79be6",
        "colab": {
          "base_uri": "https://localhost:8080/"
        }
      },
      "source": [
        "!gcc 5-1.c -o prog && ./prog"
      ],
      "execution_count": 34,
      "outputs": [
        {
          "output_type": "stream",
          "text": [
            "v[0] = 0\n",
            "v[1] = 1\n",
            "v[2] = 2\n",
            "v[3] = 3\n",
            "v[4] = 4\n"
          ],
          "name": "stdout"
        }
      ]
    }
  ]
}