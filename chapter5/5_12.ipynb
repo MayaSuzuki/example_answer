{
  "nbformat": 4,
  "nbformat_minor": 0,
  "metadata": {
    "colab": {
      "name": "5_12.ipynb",
      "provenance": []
    },
    "kernelspec": {
      "name": "python3",
      "display_name": "Python 3"
    }
  },
  "cells": [
    {
      "cell_type": "code",
      "metadata": {
        "id": "dozY-L1I13zU",
        "outputId": "86c9b0c9-854e-459e-edca-8e0eae1cc8cb",
        "colab": {
          "base_uri": "https://localhost:8080/"
        }
      },
      "source": [
        "%%file 5-12.c\n",
        "#include<stdio.h>\n",
        "\n",
        "int main() {\n",
        "\n",
        "    int i, j, k;\n",
        "    int tensu[2][4][3] = {\n",
        "        {{91, 63, 76}, {67, 72, 46}, {89, 34, 53}, {32, 54, 34} },\n",
        "        {{97, 67, 82}, {73, 43, 46}, {97, 56, 21}, {85, 46, 35} },\n",
        "    };\n",
        "\n",
        "    int sum[4][3];\n",
        "\n",
        "    /*2回分の点数の合計を求める*/\n",
        "    for(i = 0; i < 4; i++) {\n",
        "        for(j = 0; j < 3; j++)\n",
        "          sum[i][j] = tensu[0][i][j] + tensu[1][i][j];\n",
        "    }\n",
        "\n",
        "    /*各回の点数を表示*/\n",
        "    for(i = 0; i < 2; i++) {\n",
        "        printf(\"%d回目の点数\\n\", i + 1);\n",
        "        for(j = 0; j < 4; j++) {\n",
        "            for(k = 0; k < 3; k++)\n",
        "              printf(\"%4d\", tensu[i][j][k]);\n",
        "            putchar('\\n');\n",
        "        }\n",
        "    }\n",
        "\n",
        "    /*合計点を表示*/\n",
        "    puts(\"合計点\");\n",
        "    for(i = 0; i < 4; i++) {\n",
        "        for(j = 0; j < 3; j++)\n",
        "          printf(\"%4d\", sum[i][j]);\n",
        "        putchar('\\n');\n",
        "    }\n",
        "    \n",
        "\n",
        "    return 0;\n",
        "}"
      ],
      "execution_count": 22,
      "outputs": [
        {
          "output_type": "stream",
          "text": [
            "Writing 5-12.c\n"
          ],
          "name": "stdout"
        }
      ]
    },
    {
      "cell_type": "code",
      "metadata": {
        "id": "Wfn2y5gVl6Ot",
        "outputId": "c2a90b78-fd66-47b9-ff8a-c2a6e1d2ca30",
        "colab": {
          "base_uri": "https://localhost:8080/"
        }
      },
      "source": [
        "!gcc 5-12.c -o prog && ./prog"
      ],
      "execution_count": 23,
      "outputs": [
        {
          "output_type": "stream",
          "text": [
            "1回目の点数\n",
            "  91  63  76\n",
            "  67  72  46\n",
            "  89  34  53\n",
            "  32  54  34\n",
            "2回目の点数\n",
            "  97  67  82\n",
            "  73  43  46\n",
            "  97  56  21\n",
            "  85  46  35\n",
            "合計点\n",
            " 188 130 158\n",
            " 140 115  92\n",
            " 186  90  74\n",
            " 117 100  69\n"
          ],
          "name": "stdout"
        }
      ]
    }
  ]
}