{
  "nbformat": 4,
  "nbformat_minor": 0,
  "metadata": {
    "colab": {
      "name": "5_8.ipynb",
      "provenance": []
    },
    "kernelspec": {
      "name": "python3",
      "display_name": "Python 3"
    }
  },
  "cells": [
    {
      "cell_type": "code",
      "metadata": {
        "id": "dozY-L1I13zU",
        "outputId": "3a515ef5-6231-493e-f110-ec71c3c7eb29",
        "colab": {
          "base_uri": "https://localhost:8080/"
        }
      },
      "source": [
        "%%file 5-8.c\n",
        "#include<stdio.h>\n",
        "#define NUMBER 80   /*人数の上限*/\n",
        "\n",
        "int main() {\n",
        "\n",
        "    int i, j;\n",
        "    int num;  /*実際の人数*/\n",
        "    int tensu[NUMBER];  /*学生の点数*/\n",
        "    int bunpu[11] = {0};  /*点数の分布*/\n",
        "\n",
        "\n",
        "    /////////////////////////////////////////////////////////////////////\n",
        "    printf(\"人数を入力してください: \");\n",
        "\n",
        "    do{\n",
        "        scanf(\"%d\", &num);\n",
        "       if(num < 1 || num > NUMBER)\n",
        "        printf(\"\\a1～%dで入力してください; \", NUMBER);\n",
        "    }while(num < 1 || num > NUMBER);\n",
        "\n",
        "    printf(\"%d 人の点数を入力してださい。\\n\", num);\n",
        "\n",
        "    for(i = 0; i < num; i++) {\n",
        "        printf(\"%2d番 : \", i + 1);\n",
        "        do {\n",
        "            scanf(\"%d\", &tensu[i]);\n",
        "            if(tensu[i] < 0 || tensu[i] > 100) {\n",
        "                printf(\"\\a0～100までで入力してください : \");\n",
        "            }\n",
        "        }while(tensu[i] < 0 || tensu[i] > 100);\n",
        "        bunpu[tensu[i] / 10]++;\n",
        "    }\n",
        "\n",
        "    ////////////////////////////////////////////////////////////////////\n",
        "    puts(\"\\n---分布グラフ---\");\n",
        "\n",
        "    for(i = 0; i <= 9; i++) {\n",
        "        printf(\"%3d～%3d : \", i * 10, i * 10 + 9);\n",
        "        for(j = 0; j < bunpu[i]; j++){\n",
        "            putchar('*');\n",
        "        }\n",
        "        putchar('\\n');\n",
        "    }\n",
        "\n",
        "    printf(\"     100 : \");\n",
        "    for(j = 0; j < bunpu[10]; j++) {\n",
        "        putchar('*');\n",
        "    }\n",
        "    putchar('\\n');\n",
        "\n",
        "    return 0;\n",
        "}"
      ],
      "execution_count": 66,
      "outputs": [
        {
          "output_type": "stream",
          "text": [
            "Overwriting 5-8.c\n"
          ],
          "name": "stdout"
        }
      ]
    },
    {
      "cell_type": "code",
      "metadata": {
        "id": "N5tak6rU2Gg_",
        "outputId": "37db8ae3-3c46-4150-ad1e-d00337e9e1aa",
        "colab": {
          "base_uri": "https://localhost:8080/"
        }
      },
      "source": [
        "!gcc 5-8.c -o prog && ./prog"
      ],
      "execution_count": 69,
      "outputs": [
        {
          "output_type": "stream",
          "text": [
            "人数を入力してください: 82\n",
            "\u00071～80で入力してください; 19\n",
            "19 人の点数を入力してださい。\n",
            " 1番 : -1\n",
            "\u00070～100までで入力してください : 2\n",
            " 2番 : 101\n",
            "\u00070～100までで入力してください : 12\n",
            " 3番 : 45\n",
            " 4番 : 63\n",
            " 5番 : 93\n",
            " 6番 : 199\n",
            "\u00070～100までで入力してください : 100\n",
            " 7番 : 5\n",
            " 8番 : 77\n",
            " 9番 : 56\n",
            "10番 : 26\n",
            "11番 : 42\n",
            "12番 : 82\n",
            "13番 : 69\n",
            "14番 : 93\n",
            "15番 : 56\n",
            "16番 : 7\n",
            "17番 : 55\n",
            "18番 : 376\n",
            "\u00070～100までで入力してください : 36\n",
            "19番 : 76]\n",
            "\n",
            "---分布グラフ---\n",
            "  0～  9 : ***\n",
            " 10～ 19 : *\n",
            " 20～ 29 : *\n",
            " 30～ 39 : *\n",
            " 40～ 49 : **\n",
            " 50～ 59 : ***\n",
            " 60～ 69 : **\n",
            " 70～ 79 : **\n",
            " 80～ 89 : *\n",
            " 90～ 99 : **\n",
            "     100 : *\n"
          ],
          "name": "stdout"
        }
      ]
    }
  ]
}