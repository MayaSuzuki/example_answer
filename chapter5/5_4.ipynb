{
  "nbformat": 4,
  "nbformat_minor": 0,
  "metadata": {
    "colab": {
      "name": "5_4.ipynb",
      "provenance": []
    },
    "kernelspec": {
      "name": "python3",
      "display_name": "Python 3"
    }
  },
  "cells": [
    {
      "cell_type": "code",
      "metadata": {
        "id": "dozY-L1I13zU",
        "outputId": "6678af62-d1e8-48ba-89f7-e59b6581ee95",
        "colab": {
          "base_uri": "https://localhost:8080/"
        }
      },
      "source": [
        "%%file 5-4.c\n",
        "#include<stdio.h>\n",
        "\n",
        "int main() {\n",
        "\n",
        "    int i;\n",
        "    int a[5] = {17, 23, 36};\n",
        "    int b[5];\n",
        "\n",
        "    for(i = 0; i < 5; i++)\n",
        "      b[i] = a[4 - i];\n",
        "\n",
        "    puts(\"  a     b\");\n",
        "    puts(\"----------\");\n",
        "\n",
        "    for(i = 0; i < 5; i++)\n",
        "      printf(\"%4d%4d\\n\", a[i], b[i]);\n",
        "\n",
        "    return 0;\n",
        "}"
      ],
      "execution_count": 46,
      "outputs": [
        {
          "output_type": "stream",
          "text": [
            "Overwriting 5-4.c\n"
          ],
          "name": "stdout"
        }
      ]
    },
    {
      "cell_type": "code",
      "metadata": {
        "id": "N5tak6rU2Gg_",
        "outputId": "0ba1997a-d992-4e7c-a606-98a7d4cebea1",
        "colab": {
          "base_uri": "https://localhost:8080/"
        }
      },
      "source": [
        "!gcc 5-4.c -o prog && ./prog"
      ],
      "execution_count": 47,
      "outputs": [
        {
          "output_type": "stream",
          "text": [
            "  a     b\n",
            "----------\n",
            "  17   0\n",
            "  23   0\n",
            "  36  36\n",
            "   0  23\n",
            "   0  17\n"
          ],
          "name": "stdout"
        }
      ]
    }
  ]
}