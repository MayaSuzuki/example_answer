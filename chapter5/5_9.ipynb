{
  "nbformat": 4,
  "nbformat_minor": 0,
  "metadata": {
    "colab": {
      "name": "5-9.ipynb",
      "provenance": []
    },
    "kernelspec": {
      "name": "python3",
      "display_name": "Python 3"
    }
  },
  "cells": [
    {
      "cell_type": "code",
      "metadata": {
        "id": "HG0FF5gikStx",
        "outputId": "407e5017-2645-4738-c84c-2bfdf1e507a4",
        "colab": {
          "base_uri": "https://localhost:8080/"
        }
      },
      "source": [
        "%%file 5-9.c\n",
        "#include<stdio.h>\n",
        "#define NUMBER 80   /*人数の上限*/\n",
        "\n",
        "int main() {\n",
        "\n",
        "    int i, j;\n",
        "    int num;  /*実際の人数*/\n",
        "    int tensu[NUMBER];  /*学生の点数*/\n",
        "    int bunpu[11] = {0};  /*点数の分布*/\n",
        "\n",
        "    int bunpu_max = 0;\n",
        "\n",
        "    /////////////////////////////////////////////////////////////////////\n",
        "    printf(\"人数を入力してください: \");\n",
        "\n",
        "    do{\n",
        "        scanf(\"%d\", &num);\n",
        "       if(num < 1 || num > NUMBER)\n",
        "        printf(\"\\a1～%dで入力してください; \", NUMBER);\n",
        "    }while(num < 1 || num > NUMBER);\n",
        "\n",
        "    printf(\"%d 人の点数を入力してださい。\\n\", num);\n",
        "\n",
        "    for(i = 0; i < num; i++) {\n",
        "        printf(\"%2d番 : \", i + 1);\n",
        "        do {\n",
        "            scanf(\"%d\", &tensu[i]);\n",
        "            if(tensu[i] < 0 || tensu[i] > 100) {\n",
        "                printf(\"\\a0～100までで入力してください : \");\n",
        "            }\n",
        "        }while(tensu[i] < 0 || tensu[i] > 100);\n",
        "        bunpu[tensu[i] / 10]++;\n",
        "    }\n",
        "\n",
        "    ////////////////////////////////////////////////////////////////////\n",
        "    puts(\"\\n---分布グラフ---\");\n",
        "\n",
        "    for(i = 0; i <= 10; i++) {\n",
        "        if(bunpu[i] > bunpu_max){\n",
        "            bunpu_max = bunpu[i];\n",
        "        }\n",
        "    }\n",
        "\n",
        "    for(i = bunpu_max; i >= 1; i--) {\n",
        "        for(j = 0; j <= 10; j++) {\n",
        "            if(bunpu[j] >= i)\n",
        "              printf(\" * \");\n",
        "            else\n",
        "              printf(\"   \");\n",
        "        }\n",
        "        putchar('\\n');\n",
        "    }\n",
        "\n",
        "    for(i = 0; i < 34; i++) {\n",
        "        putchar('-');\n",
        "    }\n",
        "    putchar('\\n');\n",
        "\n",
        "    for(i = 0; i <= 10; i++) {\n",
        "        printf(\"%2d \", i * 10);\n",
        "    }\n",
        "    putchar('\\n');\n",
        "\n",
        "    return 0;\n",
        "}"
      ],
      "execution_count": 3,
      "outputs": [
        {
          "output_type": "stream",
          "text": [
            "Overwriting 5-9.c\n"
          ],
          "name": "stdout"
        }
      ]
    },
    {
      "cell_type": "code",
      "metadata": {
        "id": "k1EPuWnVkXFN",
        "outputId": "757b1e4d-2857-457a-ec34-afec2adb277f",
        "colab": {
          "base_uri": "https://localhost:8080/"
        }
      },
      "source": [
        "!gcc 5-9.c -o prog && ./prog"
      ],
      "execution_count": 5,
      "outputs": [
        {
          "output_type": "stream",
          "text": [
            "人数を入力してください: 15\n",
            "15 人の点数を入力してださい。\n",
            " 1番 : 17\n",
            " 2番 : 100\n",
            " 3番 : 38\n",
            " 4番 : 64\n",
            " 5番 : 49\n",
            " 6番 : 71\n",
            " 7番 : 4\n",
            " 8番 : 98\n",
            " 9番 : 73\n",
            "10番 : 21\n",
            "11番 : 18\n",
            "12番 : 65\n",
            "13番 : 63\n",
            "14番 : 87\n",
            "15番 : 47\n",
            "\n",
            "---分布グラフ---\n",
            "                   *             \n",
            "    *        *     *  *          \n",
            " *  *  *  *  *     *  *  *  *  * \n",
            "----------------------------------\n",
            " 0 10 20 30 40 50 60 70 80 90 100 \n"
          ],
          "name": "stdout"
        }
      ]
    }
  ]
}