{
  "nbformat": 4,
  "nbformat_minor": 0,
  "metadata": {
    "colab": {
      "name": "5_5.ipynb",
      "provenance": []
    },
    "kernelspec": {
      "name": "python3",
      "display_name": "Python 3"
    }
  },
  "cells": [
    {
      "cell_type": "code",
      "metadata": {
        "id": "dozY-L1I13zU",
        "outputId": "b10668ca-4992-4792-d3db-d91bbf232f33",
        "colab": {
          "base_uri": "https://localhost:8080/"
        }
      },
      "source": [
        "%%file 5-5.c\n",
        "#include<stdio.h>\n",
        "#define NUMBER 7\n",
        "\n",
        "int main() {\n",
        "\n",
        "    int i;\n",
        "    int x[NUMBER];\n",
        "\n",
        "    for(i = 0; i < NUMBER; i++) {\n",
        "        printf(\"x[%d] : \", i);\n",
        "        scanf(\"%d\", &x[i]);\n",
        "    }\n",
        "\n",
        "    for(i = 0; i < NUMBER / 2; i++) {\n",
        "        int temp = x[i];\n",
        "        x[i] = x[NUMBER - i - 1];\n",
        "        x[NUMBER - i -1] = temp;\n",
        "    }\n",
        "\n",
        "    puts(\"反転しました。\");\n",
        "    for(i = 0; i < NUMBER; i++)\n",
        "      printf(\"x[%d] = %d\\n\", i, x[i]);\n",
        "\n",
        "    return 0;\n",
        "}"
      ],
      "execution_count": 52,
      "outputs": [
        {
          "output_type": "stream",
          "text": [
            "Overwriting 5-5.c\n"
          ],
          "name": "stdout"
        }
      ]
    },
    {
      "cell_type": "code",
      "metadata": {
        "id": "N5tak6rU2Gg_",
        "outputId": "4133f9b9-e313-45eb-d18c-615c3d9c9523",
        "colab": {
          "base_uri": "https://localhost:8080/"
        }
      },
      "source": [
        "!gcc 5-5.c -o prog && ./prog"
      ],
      "execution_count": 53,
      "outputs": [
        {
          "output_type": "stream",
          "text": [
            "x[0] : 34\n",
            "x[1] : 36\n",
            "x[2] : 11\n",
            "x[3] : 5\n",
            "x[4] : 1\n",
            "x[5] : 57\n",
            "x[6] : 43\n",
            "反転しました。\n",
            "x[0] = 43\n",
            "x[1] = 57\n",
            "x[2] = 1\n",
            "x[3] = 5\n",
            "x[4] = 11\n",
            "x[5] = 36\n",
            "x[6] = 34\n"
          ],
          "name": "stdout"
        }
      ]
    }
  ]
}