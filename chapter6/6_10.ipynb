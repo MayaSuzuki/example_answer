{
  "nbformat": 4,
  "nbformat_minor": 0,
  "metadata": {
    "colab": {
      "name": "6_10.ipynb",
      "provenance": []
    },
    "kernelspec": {
      "name": "python3",
      "display_name": "Python 3"
    }
  },
  "cells": [
    {
      "cell_type": "code",
      "metadata": {
        "id": "dozY-L1I13zU",
        "outputId": "67eedec0-dfd3-4951-847b-85cb8d154be7",
        "colab": {
          "base_uri": "https://localhost:8080/"
        }
      },
      "source": [
        "%%file 6-10.c\n",
        "#include<stdio.h>\n",
        "\n",
        "#define NUMBER 7\n",
        "\n",
        "/*要素数n個の配列 v2 の要素の並びを反転したものを v1 に格納*/\n",
        "int intary_rcpy(int v1[], const int v2[], int n) \n",
        "{\n",
        "    int i;\n",
        " \n",
        "    for(i = 0; i < n; i++) {\n",
        "        v1[i] = v2[n - i -1];\n",
        "    }\n",
        "\n",
        "}\n",
        "\n",
        "int main() {\n",
        "    int i;\n",
        "    int x1[NUMBER], x2[NUMBER];\n",
        "\n",
        "    for(int i = 0; i < NUMBER; i++) {\n",
        "        printf(\"x1[%d] の値を入力してください: \", i);\n",
        "        scanf(\"%d\", &x1[i]);\n",
        "    }\n",
        "\n",
        "    intary_rcpy(x2, x1 , NUMBER);\n",
        "\n",
        "    puts(\"反転コピーしました。\");\n",
        "    for(i = 0; i < NUMBER; i++)\n",
        "      printf(\"x2[%d] = %d\\n\", i, x2[i]);\n",
        "\n",
        "    return 0;\n",
        "}"
      ],
      "execution_count": 19,
      "outputs": [
        {
          "output_type": "stream",
          "text": [
            "Overwriting 6-10.c\n"
          ],
          "name": "stdout"
        }
      ]
    },
    {
      "cell_type": "code",
      "metadata": {
        "id": "Wfn2y5gVl6Ot",
        "outputId": "10d8d8a2-19c4-42a8-d180-26a5d74b956c",
        "colab": {
          "base_uri": "https://localhost:8080/"
        }
      },
      "source": [
        "!gcc 6-10.c -o prog && ./prog"
      ],
      "execution_count": 20,
      "outputs": [
        {
          "output_type": "stream",
          "text": [
            "x1[0] の値を入力してください: 1\n",
            "x1[1] の値を入力してください: 2\n",
            "x1[2] の値を入力してください: 3\n",
            "x1[3] の値を入力してください: 4\n",
            "x1[4] の値を入力してください: 5\n",
            "x1[5] の値を入力してください: 6\n",
            "x1[6] の値を入力してください: 7\n",
            "反転コピーしました。\n",
            "x2[0] = 7\n",
            "x2[1] = 6\n",
            "x2[2] = 5\n",
            "x2[3] = 4\n",
            "x2[4] = 3\n",
            "x2[5] = 2\n",
            "x2[6] = 1\n"
          ],
          "name": "stdout"
        }
      ]
    }
  ]
}