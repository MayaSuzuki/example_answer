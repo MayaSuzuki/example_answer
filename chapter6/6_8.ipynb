{
  "nbformat": 4,
  "nbformat_minor": 0,
  "metadata": {
    "colab": {
      "name": "6_8.ipynb",
      "provenance": []
    },
    "kernelspec": {
      "name": "python3",
      "display_name": "Python 3"
    }
  },
  "cells": [
    {
      "cell_type": "code",
      "metadata": {
        "id": "dozY-L1I13zU",
        "outputId": "e361df3b-b157-4bb9-ad6c-a77371351e94",
        "colab": {
          "base_uri": "https://localhost:8080/"
        }
      },
      "source": [
        "%%file 6-8.c\n",
        "#include<stdio.h>\n",
        "\n",
        "#define NUMBER 5\n",
        "\n",
        "/*要素数n個の配列vの最小値を返す*/\n",
        "int min_of(const int v[], int n) \n",
        "{\n",
        "    int i;\n",
        "    int min = v[0];\n",
        " \n",
        "    for(i = 1; i < n; i++) {\n",
        "        if(v[i] < min)\n",
        "          min = v[i];\n",
        "    }\n",
        " \n",
        "    return min;\n",
        "}\n",
        "\n",
        "int main() {\n",
        "    int ary[NUMBER];  /*要素数 5 の配列*/\n",
        "\n",
        "    for(int i = 0; i < NUMBER; i++) {\n",
        "        printf(\"ary[%d] の値を入力してください: \", i);\n",
        "        scanf(\"%d\", &ary[i]);\n",
        "    }\n",
        "\n",
        "    printf(\"配列の最小値は %d です。\", min_of(ary, NUMBER));\n",
        "\n",
        "    return 0;\n",
        "}"
      ],
      "execution_count": 7,
      "outputs": [
        {
          "output_type": "stream",
          "text": [
            "Overwriting 6-8.c\n"
          ],
          "name": "stdout"
        }
      ]
    },
    {
      "cell_type": "code",
      "metadata": {
        "id": "Wfn2y5gVl6Ot",
        "outputId": "d2d26c74-f356-456a-d76c-73c59cd2bb92",
        "colab": {
          "base_uri": "https://localhost:8080/"
        }
      },
      "source": [
        "!gcc 6-8.c -o prog && ./prog"
      ],
      "execution_count": 9,
      "outputs": [
        {
          "output_type": "stream",
          "text": [
            "ary[0] の値を入力してください: 5\n",
            "ary[1] の値を入力してください: 3\n",
            "ary[2] の値を入力してください: 1\n",
            "ary[3] の値を入力してください: 6\n",
            "ary[4] の値を入力してください: 2\n",
            "配列の最小値は 1 です。"
          ],
          "name": "stdout"
        }
      ]
    }
  ]
}