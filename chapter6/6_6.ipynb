{
  "nbformat": 4,
  "nbformat_minor": 0,
  "metadata": {
    "colab": {
      "name": "6-6.ipynb",
      "provenance": []
    },
    "kernelspec": {
      "name": "python3",
      "display_name": "Python 3"
    }
  },
  "cells": [
    {
      "cell_type": "code",
      "metadata": {
        "id": "dozY-L1I13zU",
        "outputId": "bcb731c1-cf59-4b8d-fc66-0734391d88e5",
        "colab": {
          "base_uri": "https://localhost:8080/"
        }
      },
      "source": [
        "%%file 6-6.c\n",
        "#include<stdio.h>\n",
        "\n",
        "/*警報をn回連続して発する*/\n",
        "int alert(int n) \n",
        "{\n",
        "    while(n-- > 0)\n",
        "      putchar('\\a');\n",
        "}\n",
        "\n",
        "int main() {\n",
        "    int num;\n",
        "\n",
        "    printf(\"警報を発する回数 : \");\n",
        "    scanf(\"%d\", &num);\n",
        "\n",
        "    alert(num);\n",
        "\n",
        "    return 0;\n",
        "}"
      ],
      "execution_count": 33,
      "outputs": [
        {
          "output_type": "stream",
          "text": [
            "Overwriting 6-6.c\n"
          ],
          "name": "stdout"
        }
      ]
    },
    {
      "cell_type": "code",
      "metadata": {
        "id": "Wfn2y5gVl6Ot",
        "outputId": "018c74a8-02a6-4bea-9063-c781d8d30b38",
        "colab": {
          "base_uri": "https://localhost:8080/"
        }
      },
      "source": [
        "!gcc 6-6.c -o prog && ./prog"
      ],
      "execution_count": 34,
      "outputs": [
        {
          "output_type": "stream",
          "text": [
            "警報を発する回数 : 5\n",
            "\u0007\u0007\u0007\u0007\u0007"
          ],
          "name": "stdout"
        }
      ]
    }
  ]
}