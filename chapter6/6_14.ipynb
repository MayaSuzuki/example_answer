{
  "nbformat": 4,
  "nbformat_minor": 0,
  "metadata": {
    "colab": {
      "name": "6_14.ipynb",
      "provenance": []
    },
    "kernelspec": {
      "name": "python3",
      "display_name": "Python 3"
    }
  },
  "cells": [
    {
      "cell_type": "code",
      "metadata": {
        "id": "dozY-L1I13zU",
        "outputId": "4b933439-37ba-4234-8682-1fdb4049a47e",
        "colab": {
          "base_uri": "https://localhost:8080/"
        }
      },
      "source": [
        "%%file 6-14.c\n",
        "#include<stdio.h>\n",
        "\n",
        "double a1[5];   /*全要素が0.0で初期化される*/\n",
        "\n",
        "int main() {\n",
        "    int i;\n",
        "    static double a2[5];   /*全要素が0.0で初期化される*/\n",
        "\n",
        "    for(i = 0; i < 5; i++)\n",
        "      printf(\"a1[%d] = %.1f\\n\", i ,a1[i]);\n",
        "\n",
        "    for(i = 0; i < 5; i++)\n",
        "      printf(\"a2[%d] = %.1f\\n\", i, a2[i]);  \n",
        "\n",
        "    return 0;\n",
        "}"
      ],
      "execution_count": 55,
      "outputs": [
        {
          "output_type": "stream",
          "text": [
            "Overwriting 6-14.c\n"
          ],
          "name": "stdout"
        }
      ]
    },
    {
      "cell_type": "code",
      "metadata": {
        "id": "Wfn2y5gVl6Ot",
        "outputId": "ae924d09-59f3-4ac9-ff5f-0deb5f531dc4",
        "colab": {
          "base_uri": "https://localhost:8080/"
        }
      },
      "source": [
        "!gcc 6-14.c -o prog && ./prog"
      ],
      "execution_count": 56,
      "outputs": [
        {
          "output_type": "stream",
          "text": [
            "a1[0] = 0.0\n",
            "a1[1] = 0.0\n",
            "a1[2] = 0.0\n",
            "a1[3] = 0.0\n",
            "a1[4] = 0.0\n",
            "a2[0] = 0.0\n",
            "a2[1] = 0.0\n",
            "a2[2] = 0.0\n",
            "a2[3] = 0.0\n",
            "a2[4] = 0.0\n"
          ],
          "name": "stdout"
        }
      ]
    }
  ]
}