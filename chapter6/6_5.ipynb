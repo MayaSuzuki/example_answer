{
  "nbformat": 4,
  "nbformat_minor": 0,
  "metadata": {
    "colab": {
      "name": "6-5.ipynb",
      "provenance": []
    },
    "kernelspec": {
      "name": "python3",
      "display_name": "Python 3"
    }
  },
  "cells": [
    {
      "cell_type": "code",
      "metadata": {
        "id": "dozY-L1I13zU",
        "outputId": "3d53a6bb-db21-4135-dc5b-913c7fd66bfa",
        "colab": {
          "base_uri": "https://localhost:8080/"
        }
      },
      "source": [
        "%%file 6-5.c\n",
        "#include<stdio.h>\n",
        "\n",
        "/*1 から n までの和を返す関数を定義*/\n",
        "int sumup(int n) \n",
        "{\n",
        "    int i;\n",
        "    int sum = 0;\n",
        " \n",
        "    for(i = 1; i <= n; i++) {\n",
        "        sum += i;\n",
        "    }\n",
        " \n",
        "    return sum;\n",
        "}\n",
        "\n",
        "int main() {\n",
        "    int num;\n",
        "\n",
        "    printf(\"整数を入力してください : \");\n",
        "    scanf(\"%d\", &num);\n",
        "\n",
        "    printf(\"1 から %d までの和は %d です。\\n\", num, sumup(num));\n",
        "\n",
        "    return 0;\n",
        "}"
      ],
      "execution_count": 25,
      "outputs": [
        {
          "output_type": "stream",
          "text": [
            "Writing 6-5.c\n"
          ],
          "name": "stdout"
        }
      ]
    },
    {
      "cell_type": "code",
      "metadata": {
        "id": "Wfn2y5gVl6Ot",
        "outputId": "955d3197-8d06-4af0-ea6b-eff01262c2a1",
        "colab": {
          "base_uri": "https://localhost:8080/"
        }
      },
      "source": [
        "!gcc 6-5.c -o prog && ./prog"
      ],
      "execution_count": 28,
      "outputs": [
        {
          "output_type": "stream",
          "text": [
            "整数を入力してください : 100\n",
            "1 から 100 までの和は 5050 です。\n"
          ],
          "name": "stdout"
        }
      ]
    }
  ]
}