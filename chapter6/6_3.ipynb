{
  "nbformat": 4,
  "nbformat_minor": 0,
  "metadata": {
    "colab": {
      "name": "6-3.ipynb",
      "provenance": []
    },
    "kernelspec": {
      "name": "python3",
      "display_name": "Python 3"
    }
  },
  "cells": [
    {
      "cell_type": "code",
      "metadata": {
        "id": "dozY-L1I13zU",
        "outputId": "3da7162d-b1a6-4e4b-f168-69b8de523ad4",
        "colab": {
          "base_uri": "https://localhost:8080/"
        }
      },
      "source": [
        "%%file 6-3.c\n",
        "#include<stdio.h>\n",
        "\n",
        "/*整数の3乗値を返す関数を定義*/\n",
        "int cube(int x) \n",
        "{\n",
        "    return x * x * x;\n",
        "}\n",
        "\n",
        "int main() {\n",
        "\n",
        "    printf(\"5 の3乗は % d です。\\n\",  cube(5));\n",
        "    printf(\"2 + 3 の3乗は % d です。\\n\",  cube(2 + 3));\n",
        "    printf(\"2.5 の3乗は % d です。\\n\",  cube(2.5));\n",
        "\n",
        "    return 0;\n",
        "}"
      ],
      "execution_count": 13,
      "outputs": [
        {
          "output_type": "stream",
          "text": [
            "Overwriting 6-3.c\n"
          ],
          "name": "stdout"
        }
      ]
    },
    {
      "cell_type": "code",
      "metadata": {
        "id": "Wfn2y5gVl6Ot",
        "outputId": "07d42105-f938-4562-c8a3-c77c1c076714",
        "colab": {
          "base_uri": "https://localhost:8080/"
        }
      },
      "source": [
        "!gcc 6-3.c -o prog && ./prog"
      ],
      "execution_count": 14,
      "outputs": [
        {
          "output_type": "stream",
          "text": [
            "5 の3乗は  125 です。\n",
            "2 + 3 の3乗は  125 です。\n",
            "2.5 の3乗は  8 です。\n"
          ],
          "name": "stdout"
        }
      ]
    }
  ]
}