{
  "nbformat": 4,
  "nbformat_minor": 0,
  "metadata": {
    "colab": {
      "name": "6-1.ipynb",
      "provenance": []
    },
    "kernelspec": {
      "name": "python3",
      "display_name": "Python 3"
    }
  },
  "cells": [
    {
      "cell_type": "code",
      "metadata": {
        "id": "dozY-L1I13zU",
        "outputId": "aa84c393-e26a-41f3-bdff-aac8d158d06d",
        "colab": {
          "base_uri": "https://localhost:8080/"
        }
      },
      "source": [
        "%%file 6-1.c\n",
        "#include<stdio.h>\n",
        "\n",
        "/*2つの整数の小さいほうを返す関数を定義*/\n",
        "int min2(int a, int b) {\n",
        "    \n",
        "    return (a < b) ? a : b ;\n",
        "}\n",
        "\n",
        "int main() {\n",
        "    int a = 10;\n",
        "    int b = 5;\n",
        "\n",
        "    printf(\"小さいほうの値は %d です。\\n\",  min2(a , b));\n",
        "    printf(\"小さいほうの値は %d です。\\n\",  min2(10 , 7));\n",
        "    printf(\"小さいほうの値は %d です。\\n\",  min2(34 , 34));\n",
        "    printf(\"小さいほうの値は %d です。\\n\",  min2(3.4 , b));\n",
        "\n",
        "    return 0;\n",
        "}"
      ],
      "execution_count": 7,
      "outputs": [
        {
          "output_type": "stream",
          "text": [
            "Overwriting 6-1.c\n"
          ],
          "name": "stdout"
        }
      ]
    },
    {
      "cell_type": "code",
      "metadata": {
        "id": "Wfn2y5gVl6Ot",
        "outputId": "ad9600fa-8214-4fe8-e4e9-f86cb95d613a",
        "colab": {
          "base_uri": "https://localhost:8080/"
        }
      },
      "source": [
        "!gcc 6-1.c -o prog && ./prog"
      ],
      "execution_count": 6,
      "outputs": [
        {
          "output_type": "stream",
          "text": [
            "小さいほうの値は 5 です。\n",
            "小さいほうの値は 5 です。\n",
            "小さいほうの値は 34 です。\n",
            "小さいほうの値は 3 です。\n"
          ],
          "name": "stdout"
        }
      ]
    }
  ]
}