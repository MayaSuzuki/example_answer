{
  "nbformat": 4,
  "nbformat_minor": 0,
  "metadata": {
    "colab": {
      "name": "6_13.ipynb",
      "provenance": []
    },
    "kernelspec": {
      "name": "python3",
      "display_name": "Python 3"
    }
  },
  "cells": [
    {
      "cell_type": "code",
      "metadata": {
        "id": "dozY-L1I13zU",
        "outputId": "840aa124-7d67-4806-8e0c-6f9045d2854a",
        "colab": {
          "base_uri": "https://localhost:8080/"
        }
      },
      "source": [
        "%%file 6-13.c\n",
        "#include<stdio.h>\n",
        "\n",
        "/*４行３列の行列 a と b の和を c に格納する*/\n",
        "void mat_add(const int a[4][3], const int b[4][3], int c[4][3], int n)\n",
        "{\n",
        "    int i, j;\n",
        " \n",
        "    for(i = 0; i < n; i++) {\n",
        "        for(j = 0; j < 3; j++) {\n",
        "            c[i][j] = a[i][j] + b[i][j];\n",
        "        }\n",
        "    }\n",
        "}\n",
        "\n",
        "/*n行３列の行列 mを表示する*/\n",
        "void mat_print(const int m[4][3], int n)\n",
        "{\n",
        "    int i, j;\n",
        " \n",
        "    for(i = 0; i < n; i++){\n",
        "        for(j = 0; j < 3; j++){\n",
        "            printf(\"%4d\", m[i][j]);\n",
        "        }\n",
        "        putchar('\\n');\n",
        "    }\n",
        "}\n",
        "\n",
        "int main() {\n",
        "    int i;\n",
        "    int tensu[2][4][3] = {\n",
        "        { {91, 64, 25}, {1, 6, 5}, {59, 57, 58}, {99, 92, 7} },\n",
        "        { {92, 76, 65}, {100, 67, 88}, {82, 75, 62}, {77, 67, 57} },\n",
        "    };\n",
        "    int sum[4][3];\n",
        "\n",
        "    mat_add(tensu[0], tensu[1], sum , 4);\n",
        "\n",
        "    /*各回の点数を表示*/\n",
        "    for(i = 0; i < 2; i++) {\n",
        "        printf(\"%d 回目の点数\\n\", i + 1);\n",
        "        mat_print(tensu[i], 4);\n",
        "        putchar('\\n');\n",
        "    }\n",
        "\n",
        "    /*合計点を表示*/\n",
        "    puts(\"合計点\\n\");\n",
        "    mat_print(sum, 4);\n",
        "\n",
        "    return 0;\n",
        "}"
      ],
      "execution_count": 47,
      "outputs": [
        {
          "output_type": "stream",
          "text": [
            "Overwriting 6-13.c\n"
          ],
          "name": "stdout"
        }
      ]
    },
    {
      "cell_type": "code",
      "metadata": {
        "id": "Wfn2y5gVl6Ot",
        "outputId": "5f26c42b-5b88-4de1-b66b-be9e35fc0a28",
        "colab": {
          "base_uri": "https://localhost:8080/"
        }
      },
      "source": [
        "!gcc 6-13.c -o prog && ./prog"
      ],
      "execution_count": 48,
      "outputs": [
        {
          "output_type": "stream",
          "text": [
            "1 回目の点数\n",
            "  91  64  25\n",
            "   1   6   5\n",
            "  59  57  58\n",
            "  99  92   7\n",
            "\n",
            "2 回目の点数\n",
            "  92  76  65\n",
            " 100  67  88\n",
            "  82  75  62\n",
            "  77  67  57\n",
            "\n",
            "合計点\n",
            "\n",
            " 183 140  90\n",
            " 101  73  93\n",
            " 141 132 120\n",
            " 176 159  64\n"
          ],
          "name": "stdout"
        }
      ]
    }
  ]
}