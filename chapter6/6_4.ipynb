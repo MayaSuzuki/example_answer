{
  "nbformat": 4,
  "nbformat_minor": 0,
  "metadata": {
    "colab": {
      "name": "6_4.ipynb",
      "provenance": []
    },
    "kernelspec": {
      "name": "python3",
      "display_name": "Python 3"
    }
  },
  "cells": [
    {
      "cell_type": "code",
      "metadata": {
        "id": "dozY-L1I13zU",
        "outputId": "49a874ff-3a53-48ac-a801-231d996f7e32",
        "colab": {
          "base_uri": "https://localhost:8080/"
        }
      },
      "source": [
        "%%file 6-4.c\n",
        "#include<stdio.h>\n",
        "\n",
        "/*整数の2乗値を返す関数*/\n",
        "int sqr(int x) \n",
        "{\n",
        "    return x * x;\n",
        "}\n",
        "\n",
        "/*整数の4乗値を返す関数*/\n",
        "int pow4(int x) \n",
        "{\n",
        "    return sqr(x) * sqr(x);\n",
        "}\n",
        "\n",
        "int main() {\n",
        "\n",
        "    printf(\"2 の4乗は % d です。\\n\",  pow4(2));\n",
        "\n",
        "    return 0;\n",
        "}"
      ],
      "execution_count": 1,
      "outputs": [
        {
          "output_type": "stream",
          "text": [
            "Writing 6-4.c\n"
          ],
          "name": "stdout"
        }
      ]
    },
    {
      "cell_type": "code",
      "metadata": {
        "id": "Wfn2y5gVl6Ot",
        "outputId": "eb6b716f-bc4e-4ea4-b281-50ecaf189611",
        "colab": {
          "base_uri": "https://localhost:8080/"
        }
      },
      "source": [
        "!gcc 6-4.c -o prog && ./prog"
      ],
      "execution_count": 2,
      "outputs": [
        {
          "output_type": "stream",
          "text": [
            "2 の4乗は  16 です。\n"
          ],
          "name": "stdout"
        }
      ]
    }
  ]
}