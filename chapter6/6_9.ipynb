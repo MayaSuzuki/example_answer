{
  "nbformat": 4,
  "nbformat_minor": 0,
  "metadata": {
    "colab": {
      "name": "6_9.ipynb",
      "provenance": []
    },
    "kernelspec": {
      "name": "python3",
      "display_name": "Python 3"
    }
  },
  "cells": [
    {
      "cell_type": "code",
      "metadata": {
        "id": "dozY-L1I13zU",
        "outputId": "86aeca4d-2030-429b-e6b8-4618d8c356a5",
        "colab": {
          "base_uri": "https://localhost:8080/"
        }
      },
      "source": [
        "%%file 6-9.c\n",
        "#include<stdio.h>\n",
        "\n",
        "#define NUMBER 7\n",
        "\n",
        "/*要素数n個の配列vの要素の並びを反転する*/\n",
        "int rev_intary(int v[], int n) \n",
        "{\n",
        "    int i;\n",
        " \n",
        "    for(i = 0; i < n / 2; i++) {\n",
        "        int temp = v[i];  /*入れ替え用変数*/\n",
        "        v[i] = v[n - i -1];\n",
        "        v[n - i -  1] = temp;\n",
        "    }\n",
        "\n",
        "}\n",
        "\n",
        "int main() {\n",
        "    int i;\n",
        "    int x[NUMBER];\n",
        "\n",
        "    for(int i = 0; i < NUMBER; i++) {\n",
        "        printf(\"x[%d] の値を入力してください: \", i);\n",
        "        scanf(\"%d\", &x[i]);\n",
        "    }\n",
        "\n",
        "    rev_intary(x , NUMBER);\n",
        "\n",
        "    puts(\"反転しました。\");\n",
        "    for(i = 0; i < NUMBER; i++)\n",
        "      printf(\"x[%d] = %d\\n\", i, x[i]);\n",
        "\n",
        "    return 0;\n",
        "}"
      ],
      "execution_count": 14,
      "outputs": [
        {
          "output_type": "stream",
          "text": [
            "Overwriting 6-9.c\n"
          ],
          "name": "stdout"
        }
      ]
    },
    {
      "cell_type": "code",
      "metadata": {
        "id": "Wfn2y5gVl6Ot",
        "outputId": "79cccd5a-727c-4c5d-b3bf-6a6a37b680e0",
        "colab": {
          "base_uri": "https://localhost:8080/"
        }
      },
      "source": [
        "!gcc 6-9.c -o prog && ./prog"
      ],
      "execution_count": 16,
      "outputs": [
        {
          "output_type": "stream",
          "text": [
            "x[0] の値を入力してください: 1\n",
            "x[1] の値を入力してください: 2\n",
            "x[2] の値を入力してください: 3\n",
            "x[3] の値を入力してください: 4\n",
            "x[4] の値を入力してください: 5\n",
            "x[5] の値を入力してください: 6\n",
            "x[6] の値を入力してください: 7\n",
            "反転しました。\n",
            "x[0] = 7\n",
            "x[1] = 6\n",
            "x[2] = 5\n",
            "x[3] = 4\n",
            "x[4] = 3\n",
            "x[5] = 2\n",
            "x[6] = 1\n"
          ],
          "name": "stdout"
        }
      ]
    }
  ]
}