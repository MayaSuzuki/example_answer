{
  "nbformat": 4,
  "nbformat_minor": 0,
  "metadata": {
    "colab": {
      "name": "6_15.ipynb",
      "provenance": []
    },
    "kernelspec": {
      "name": "python3",
      "display_name": "Python 3"
    }
  },
  "cells": [
    {
      "cell_type": "code",
      "metadata": {
        "id": "dozY-L1I13zU",
        "outputId": "7443b871-08a2-4497-84a0-7ad029e9d2a4",
        "colab": {
          "base_uri": "https://localhost:8080/"
        }
      },
      "source": [
        "%%file 6-15.c\n",
        "#include<stdio.h>\n",
        "\n",
        "/*呼び出された回数を表示*/\n",
        "void put_count(void)\n",
        "{\n",
        "    static int count = 0;\n",
        "    printf(\"put_count : %d回目\\n\", ++count);\n",
        "}\n",
        "\n",
        "int main() {\n",
        "    int i, n;\n",
        "\n",
        "    printf(\"呼び出し回数 : \");\n",
        "    scanf(\"%d\", &n);\n",
        "\n",
        "    for(i = 0; i < n; i++)\n",
        "      put_count();  \n",
        "\n",
        "    return 0;\n",
        "}"
      ],
      "execution_count": 57,
      "outputs": [
        {
          "output_type": "stream",
          "text": [
            "Writing 6-15.c\n"
          ],
          "name": "stdout"
        }
      ]
    },
    {
      "cell_type": "code",
      "metadata": {
        "id": "Wfn2y5gVl6Ot",
        "outputId": "973321c2-6721-4e61-acd5-ac2e8e2c1143",
        "colab": {
          "base_uri": "https://localhost:8080/"
        }
      },
      "source": [
        "!gcc 6-15.c -o prog && ./prog"
      ],
      "execution_count": 58,
      "outputs": [
        {
          "output_type": "stream",
          "text": [
            "呼び出し回数 : 43\n",
            "put_count : 1回目\n",
            "put_count : 2回目\n",
            "put_count : 3回目\n",
            "put_count : 4回目\n",
            "put_count : 5回目\n",
            "put_count : 6回目\n",
            "put_count : 7回目\n",
            "put_count : 8回目\n",
            "put_count : 9回目\n",
            "put_count : 10回目\n",
            "put_count : 11回目\n",
            "put_count : 12回目\n",
            "put_count : 13回目\n",
            "put_count : 14回目\n",
            "put_count : 15回目\n",
            "put_count : 16回目\n",
            "put_count : 17回目\n",
            "put_count : 18回目\n",
            "put_count : 19回目\n",
            "put_count : 20回目\n",
            "put_count : 21回目\n",
            "put_count : 22回目\n",
            "put_count : 23回目\n",
            "put_count : 24回目\n",
            "put_count : 25回目\n",
            "put_count : 26回目\n",
            "put_count : 27回目\n",
            "put_count : 28回目\n",
            "put_count : 29回目\n",
            "put_count : 30回目\n",
            "put_count : 31回目\n",
            "put_count : 32回目\n",
            "put_count : 33回目\n",
            "put_count : 34回目\n",
            "put_count : 35回目\n",
            "put_count : 36回目\n",
            "put_count : 37回目\n",
            "put_count : 38回目\n",
            "put_count : 39回目\n",
            "put_count : 40回目\n",
            "put_count : 41回目\n",
            "put_count : 42回目\n",
            "put_count : 43回目\n"
          ],
          "name": "stdout"
        }
      ]
    }
  ]
}