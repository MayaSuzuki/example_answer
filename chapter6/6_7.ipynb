{
  "nbformat": 4,
  "nbformat_minor": 0,
  "metadata": {
    "colab": {
      "name": "6_7.ipynb",
      "provenance": []
    },
    "kernelspec": {
      "name": "python3",
      "display_name": "Python 3"
    }
  },
  "cells": [
    {
      "cell_type": "code",
      "metadata": {
        "id": "dozY-L1I13zU",
        "outputId": "23ca799a-5553-41f5-b213-ec3a449ad3fb",
        "colab": {
          "base_uri": "https://localhost:8080/"
        }
      },
      "source": [
        "%%file 6-7.c\n",
        "#include<stdio.h>\n",
        "\n",
        "/*こんにちはと表示する関数*/\n",
        "int hello(void) \n",
        "{\n",
        "    puts(\"こんにちは。\");\n",
        "}\n",
        "\n",
        "int main() {\n",
        "\n",
        "    hello();\n",
        "\n",
        "    return 0;\n",
        "}"
      ],
      "execution_count": 3,
      "outputs": [
        {
          "output_type": "stream",
          "text": [
            "Writing 6-7.c\n"
          ],
          "name": "stdout"
        }
      ]
    },
    {
      "cell_type": "code",
      "metadata": {
        "id": "Wfn2y5gVl6Ot",
        "outputId": "4b5fc6a9-8334-43c1-81f5-6c293079703b",
        "colab": {
          "base_uri": "https://localhost:8080/"
        }
      },
      "source": [
        "!gcc 6-7.c -o prog && ./prog"
      ],
      "execution_count": 4,
      "outputs": [
        {
          "output_type": "stream",
          "text": [
            "こんにちは。\n"
          ],
          "name": "stdout"
        }
      ]
    }
  ]
}