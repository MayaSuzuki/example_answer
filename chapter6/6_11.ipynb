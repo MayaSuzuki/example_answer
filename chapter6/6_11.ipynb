{
  "nbformat": 4,
  "nbformat_minor": 0,
  "metadata": {
    "colab": {
      "name": "6_11.ipynb",
      "provenance": []
    },
    "kernelspec": {
      "name": "python3",
      "display_name": "Python 3"
    }
  },
  "cells": [
    {
      "cell_type": "code",
      "metadata": {
        "id": "dozY-L1I13zU",
        "outputId": "c45843cc-7fcb-4d6d-c232-297de79f24f4",
        "colab": {
          "base_uri": "https://localhost:8080/"
        }
      },
      "source": [
        "%%file 6-11.c\n",
        "#include<stdio.h>\n",
        "\n",
        "#define NUMBER 7\n",
        "#define FAILED -1  /*探索失敗*/\n",
        "\n",
        "/*要素数n個の配列 v から値が key の全要素の添え字を idx に格納して個数を返す*/\n",
        "int search_idx(const int v[], int idx[], int key, int n) \n",
        "{\n",
        "    int i, count;\n",
        " \n",
        "    for(i = 0; i < n; i++) {\n",
        "        if(v[i] == key)\n",
        "          idx[count++] = i;  /*添え字を格納*/\n",
        "    }\n",
        "    return count;\n",
        "\n",
        "}\n",
        "\n",
        "int main() {\n",
        "    int i, ky, num;\n",
        "    int vx[NUMBER], pt[NUMBER];\n",
        "\n",
        "    for(int i = 0; i < NUMBER; i++) {\n",
        "        printf(\"vx[%d] の値を入力してください: \", i);\n",
        "        scanf(\"%d\", &vx[i]);\n",
        "    }\n",
        "\n",
        "    printf(\"探す値 : \");\n",
        "    scanf(\"%d\", &ky);\n",
        "\n",
        "    num = search_idx(vx, pt, ky, NUMBER);\n",
        "\n",
        "    if(num == 0) { \n",
        "        puts(\"\\aその値は含まれません。\");\n",
        "    } else {\n",
        "        printf(\"%d は %d 個含まれます。\\n\", ky, num);\n",
        "        for(i = 0; i < num; i++) {\n",
        "            printf(\"vx[%d] = %d\\n\", pt[i], vx[pt[i]]);\n",
        "        }\n",
        "    }\n",
        "\n",
        "    return 0;\n",
        "}"
      ],
      "execution_count": 26,
      "outputs": [
        {
          "output_type": "stream",
          "text": [
            "Overwriting 6-11.c\n"
          ],
          "name": "stdout"
        }
      ]
    },
    {
      "cell_type": "code",
      "metadata": {
        "id": "Wfn2y5gVl6Ot",
        "outputId": "752c4f97-e3fa-4e39-b723-8e9b98c11169",
        "colab": {
          "base_uri": "https://localhost:8080/"
        }
      },
      "source": [
        "!gcc 6-11.c -o prog && ./prog"
      ],
      "execution_count": 25,
      "outputs": [
        {
          "output_type": "stream",
          "text": [
            "vx[0] の値を入力してください: 4\n",
            "vx[1] の値を入力してください: 35\n",
            "vx[2] の値を入力してください: 23\n",
            "vx[3] の値を入力してください: 2\n",
            "vx[4] の値を入力してください: 4\n",
            "vx[5] の値を入力してください: 2\n",
            "vx[6] の値を入力してください: 6\n",
            "探す値 : 4\n",
            "4 は 2 個含まれます。\n",
            "vx[0] = 4\n",
            "vx[4] = 4\n"
          ],
          "name": "stdout"
        }
      ]
    }
  ]
}