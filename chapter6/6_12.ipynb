{
  "nbformat": 4,
  "nbformat_minor": 0,
  "metadata": {
    "colab": {
      "name": "6_12.ipynb",
      "provenance": []
    },
    "kernelspec": {
      "name": "python3",
      "display_name": "Python 3"
    }
  },
  "cells": [
    {
      "cell_type": "code",
      "metadata": {
        "id": "dozY-L1I13zU",
        "outputId": "d060e1a6-8e72-43e6-f1a7-fe0f26bf14c3",
        "colab": {
          "base_uri": "https://localhost:8080/"
        }
      },
      "source": [
        "%%file 6-12.c\n",
        "#include<stdio.h>\n",
        "\n",
        "/*４行３列の行列 a と３行４列の行列 b の積を４行４列の行列 c に格納する*/\n",
        "int mat_mul(const int a[4][3], const int b[3][4], int c[4][4])\n",
        "{\n",
        "    int i, j, k;\n",
        " \n",
        "    for(i = 0; i < 4; i++) {\n",
        "        for(j = 0; j < 4; j++) {\n",
        "            c[i][j] = 0;\n",
        "            for(k = 0; k < 3; k++)\n",
        "              c[i][j] += a[i][k] * b[k][j];\n",
        "        }\n",
        "    }\n",
        "}\n",
        "\n",
        "int main() {\n",
        "    int i, j;\n",
        "    int mx[4][3];\n",
        "    int my[3][4];\n",
        "    int mz[4][4];\n",
        "\n",
        "    printf(\"４行３列の行列 mx と３行４列の行列 my の積を求めます。\\n\");\n",
        "\n",
        "    printf(\"行列 mx の値 ====================================\\n\");\n",
        "    for(i = 0; i < 4; i++) {\n",
        "        for(j = 0; j < 3; j++) {\n",
        "            printf(\"mx[%d][%d] の値を入力してください: \", i, j);\n",
        "            scanf(\"%d\", &mx[i][j]);\n",
        "        }\n",
        "    }\n",
        "\n",
        "    printf(\"行列 my の値 ====================================\\n\");\n",
        "    for(i = 0; i < 3; i++) {\n",
        "        for(j = 0; j < 4; j++) {\n",
        "            printf(\"my[%d][%d] の値を入力してください: \", i, j);\n",
        "            scanf(\"%d\", &my[i][j]);\n",
        "        }\n",
        "    }\n",
        "\n",
        "    mat_mul(mx, my, mz);\n",
        "\n",
        "    puts(\"行列の積\");\n",
        "    for(i = 0; i < 4; i++) {\n",
        "        for(j = 0; j < 4; j++) {\n",
        "            printf(\"%4d\", mz[i][j]);\n",
        "        }\n",
        "        putchar('\\n');\n",
        "    }\n",
        "\n",
        "    return 0;\n",
        "}"
      ],
      "execution_count": 35,
      "outputs": [
        {
          "output_type": "stream",
          "text": [
            "Overwriting 6-12.c\n"
          ],
          "name": "stdout"
        }
      ]
    },
    {
      "cell_type": "code",
      "metadata": {
        "id": "Wfn2y5gVl6Ot",
        "outputId": "5f5210d8-3f2a-4c38-c366-e901673b9f28",
        "colab": {
          "base_uri": "https://localhost:8080/"
        }
      },
      "source": [
        "!gcc 6-12.c -o prog && ./prog"
      ],
      "execution_count": 36,
      "outputs": [
        {
          "output_type": "stream",
          "text": [
            "４行３列の行列 mx と３行４列の行列 my の積を求めます。\n",
            "行列 mx の値 ====================================\n",
            "mx[0][0] の値を入力してください: 1\n",
            "mx[0][1] の値を入力してください: 3\n",
            "mx[0][2] の値を入力してください: 5\n",
            "mx[1][0] の値を入力してください: 6\n",
            "mx[1][1] の値を入力してください: 8\n",
            "mx[1][2] の値を入力してください: 4\n",
            "mx[2][0] の値を入力してください: 9\n",
            "mx[2][1] の値を入力してください: 1\n",
            "mx[2][2] の値を入力してください: 5\n",
            "mx[3][0] の値を入力してください: 7\n",
            "mx[3][1] の値を入力してください: 6\n",
            "mx[3][2] の値を入力してください: 4\n",
            "行列 my の値 ====================================\n",
            "my[0][0] の値を入力してください: 2\n",
            "my[0][1] の値を入力してください: 5\n",
            "my[0][2] の値を入力してください: 8\n",
            "my[0][3] の値を入力してください: 1\n",
            "my[1][0] の値を入力してください: 9\n",
            "my[1][1] の値を入力してください: 5\n",
            "my[1][2] の値を入力してください: 3\n",
            "my[1][3] の値を入力してください: 1\n",
            "my[2][0] の値を入力してください: 4\n",
            "my[2][1] の値を入力してください: 5\n",
            "my[2][2] の値を入力してください: 6\n",
            "my[2][3] の値を入力してください: 8\n",
            "行列の積\n",
            "  49  45  47  44\n",
            " 100  90  96  46\n",
            "  47  75 105  50\n",
            "  84  85  98  45\n"
          ],
          "name": "stdout"
        }
      ]
    }
  ]
}