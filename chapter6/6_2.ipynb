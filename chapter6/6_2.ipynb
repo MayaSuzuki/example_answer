{
  "nbformat": 4,
  "nbformat_minor": 0,
  "metadata": {
    "colab": {
      "name": "6-2.ipynb",
      "provenance": []
    },
    "kernelspec": {
      "name": "python3",
      "display_name": "Python 3"
    }
  },
  "cells": [
    {
      "cell_type": "code",
      "metadata": {
        "id": "dozY-L1I13zU",
        "outputId": "224e2abc-62c1-4252-c538-a24a8f58a681",
        "colab": {
          "base_uri": "https://localhost:8080/"
        }
      },
      "source": [
        "%%file 6-2.c\n",
        "#include<stdio.h>\n",
        "\n",
        "/*3つの整数の最小値を返す関数を定義*/\n",
        "int min3(int a, int b, int c) \n",
        "{\n",
        "    int min = a;\n",
        "\n",
        "    if(b < min)\n",
        "      min = b;\n",
        "    if(c < min)\n",
        "      min = c;\n",
        " \n",
        "    return min ;\n",
        "}\n",
        "\n",
        "int main() {\n",
        "    int a = 10;\n",
        "    int b = 5;\n",
        "    int c = 3;\n",
        "\n",
        "    printf(\"最小値は %d です。\\n\",  min3(a , b, c));\n",
        "    printf(\"最小値は %d です。\\n\",  min3(10 , 7, 11));\n",
        "    printf(\"最小値は %d です。\\n\",  min3(34 , 34, 34));\n",
        "    printf(\"最小値は %d です。\\n\",  min3(3.4 , 14, 15));\n",
        "\n",
        "    return 0;\n",
        "}"
      ],
      "execution_count": 8,
      "outputs": [
        {
          "output_type": "stream",
          "text": [
            "Writing 6-2.c\n"
          ],
          "name": "stdout"
        }
      ]
    },
    {
      "cell_type": "code",
      "metadata": {
        "id": "Wfn2y5gVl6Ot",
        "outputId": "4818e498-c60a-45be-eb89-ae71edb04706",
        "colab": {
          "base_uri": "https://localhost:8080/"
        }
      },
      "source": [
        "!gcc 6-2.c -o prog && ./prog"
      ],
      "execution_count": 9,
      "outputs": [
        {
          "output_type": "stream",
          "text": [
            "最小値は 3 です。\n",
            "最小値は 7 です。\n",
            "最小値は 34 です。\n",
            "最小値は 3 です。\n"
          ],
          "name": "stdout"
        }
      ]
    }
  ]
}