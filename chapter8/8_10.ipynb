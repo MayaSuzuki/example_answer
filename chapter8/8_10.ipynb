{
  "nbformat": 4,
  "nbformat_minor": 0,
  "metadata": {
    "colab": {
      "name": "8_10",
      "provenance": []
    },
    "kernelspec": {
      "name": "python3",
      "display_name": "Python 3"
    }
  },
  "cells": [
    {
      "cell_type": "code",
      "metadata": {
        "colab": {
          "base_uri": "https://localhost:8080/"
        },
        "id": "buNGkTXELe_m",
        "outputId": "42db9dee-65bf-4d92-9b0b-19beb0eb4653"
      },
      "source": [
        "%%file 8-10.c\n",
        "\n",
        "#include<stdio.h>\n",
        "\n",
        "int main() {\n",
        "    int i, j, ch;\n",
        "    int cnt[10] = {0};\n",
        "\n",
        "    while((ch = getchar()) != EOF) {\n",
        "        if(ch >= '0' && ch <= '9') {\n",
        "            cnt[ch - '0']++;\n",
        "        }\n",
        "    }\n",
        "\n",
        "    puts(\"数字文字の出現回数\");\n",
        "    for(i = 0; i < 10; i++) {\n",
        "        printf(\"'%d': \", i);\n",
        "        for(j = 0; j < cnt[i]; j++){\n",
        "            putchar('*');\n",
        "        }\n",
        "        putchar('\\n');\n",
        "    }\n",
        "\n",
        "    return 0;\n",
        "}"
      ],
      "execution_count": 97,
      "outputs": [
        {
          "output_type": "stream",
          "text": [
            "Overwriting 8-10.c\n"
          ],
          "name": "stdout"
        }
      ]
    },
    {
      "cell_type": "code",
      "metadata": {
        "colab": {
          "base_uri": "https://localhost:8080/"
        },
        "id": "rtcNNvmjNTHT",
        "outputId": "148fb1d5-126d-4be0-eb46-fa13067febcc"
      },
      "source": [
        "!gcc 8-10.c -o prog && ./prog"
      ],
      "execution_count": 99,
      "outputs": [
        {
          "output_type": "stream",
          "text": [
            "hgtf6\n",
            "gjfk;s453\n",
            "5u820w9fv\n",
            "574802w\n",
            "5748203\n",
            "543o]\n",
            "数字文字の出現回数\n",
            "'0': ***\n",
            "'1': \n",
            "'2': ***\n",
            "'3': ***\n",
            "'4': ****\n",
            "'5': *****\n",
            "'6': *\n",
            "'7': **\n",
            "'8': ***\n",
            "'9': *\n"
          ],
          "name": "stdout"
        }
      ]
    }
  ]
}