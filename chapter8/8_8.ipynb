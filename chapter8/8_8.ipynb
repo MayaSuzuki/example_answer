{
  "nbformat": 4,
  "nbformat_minor": 0,
  "metadata": {
    "colab": {
      "name": "8_8ipynb",
      "provenance": []
    },
    "kernelspec": {
      "name": "python3",
      "display_name": "Python 3"
    }
  },
  "cells": [
    {
      "cell_type": "code",
      "metadata": {
        "colab": {
          "base_uri": "https://localhost:8080/"
        },
        "id": "buNGkTXELe_m",
        "outputId": "d239b92e-2fb0-44a3-91fc-a13178cefe4a"
      },
      "source": [
        "%%file 8-8.c\n",
        "\n",
        "#include<stdio.h>\n",
        "\n",
        "int gcd(int x, int y)\n",
        "{\n",
        "    if(y == 0){\n",
        "        return x;\n",
        "    }else{\n",
        "        return gcd(y, x % y);\n",
        "    }\n",
        "}\n",
        "\n",
        "int main() {\n",
        "    int a, b;\n",
        "\n",
        "    printf(\"整数1: \");\n",
        "    scanf(\"%d\", &a);\n",
        "    printf(\"整数2: \");\n",
        "    scanf(\"%d\", &b);\n",
        "\n",
        "    printf(\"%dと%dの最大公約数は%dです\",a, b, gcd(22, 8));\n",
        "\n",
        "    return 0;\n",
        "}"
      ],
      "execution_count": 84,
      "outputs": [
        {
          "output_type": "stream",
          "text": [
            "Overwriting 8-8.c\n"
          ],
          "name": "stdout"
        }
      ]
    },
    {
      "cell_type": "code",
      "metadata": {
        "colab": {
          "base_uri": "https://localhost:8080/"
        },
        "id": "Xlq99QrTMBWw",
        "outputId": "305f2716-6a3a-4dc9-85e1-c3566836af32"
      },
      "source": [
        "!gcc 8-8.c -o prog && ./prog"
      ],
      "execution_count": 85,
      "outputs": [
        {
          "output_type": "stream",
          "text": [
            "整数1: 22\n",
            "整数2: 8\n",
            "22と8の最大公約数は2です"
          ],
          "name": "stdout"
        }
      ]
    }
  ]
}