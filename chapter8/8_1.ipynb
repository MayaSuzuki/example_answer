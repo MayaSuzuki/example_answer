{
  "nbformat": 4,
  "nbformat_minor": 0,
  "metadata": {
    "colab": {
      "name": "8_1.ipynb",
      "provenance": []
    },
    "kernelspec": {
      "name": "python3",
      "display_name": "Python 3"
    }
  },
  "cells": [
    {
      "cell_type": "code",
      "metadata": {
        "colab": {
          "base_uri": "https://localhost:8080/"
        },
        "id": "buNGkTXELe_m",
        "outputId": "0324ca45-3513-4cd4-e875-cf046962a8ea"
      },
      "source": [
        "%%file 8-1.c\n",
        "\n",
        "#include<stdio.h>\n",
        "\n",
        "#define diff(x, y) (((x) > (y)) ? ((x) - (y)) : ((y) - (x)))\n",
        "\n",
        "int main() {\n",
        "    \n",
        "    printf(\"4 と 5の差 : %d\\n\", diff(4, 5));\n",
        "    printf(\"8 と 3の差 : %d\\n\", diff(8, 3));\n",
        "    printf(\"3 と 3の差 : %d\\n\", diff(3, 3));\n",
        "\n",
        "    return 0;\n",
        "}"
      ],
      "execution_count": 12,
      "outputs": [
        {
          "output_type": "stream",
          "text": [
            "Overwriting 8-1.c\n"
          ],
          "name": "stdout"
        }
      ]
    },
    {
      "cell_type": "code",
      "metadata": {
        "colab": {
          "base_uri": "https://localhost:8080/"
        },
        "id": "Xlq99QrTMBWw",
        "outputId": "069166ad-0a9e-44e5-e852-615ee4597c88"
      },
      "source": [
        "!gcc 8-1.c -o prog && ./prog"
      ],
      "execution_count": 13,
      "outputs": [
        {
          "output_type": "stream",
          "text": [
            "4 と 5の差 : 1\n",
            "8 と 3の差 : 5\n",
            "3 と 3の差 : 0\n"
          ],
          "name": "stdout"
        }
      ]
    }
  ]
}