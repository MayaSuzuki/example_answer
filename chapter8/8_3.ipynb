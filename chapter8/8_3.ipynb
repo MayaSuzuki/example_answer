{
  "nbformat": 4,
  "nbformat_minor": 0,
  "metadata": {
    "colab": {
      "name": "8_3.ipynb",
      "provenance": []
    },
    "kernelspec": {
      "name": "python3",
      "display_name": "Python 3"
    }
  },
  "cells": [
    {
      "cell_type": "code",
      "metadata": {
        "colab": {
          "base_uri": "https://localhost:8080/"
        },
        "id": "buNGkTXELe_m",
        "outputId": "ffe60080-ed4a-4c7c-c98e-9cb259a28a7d"
      },
      "source": [
        "%%file 8-3.c\n",
        "\n",
        "#include<stdio.h>\n",
        "\n",
        "#define swap(type, a, b)   do{type t = a; a = b; b = t;} while(0)\n",
        "\n",
        "#define swap2(type, a, b)   {type t = a; a = b; b = t;}\n",
        "\n",
        "int main() {\n",
        "    int a = 5;\n",
        "    int b = 10;\n",
        "\n",
        "    swap(int, a, b);\n",
        "    printf(\"a : %d\\tb : %d\\n\", a, b);\n",
        "\n",
        "    swap2(int, a, b);\n",
        "    printf(\"a : %d\\tb : %d\\n\", a, b);\n",
        "\n",
        "    return 0;\n",
        "}"
      ],
      "execution_count": 10,
      "outputs": [
        {
          "output_type": "stream",
          "text": [
            "Overwriting 8-3.c\n"
          ],
          "name": "stdout"
        }
      ]
    },
    {
      "cell_type": "code",
      "metadata": {
        "colab": {
          "base_uri": "https://localhost:8080/"
        },
        "id": "Xlq99QrTMBWw",
        "outputId": "4554251f-67e5-424c-846a-0d4d0024b0b6"
      },
      "source": [
        "!gcc 8-3.c -o prog && ./prog"
      ],
      "execution_count": 11,
      "outputs": [
        {
          "output_type": "stream",
          "text": [
            "a : 10\tb : 5\n",
            "a : 5\tb : 10\n"
          ],
          "name": "stdout"
        }
      ]
    }
  ]
}