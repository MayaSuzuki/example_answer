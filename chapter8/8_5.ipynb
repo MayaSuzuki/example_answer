{
  "nbformat": 4,
  "nbformat_minor": 0,
  "metadata": {
    "colab": {
      "name": "8_5ipynb",
      "provenance": []
    },
    "kernelspec": {
      "name": "python3",
      "display_name": "Python 3"
    }
  },
  "cells": [
    {
      "cell_type": "code",
      "metadata": {
        "colab": {
          "base_uri": "https://localhost:8080/"
        },
        "id": "buNGkTXELe_m",
        "outputId": "9cb58d8e-2c71-4488-e55e-caea93cc6f7b"
      },
      "source": [
        "%%file 8-5.c\n",
        "\n",
        "#include<stdio.h>\n",
        "\n",
        "enum season {Spring, Summer, Autumn, Winter};\n",
        "\n",
        "void spring(){\n",
        "    puts(\"春です\");\n",
        "}\n",
        "\n",
        "void summer(){\n",
        "    puts(\"夏です\");\n",
        "}\n",
        "\n",
        "void autumn(){\n",
        "    puts(\"秋です\");\n",
        "}\n",
        "\n",
        "void winter(){\n",
        "    puts(\"冬です\");\n",
        "}\n",
        "\n",
        "enum season monthtoseason()\n",
        "{\n",
        "    int x, temp;\n",
        " \n",
        "    printf(\"月を入力してください :\");\n",
        "    scanf(\"%d\", &x);\n",
        " \n",
        "    switch(x){\n",
        "        case 3: \n",
        "        case 4:\n",
        "        case 5: temp = Spring; break;\n",
        "        case 6: \n",
        "        case 7:\n",
        "        case 8: temp = Summer; break;\n",
        "        case 9: \n",
        "        case 10:\n",
        "        case 11: temp = Autumn; break;\n",
        "        case 12: \n",
        "        case 1:\n",
        "        case 2: temp = Winter; break;\n",
        "    }\n",
        " \n",
        "    return temp;\n",
        "}\n",
        "\n",
        "int main() {\n",
        "    enum season month;\n",
        "\n",
        "    switch(month = monthtoseason()) {\n",
        "        case Spring: spring(); break;\n",
        "        case Summer: summer(); break;\n",
        "        case Autumn: autumn(); break;\n",
        "        case Winter: winter(); break;\n",
        "    }\n",
        "\n",
        "    return 0;\n",
        "}"
      ],
      "execution_count": 41,
      "outputs": [
        {
          "output_type": "stream",
          "text": [
            "Overwriting 8-5.c\n"
          ],
          "name": "stdout"
        }
      ]
    },
    {
      "cell_type": "code",
      "metadata": {
        "colab": {
          "base_uri": "https://localhost:8080/"
        },
        "id": "Xlq99QrTMBWw",
        "outputId": "3f6d21ce-faab-4a9a-d359-f6c5f4aa24af"
      },
      "source": [
        "!gcc 8-5.c -o prog && ./prog"
      ],
      "execution_count": 42,
      "outputs": [
        {
          "output_type": "stream",
          "text": [
            "月を入力してください :7\n",
            "夏です\n"
          ],
          "name": "stdout"
        }
      ]
    }
  ]
}