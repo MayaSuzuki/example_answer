{
  "nbformat": 4,
  "nbformat_minor": 0,
  "metadata": {
    "colab": {
      "name": "8_6ipynb",
      "provenance": []
    },
    "kernelspec": {
      "name": "python3",
      "display_name": "Python 3"
    }
  },
  "cells": [
    {
      "cell_type": "code",
      "metadata": {
        "colab": {
          "base_uri": "https://localhost:8080/"
        },
        "id": "buNGkTXELe_m",
        "outputId": "33e24dd8-e03a-476f-8a5c-0e593f684e34"
      },
      "source": [
        "%%file 8-6.c\n",
        "\n",
        "#include<stdio.h>\n",
        "\n",
        "int factorial(int n)\n",
        "{\n",
        "    int i;\n",
        "    int result = 1;\n",
        " \n",
        "    for(i = 1; i <= n; i++) {\n",
        "        result *= i;\n",
        "    }\n",
        " \n",
        "    return result;\n",
        "}\n",
        "\n",
        "int main() {\n",
        "    \n",
        "    printf(\"5の階乗は%dです。\", factorial(5));\n",
        "\n",
        "    return 0;\n",
        "}"
      ],
      "execution_count": 59,
      "outputs": [
        {
          "output_type": "stream",
          "text": [
            "Writing 8-6.c\n"
          ],
          "name": "stdout"
        }
      ]
    },
    {
      "cell_type": "code",
      "metadata": {
        "colab": {
          "base_uri": "https://localhost:8080/"
        },
        "id": "Xlq99QrTMBWw",
        "outputId": "884ac7ab-48b8-4f9a-aac0-b609082a7ae8"
      },
      "source": [
        "!gcc 8-6.c -o prog && ./prog"
      ],
      "execution_count": 60,
      "outputs": [
        {
          "output_type": "stream",
          "text": [
            "5の階乗は120です。"
          ],
          "name": "stdout"
        }
      ]
    }
  ]
}