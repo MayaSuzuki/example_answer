{
  "nbformat": 4,
  "nbformat_minor": 0,
  "metadata": {
    "colab": {
      "name": "8_4ipynb",
      "provenance": []
    },
    "kernelspec": {
      "name": "python3",
      "display_name": "Python 3"
    }
  },
  "cells": [
    {
      "cell_type": "code",
      "metadata": {
        "colab": {
          "base_uri": "https://localhost:8080/"
        },
        "id": "buNGkTXELe_m",
        "outputId": "6a3e3732-af87-46e2-baa3-7a24df1050fd"
      },
      "source": [
        "%%file 8-4.c\n",
        "\n",
        "#include<stdio.h>\n",
        "\n",
        "#define NUMBER 5\n",
        "\n",
        "void bsort(int a[], int n)\n",
        "{\n",
        "    int i, j;\n",
        " \n",
        "    for(i = n; i > 0; i--){\n",
        "        for(j = 1; j < i; j++) {\n",
        "            if(a[j - 1] > a[j]) {\n",
        "                int temp = a[j];\n",
        "                a[j] = a[j - 1];\n",
        "                a[j - 1] = temp;\n",
        "            }\n",
        "        }\n",
        "    }\n",
        "}\n",
        "\n",
        "int main() {\n",
        "    int i;\n",
        "    int height[NUMBER];\n",
        "\n",
        "    printf(\"%d人の身長を入力してください。\\n\", NUMBER);\n",
        "    for(i = 0; i < NUMBER; i++){\n",
        "        printf(\"%2d番 : \", i+1);\n",
        "        scanf(\"%d\", &height[i]);\n",
        "    }\n",
        "\n",
        "    bsort(height, NUMBER);\n",
        "\n",
        "    printf(\"\\n昇順にソートしました。\\n\");\n",
        "    for(i = 0; i < NUMBER; i++){\n",
        "        printf(\"%2d番 : %d\\n\", i + 1, height[i]);\n",
        "    }\n",
        "\n",
        "    return 0;\n",
        "}"
      ],
      "execution_count": 24,
      "outputs": [
        {
          "output_type": "stream",
          "text": [
            "Overwriting 8-4.c\n"
          ],
          "name": "stdout"
        }
      ]
    },
    {
      "cell_type": "code",
      "metadata": {
        "colab": {
          "base_uri": "https://localhost:8080/"
        },
        "id": "Xlq99QrTMBWw",
        "outputId": "ffb0aae2-b43d-4a73-f372-4101911210cd"
      },
      "source": [
        "!gcc 8-4.c -o prog && ./prog"
      ],
      "execution_count": 25,
      "outputs": [
        {
          "output_type": "stream",
          "text": [
            "5人の身長を入力してください。\n",
            " 1番 : 154\n",
            " 2番 : 162\n",
            " 3番 : 205\n",
            " 4番 : 175\n",
            " 5番 : 187\n",
            "\n",
            "昇順にソートしました。\n",
            " 1番 : 154\n",
            " 2番 : 162\n",
            " 3番 : 175\n",
            " 4番 : 187\n",
            " 5番 : 205\n"
          ],
          "name": "stdout"
        }
      ]
    }
  ]
}