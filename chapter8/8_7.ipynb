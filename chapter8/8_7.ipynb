{
  "nbformat": 4,
  "nbformat_minor": 0,
  "metadata": {
    "colab": {
      "name": "8_7ipynb",
      "provenance": []
    },
    "kernelspec": {
      "name": "python3",
      "display_name": "Python 3"
    }
  },
  "cells": [
    {
      "cell_type": "code",
      "metadata": {
        "colab": {
          "base_uri": "https://localhost:8080/"
        },
        "id": "buNGkTXELe_m",
        "outputId": "dcd3ea3b-c6cb-4cc9-91a1-7e6fc3d46d89"
      },
      "source": [
        "%%file 8-7.c\n",
        "\n",
        "#include<stdio.h>\n",
        "\n",
        "int combination(int n, int r)\n",
        "{\n",
        "    if(n == r || r == 0){\n",
        "        return 1;\n",
        "    }else if(r == 1){\n",
        "        return n;\n",
        "    }else{\n",
        "        return combination(n - 1, r - 1) + combination(n - 1, r);\n",
        "    }\n",
        "}\n",
        "\n",
        "int main() {\n",
        "    \n",
        "    printf(\"3個の整数から個の3整数を取り出す組み合わせの数は%dです\", combination(3, 2));\n",
        "\n",
        "    return 0;\n",
        "}"
      ],
      "execution_count": 69,
      "outputs": [
        {
          "output_type": "stream",
          "text": [
            "Overwriting 8-7.c\n"
          ],
          "name": "stdout"
        }
      ]
    },
    {
      "cell_type": "code",
      "metadata": {
        "colab": {
          "base_uri": "https://localhost:8080/"
        },
        "id": "Xlq99QrTMBWw",
        "outputId": "f6c31117-22f3-49a0-fbed-d652bdb859d4"
      },
      "source": [
        "!gcc 8-7.c -o prog && ./prog"
      ],
      "execution_count": 70,
      "outputs": [
        {
          "output_type": "stream",
          "text": [
            "3個の整数から個の3整数を取り出す組み合わせの数は3です"
          ],
          "name": "stdout"
        }
      ]
    }
  ]
}