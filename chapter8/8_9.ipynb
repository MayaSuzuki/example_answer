{
  "nbformat": 4,
  "nbformat_minor": 0,
  "metadata": {
    "colab": {
      "name": "8_9",
      "provenance": []
    },
    "kernelspec": {
      "name": "python3",
      "display_name": "Python 3"
    }
  },
  "cells": [
    {
      "cell_type": "code",
      "metadata": {
        "colab": {
          "base_uri": "https://localhost:8080/"
        },
        "id": "buNGkTXELe_m",
        "outputId": "5cf58ffe-5049-4042-9270-3235ce69f806"
      },
      "source": [
        "%%file 8-9.c\n",
        "\n",
        "#include<stdio.h>\n",
        "\n",
        "int main() {\n",
        "    int ch;\n",
        "    int count = 0;\n",
        "\n",
        "    while((ch = getchar()) != EOF) {\n",
        "        if(ch == '\\n') {\n",
        "            count++;\n",
        "        }\n",
        "    }\n",
        "\n",
        "    printf(\"行数は%d行です。\", count);\n",
        "\n",
        "    return 0;\n",
        "}"
      ],
      "execution_count": 90,
      "outputs": [
        {
          "output_type": "stream",
          "text": [
            "Overwriting 8-9.c\n"
          ],
          "name": "stdout"
        }
      ]
    }
  ]
}