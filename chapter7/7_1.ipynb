{
  "nbformat": 4,
  "nbformat_minor": 0,
  "metadata": {
    "colab": {
      "name": "7-1.ipynb",
      "provenance": []
    },
    "kernelspec": {
      "name": "python3",
      "display_name": "Python 3"
    }
  },
  "cells": [
    {
      "cell_type": "code",
      "metadata": {
        "colab": {
          "base_uri": "https://localhost:8080/"
        },
        "id": "buNGkTXELe_m",
        "outputId": "f4c94703-e213-4965-b88a-c07dd5a1250e"
      },
      "source": [
        "%%file 7-1.c\n",
        "\n",
        "#include<stdio.h>\n",
        "\n",
        "int main() {\n",
        "    int n;\n",
        "\n",
        "    printf(\"sizeof 1            = %u\\n\", (unsigned)(sizeof 1));\n",
        "    printf(\"sizeof+1            = %u\\n\", (unsigned)(sizeof+1));\n",
        "    printf(\"sizeof-1            = %u\\n\", (unsigned)(sizeof-1));\n",
        "    printf(\"sizeof(unsigned)-1  = %u\\n\", (unsigned)(sizeof(unsigned)-1));\n",
        "    printf(\"sizeof(doubole)-1   = %u\\n\", (unsigned)(sizeof(double)-1));\n",
        "    printf(\"sizeof((double)-1)  = %u\\n\", (unsigned)(sizeof((double)-1)));\n",
        "    printf(\"sizeof n+2          = %u\\n\", (unsigned)(sizeof n+2));\n",
        "    printf(\"sizeof(n+2)         = %u\\n\", (unsigned)(sizeof(n+2)));\n",
        "    printf(\"sizeof(n+2.0)       = %u\\n\", (unsigned)(sizeof(n+2.0)));  \n",
        "\n",
        "    return 0;\n",
        "}"
      ],
      "execution_count": 8,
      "outputs": [
        {
          "output_type": "stream",
          "text": [
            "Overwriting 7-1.c\n"
          ],
          "name": "stdout"
        }
      ]
    },
    {
      "cell_type": "code",
      "metadata": {
        "colab": {
          "base_uri": "https://localhost:8080/"
        },
        "id": "Xlq99QrTMBWw",
        "outputId": "462c0222-2102-4787-96ca-925de47749d9"
      },
      "source": [
        "!gcc 7-1.c -o prog && ./prog"
      ],
      "execution_count": 9,
      "outputs": [
        {
          "output_type": "stream",
          "text": [
            "sizeof 1            = 4\n",
            "sizeof+1            = 4\n",
            "sizeof-1            = 4\n",
            "sizeof(unsigned)-1  = 3\n",
            "sizeof(doubole)-1   = 7\n",
            "sizeof((double)-1)  = 8\n",
            "sizeof n+2          = 6\n",
            "sizeof(n+2)         = 4\n",
            "sizeof(n+2.0)       = 8\n"
          ],
          "name": "stdout"
        }
      ]
    }
  ]
}