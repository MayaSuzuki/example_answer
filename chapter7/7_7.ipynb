{
  "nbformat": 4,
  "nbformat_minor": 0,
  "metadata": {
    "colab": {
      "name": "7-7",
      "provenance": []
    },
    "kernelspec": {
      "name": "python3",
      "display_name": "Python 3"
    }
  },
  "cells": [
    {
      "cell_type": "code",
      "metadata": {
        "colab": {
          "base_uri": "https://localhost:8080/"
        },
        "id": "buNGkTXELe_m",
        "outputId": "d92bb12e-9462-4274-c6eb-d28c8eb2250d"
      },
      "source": [
        "%%file 7-7.c\n",
        "\n",
        "#include<stdio.h>\n",
        "\n",
        "int main() {\n",
        "    float a;\n",
        "    double b;\n",
        "    long double c;\n",
        "\n",
        "    puts(\"3個の実数値を入力してください。\");\n",
        "    printf(\"flout型         a :\");  scanf(\"%f\" , &a);\n",
        "    printf(\"double型        b :\");  scanf(\"%lf\" , &b);\n",
        "    printf(\"long flout型    c :\");  scanf(\"%Lf\" , &c);\n",
        "\n",
        "    printf(\"a = %f\\n\", a);\n",
        "    printf(\"b = %f\\n\", b);\n",
        "    printf(\"c = %Lf\\n\", c);\n",
        "\n",
        "    return 0;\n",
        "}"
      ],
      "execution_count": 71,
      "outputs": [
        {
          "output_type": "stream",
          "text": [
            "Overwriting 7-7.c\n"
          ],
          "name": "stdout"
        }
      ]
    },
    {
      "cell_type": "code",
      "metadata": {
        "colab": {
          "base_uri": "https://localhost:8080/"
        },
        "id": "Xlq99QrTMBWw",
        "outputId": "93d12a41-0a91-43c6-d8b5-8a1d28ea4b3a"
      },
      "source": [
        "!gcc 7-7.c -o prog && ./prog"
      ],
      "execution_count": 72,
      "outputs": [
        {
          "output_type": "stream",
          "text": [
            "3個の実数値を入力してください。\n",
            "flout型         a :46391286124639.0\n",
            "double型        b :4373104783014031.0\n",
            "long flout型    c :43012473027403987490327493.0\n",
            "a = 46391288135680.000000\n",
            "b = 4373104783014031.000000\n",
            "c = 43012473027403987489390592.000000\n"
          ],
          "name": "stdout"
        }
      ]
    }
  ]
}