{
  "nbformat": 4,
  "nbformat_minor": 0,
  "metadata": {
    "colab": {
      "name": "7-5",
      "provenance": []
    },
    "kernelspec": {
      "name": "python3",
      "display_name": "Python 3"
    }
  },
  "cells": [
    {
      "cell_type": "code",
      "metadata": {
        "colab": {
          "base_uri": "https://localhost:8080/"
        },
        "id": "buNGkTXELe_m",
        "outputId": "fba2628d-a575-403e-9b80-ca71638e0bf7"
      },
      "source": [
        "%%file 7-5.c\n",
        "\n",
        "#include<stdio.h>\n",
        "\n",
        "/*-- 整数x中のセットされたビット数を返す*/\n",
        "int count_bits(unsigned x)\n",
        "{\n",
        "    int bits = 0;\n",
        "    while(x) {\n",
        "        if(x & 1U) bits++;   /*1U は unsigned型の1 */\n",
        "        x >>= 1;\n",
        "    }\n",
        "    return bits;\n",
        "}\n",
        "\n",
        "/*-- unsigned型のビット数を返す --*/\n",
        "int int_bits(void)\n",
        "{\n",
        "    return count_bits(~0U);\n",
        "}\n",
        "\n",
        "/*-- unsigned型のビット内容を表示 --*/\n",
        "void print_bits(unsigned x)\n",
        "{\n",
        "    int i;\n",
        "    for(i = int_bits() - 1; i >= 0; i--){\n",
        "        putchar(((x >> i) & 1U) ? '1' : '0');\n",
        "    }\n",
        "}\n",
        "\n",
        "/*-- xを右にnビットシフトした値を返す --*/\n",
        "unsigned lsft(unsigned x, int n)\n",
        "{\n",
        "    return (n <= 0 || n >= int_bits()) ? x : (x << n);\n",
        "}\n",
        "\n",
        "/*-- xのposビット目からnビットを1にした値を返す --*/\n",
        "unsigned set_n(unsigned x, int pos, int n)\n",
        "{\n",
        "    return x | lsft(~lsft(~0, n), pos);\n",
        "}\n",
        "\n",
        "/*-- xのposビット目からnビットを0にした値を返す --*/\n",
        "unsigned reset_n(unsigned x, int pos, int n)\n",
        "{\n",
        "    return x & ~lsft(~lsft(~0, n), pos);\n",
        "}\n",
        "\n",
        "/*-- xのposビット目からnビットを反転した値を返す --*/\n",
        "unsigned inverse_n(unsigned x, int pos, int n)\n",
        "{\n",
        "    return x ^ lsft(~lsft(~0, n), pos);\n",
        "}\n",
        "\n",
        "\n",
        "int main() {\n",
        "    unsigned x, pos, n;\n",
        "\n",
        "    puts(\"符号なし整数xの第posビット～第pos+n-1ビットを操作します。\");\n",
        "    printf(\"x :\");    scanf(\"%u\", &x);\n",
        "    printf(\"pow :\");  scanf(\"%u\", &pos);\n",
        "    printf(\"n :\");    scanf(\"%u\", &n);\n",
        "\n",
        "    printf(\"\\nx                  =\"); print_bits(x);\n",
        "    printf(\"\\nset_n(x, pos, n)   =\"); print_bits(set_n(x, pos, n));\n",
        "    printf(\"\\nreset(x, pos, n)   =\"); print_bits(reset_n(x, pos, n));\n",
        "    printf(\"\\ninverse(x, pos, n) =\"); print_bits(inverse_n(x, pos, n));\n",
        "    putchar('\\n');\n",
        "\n",
        "    return 0;\n",
        "}"
      ],
      "execution_count": 58,
      "outputs": [
        {
          "output_type": "stream",
          "text": [
            "Overwriting 7-5.c\n"
          ],
          "name": "stdout"
        }
      ]
    },
    {
      "cell_type": "code",
      "metadata": {
        "colab": {
          "base_uri": "https://localhost:8080/"
        },
        "id": "Xlq99QrTMBWw",
        "outputId": "1f05de47-e7f7-4847-808e-4de45fc18069"
      },
      "source": [
        "!gcc 7-5.c -o prog && ./prog"
      ],
      "execution_count": 59,
      "outputs": [
        {
          "output_type": "stream",
          "text": [
            "符号なし整数xの第posビット～第pos+n-1ビットを操作します。\n",
            "x :12345\n",
            "pow :4\n",
            "n :3\n",
            "\n",
            "x                  =00000000000000000011000000111001\n",
            "set_n(x, pos, n)   =00000000000000000011000001111001\n",
            "reset(x, pos, n)   =00000000000000000011000000001001\n",
            "inverse(x, pos, n) =00000000000000000011000001001001\n"
          ],
          "name": "stdout"
        }
      ]
    }
  ]
}