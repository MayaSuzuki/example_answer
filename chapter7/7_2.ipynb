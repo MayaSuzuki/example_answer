{
  "nbformat": 4,
  "nbformat_minor": 0,
  "metadata": {
    "colab": {
      "name": "7-2.ipynb",
      "provenance": []
    },
    "kernelspec": {
      "name": "python3",
      "display_name": "Python 3"
    }
  },
  "cells": [
    {
      "cell_type": "code",
      "metadata": {
        "colab": {
          "base_uri": "https://localhost:8080/"
        },
        "id": "buNGkTXELe_m",
        "outputId": "8b26a1c9-cc60-4a45-c50d-aee3a4a4c1db"
      },
      "source": [
        "%%file 7-2.c\n",
        "\n",
        "#include<stdio.h>\n",
        "\n",
        "/*-- 2のno乗を返す --*/\n",
        "unsigned pow2(unsigned no)\n",
        "{\n",
        "    unsigned pw = 1;\n",
        " \n",
        "    while(no--)\n",
        "      pw *= 2;\n",
        "    return pw;\n",
        "}\n",
        "\n",
        "int main() {\n",
        "    unsigned m_pow, d_pow, l_sht, r_sht;\n",
        "    unsigned x, n;\n",
        "\n",
        "    printf(\"符号なし整数xをnビットシフトします。\\n\");\n",
        "    printf(\"x :\");  scanf(\"%u\", &x);\n",
        "    printf(\"n :\");  scanf(\"%u\", &n);\n",
        "\n",
        "    m_pow = x * pow2(n);    /*2のn乗を乗じた値*/\n",
        "    d_pow = x / pow2(n);    /*2のn乗を除した値*/\n",
        "\n",
        "    l_sht = x << n;         /*nビット左にシフトした値*/\n",
        "    r_sht = x >> n;         /*nビット右にシフトした値*/\n",
        "\n",
        "    printf(\"[a] x × (2の%u乗) = %u\\n\", n, m_pow);\n",
        "    printf(\"[b] x ÷ (2の%u乗) = %u\\n\", n, d_pow);\n",
        "    printf(\"[c] x << %u = %u\\n\", n, l_sht);\n",
        "    printf(\"[d] x >> %u = %u\\n\", n, r_sht);\n",
        "\n",
        "    printf(\"[a]と[c]の値は一致%s。 \\n\", (l_sht == m_pow) ? \"します\" : \"しません\");\n",
        "    printf(\"[b]と[d]の値は一致%s。 \\n\", (r_sht == d_pow) ? \"します\" : \"しません\");\n",
        "\n",
        "    return 0;\n",
        "}"
      ],
      "execution_count": 16,
      "outputs": [
        {
          "output_type": "stream",
          "text": [
            "Overwriting 7-2.c\n"
          ],
          "name": "stdout"
        }
      ]
    },
    {
      "cell_type": "code",
      "metadata": {
        "colab": {
          "base_uri": "https://localhost:8080/"
        },
        "id": "Xlq99QrTMBWw",
        "outputId": "68827e65-5647-44a8-efc9-52807f29cefb"
      },
      "source": [
        "!gcc 7-2.c -o prog && ./prog"
      ],
      "execution_count": 17,
      "outputs": [
        {
          "output_type": "stream",
          "text": [
            "符号なし整数xをnビットシフトします。\n",
            "x :100\n",
            "n :3\n",
            "[a] x × (2の3乗) = 800\n",
            "[b] x ÷ (2の3乗) = 12\n",
            "[c] x << 3 = 800\n",
            "[d] x >> 3 = 12\n",
            "[a]と[c]の値は一致します。 \n",
            "[b]と[d]の値は一致します。 \n"
          ],
          "name": "stdout"
        }
      ]
    }
  ]
}