{
  "nbformat": 4,
  "nbformat_minor": 0,
  "metadata": {
    "colab": {
      "name": "7-11",
      "provenance": []
    },
    "kernelspec": {
      "name": "python3",
      "display_name": "Python 3"
    }
  },
  "cells": [
    {
      "cell_type": "code",
      "metadata": {
        "colab": {
          "base_uri": "https://localhost:8080/"
        },
        "id": "buNGkTXELe_m",
        "outputId": "2bc9c50e-aec5-40f8-b9c0-ca612aed417f"
      },
      "source": [
        "%%file 7-11.c\n",
        "\n",
        "#include<stdio.h>\n",
        "\n",
        "int main() {\n",
        "    float x, sum = 0.0; \n",
        "\n",
        "    for(x = 0.0; x <= 1.0; x += 0.01) {\n",
        "        sum += x;\n",
        "    }\n",
        "\n",
        "    printf(\"0.00, 0.01, 0.02, ・・・ , 1.00の合計は%fです。\\n\", sum);\n",
        "\n",
        "    return 0;\n",
        "}"
      ],
      "execution_count": 99,
      "outputs": [
        {
          "output_type": "stream",
          "text": [
            "Overwriting 7-11.c\n"
          ],
          "name": "stdout"
        }
      ]
    },
    {
      "cell_type": "code",
      "metadata": {
        "colab": {
          "base_uri": "https://localhost:8080/"
        },
        "id": "Xlq99QrTMBWw",
        "outputId": "0791886b-d1be-4c89-d2ed-ca1c8c1af80f"
      },
      "source": [
        "!gcc 7-11.c -o prog && ./prog"
      ],
      "execution_count": 100,
      "outputs": [
        {
          "output_type": "stream",
          "text": [
            "0.00, 0.01, 0.02, ・・・ , 1.00の合計は50.499985です。\n"
          ],
          "name": "stdout"
        }
      ]
    },
    {
      "cell_type": "code",
      "metadata": {
        "colab": {
          "base_uri": "https://localhost:8080/"
        },
        "id": "B0Rt8kkTAYFO",
        "outputId": "91593133-1521-468a-eee9-3ecf20210d8f"
      },
      "source": [
        "%%file 7-11.c\n",
        "\n",
        "#include<stdio.h>\n",
        "\n",
        "int main() {\n",
        "    int i;\n",
        "    float sum = 0.0; \n",
        "\n",
        "    for(i = 0; i <= 100; i++) {\n",
        "        sum += i / 100.0;\n",
        "    }\n",
        "\n",
        "    printf(\"0.00, 0.01, 0.02, ・・・ , 1.00の合計は%fです。\\n\", sum);\n",
        "\n",
        "    return 0;\n",
        "}"
      ],
      "execution_count": 101,
      "outputs": [
        {
          "output_type": "stream",
          "text": [
            "Overwriting 7-11.c\n"
          ],
          "name": "stdout"
        }
      ]
    },
    {
      "cell_type": "code",
      "metadata": {
        "id": "9cNVSgGyAsM0",
        "outputId": "4579a75f-efc4-4c9e-eea2-2cffdfaca4ca",
        "colab": {
          "base_uri": "https://localhost:8080/"
        }
      },
      "source": [
        "!gcc 7-11.c -o prog && ./prog"
      ],
      "execution_count": 102,
      "outputs": [
        {
          "output_type": "stream",
          "text": [
            "0.00, 0.01, 0.02, ・・・ , 1.00の合計は50.500004です。\n"
          ],
          "name": "stdout"
        }
      ]
    }
  ]
}