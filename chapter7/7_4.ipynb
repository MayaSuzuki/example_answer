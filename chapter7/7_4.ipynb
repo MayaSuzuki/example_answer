{
  "nbformat": 4,
  "nbformat_minor": 0,
  "metadata": {
    "colab": {
      "name": "7-4",
      "provenance": []
    },
    "kernelspec": {
      "name": "python3",
      "display_name": "Python 3"
    }
  },
  "cells": [
    {
      "cell_type": "code",
      "metadata": {
        "colab": {
          "base_uri": "https://localhost:8080/"
        },
        "id": "buNGkTXELe_m",
        "outputId": "3fb9a0e5-7126-4104-eb05-e88ca8772494"
      },
      "source": [
        "%%file 7-4.c\n",
        "\n",
        "#include<stdio.h>\n",
        "\n",
        "/*-- 整数x中のセットされたビット数を返す*/\n",
        "int count_bits(unsigned x)\n",
        "{\n",
        "    int bits = 0;\n",
        "    while(x) {\n",
        "        if(x & 1U) bits++;   /*1U は unsigned型の1 */\n",
        "        x >>= 1;\n",
        "    }\n",
        "    return bits;\n",
        "}\n",
        "\n",
        "/*-- unsigned型のビット数を返す --*/\n",
        "int int_bits(void)\n",
        "{\n",
        "    return count_bits(~0U);\n",
        "}\n",
        "\n",
        "/*-- unsigned型のビット内容を表示 --*/\n",
        "void print_bits(unsigned x)\n",
        "{\n",
        "    int i;\n",
        "    for(i = int_bits() - 1; i >= 0; i--){\n",
        "        putchar(((x >> i) & 1U) ? '1' : '0');\n",
        "    }\n",
        "}\n",
        "\n",
        "/*-- xを右にnビットシフトした値を返す --*/\n",
        "unsigned lsft(unsigned x, int n)\n",
        "{\n",
        "    return (n <= 0 || n >= int_bits()) ? x : (x << n);\n",
        "}\n",
        "\n",
        "/*-- xのposビット目を1にした値を返す --*/\n",
        "unsigned set(unsigned x, int pos)\n",
        "{\n",
        "    return x | lsft(1U, pos);\n",
        "}\n",
        "\n",
        "/*-- xのposビット目を0にした値を返す --*/\n",
        "unsigned reset(unsigned x, int pos)\n",
        "{\n",
        "    return x & ~lsft(1U, pos);\n",
        "}\n",
        "\n",
        "/*-- xのposビット目を反転した値を返す --*/\n",
        "unsigned inverse(unsigned x, int pos)\n",
        "{\n",
        "    return x ^ lsft(1U, pos);\n",
        "}\n",
        "\n",
        "\n",
        "int main() {\n",
        "    unsigned x, pos;\n",
        "\n",
        "    puts(\"符号なし整数xの第posビット目を操作します。\");\n",
        "    printf(\"x :\");  scanf(\"%u\", &x);\n",
        "    printf(\"pow :\");  scanf(\"%u\", &pos);\n",
        "\n",
        "    printf(\"\\nx               =\"); print_bits(x);\n",
        "    printf(\"\\nset(x, pos)     =\"); print_bits(set(x, pos));\n",
        "    printf(\"\\nreset(x, pos)   =\"); print_bits(reset(x, pos));\n",
        "    printf(\"\\ninverse(x, pos) =\"); print_bits(inverse(x, pos));\n",
        "    putchar('\\n');\n",
        "\n",
        "    return 0;\n",
        "}"
      ],
      "execution_count": 54,
      "outputs": [
        {
          "output_type": "stream",
          "text": [
            "Overwriting 7-4.c\n"
          ],
          "name": "stdout"
        }
      ]
    },
    {
      "cell_type": "code",
      "metadata": {
        "colab": {
          "base_uri": "https://localhost:8080/"
        },
        "id": "Xlq99QrTMBWw",
        "outputId": "53d9d7bd-3cac-4f03-a4f2-cadb5696bb2d"
      },
      "source": [
        "!gcc 7-4.c -o prog && ./prog"
      ],
      "execution_count": 55,
      "outputs": [
        {
          "output_type": "stream",
          "text": [
            "符号なし整数xの第posビット目を操作します。\n",
            "x :12345\n",
            "pow :4\n",
            "\n",
            "x               =00000000000000000011000000111001\n",
            "set(x, pos)     =00000000000000000011000000111001\n",
            "reset(x, pos)   =00000000000000000011000000101001\n",
            "inverse(x, pos) =00000000000000000011000000101001\n"
          ],
          "name": "stdout"
        }
      ]
    }
  ]
}