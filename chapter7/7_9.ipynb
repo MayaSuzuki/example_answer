{
  "nbformat": 4,
  "nbformat_minor": 0,
  "metadata": {
    "colab": {
      "name": "7-9",
      "provenance": []
    },
    "kernelspec": {
      "name": "python3",
      "display_name": "Python 3"
    }
  },
  "cells": [
    {
      "cell_type": "code",
      "metadata": {
        "colab": {
          "base_uri": "https://localhost:8080/"
        },
        "id": "buNGkTXELe_m",
        "outputId": "0bb7857c-6cf1-4b03-a3f2-2de3a61293e1"
      },
      "source": [
        "%%file 7-9.c\n",
        "\n",
        "#include<math.h>\n",
        "#include<stdio.h>\n",
        "\n",
        "int main() {\n",
        "    double area;\n",
        "\n",
        "    puts(\"正方形の面積から一辺の長さを求めます。\");\n",
        "    printf(\"面積 :\");\n",
        "    scanf(\"%lf\", &area);\n",
        "\n",
        "    printf(\"一辺の長さは%fです。\\n\", sqrt(area));\n",
        "\n",
        "    return 0;\n",
        "}"
      ],
      "execution_count": 83,
      "outputs": [
        {
          "output_type": "stream",
          "text": [
            "Overwriting 7-9.c\n"
          ],
          "name": "stdout"
        }
      ]
    },
    {
      "cell_type": "code",
      "metadata": {
        "colab": {
          "base_uri": "https://localhost:8080/"
        },
        "id": "Xlq99QrTMBWw",
        "outputId": "31e22756-977a-4bd7-9f57-da59af5013ff"
      },
      "source": [
        "!gcc 7-9.c -o prog && ./prog"
      ],
      "execution_count": 84,
      "outputs": [
        {
          "output_type": "stream",
          "text": [
            "/tmp/ccetLrmm.o: In function `main':\n",
            "7-9.c:(.text+0x5a): undefined reference to `sqrt'\n",
            "collect2: error: ld returned 1 exit status\n"
          ],
          "name": "stdout"
        }
      ]
    }
  ]
}