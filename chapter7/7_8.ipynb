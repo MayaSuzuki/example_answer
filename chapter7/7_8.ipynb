{
  "nbformat": 4,
  "nbformat_minor": 0,
  "metadata": {
    "colab": {
      "name": "7-8",
      "provenance": []
    },
    "kernelspec": {
      "name": "python3",
      "display_name": "Python 3"
    }
  },
  "cells": [
    {
      "cell_type": "code",
      "metadata": {
        "colab": {
          "base_uri": "https://localhost:8080/"
        },
        "id": "buNGkTXELe_m",
        "outputId": "f671f630-09e7-4030-bb77-b4ca5a6f0e31"
      },
      "source": [
        "%%file 7-8.c\n",
        "\n",
        "#include<stdio.h>\n",
        "\n",
        "int main() {\n",
        "    printf(\"sizeof(float)       = %u\\n\", (unsigned)sizeof(float));\n",
        "    printf(\"sizeof(double)      = %u\\n\", (unsigned)sizeof(double));\n",
        "    printf(\"sizeof(long double) = %u\\n\", (unsigned)sizeof(long double));\n",
        "\n",
        "    return 0;\n",
        "}"
      ],
      "execution_count": 73,
      "outputs": [
        {
          "output_type": "stream",
          "text": [
            "Writing 7-8.c\n"
          ],
          "name": "stdout"
        }
      ]
    },
    {
      "cell_type": "code",
      "metadata": {
        "colab": {
          "base_uri": "https://localhost:8080/"
        },
        "id": "Xlq99QrTMBWw",
        "outputId": "cba3b449-b662-4b73-ea28-76f5395bf705"
      },
      "source": [
        "!gcc 7-8.c -o prog && ./prog"
      ],
      "execution_count": 74,
      "outputs": [
        {
          "output_type": "stream",
          "text": [
            "sizeof(float)       = 4\n",
            "sizeof(double)      = 8\n",
            "sizeof(long double) = 16\n"
          ],
          "name": "stdout"
        }
      ]
    }
  ]
}