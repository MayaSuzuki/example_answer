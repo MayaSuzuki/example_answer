{
  "nbformat": 4,
  "nbformat_minor": 0,
  "metadata": {
    "colab": {
      "name": "7-6",
      "provenance": []
    },
    "kernelspec": {
      "name": "python3",
      "display_name": "Python 3"
    }
  },
  "cells": [
    {
      "cell_type": "code",
      "metadata": {
        "colab": {
          "base_uri": "https://localhost:8080/"
        },
        "id": "buNGkTXELe_m",
        "outputId": "884a07ee-3e19-487c-c48a-f7a686a7f527"
      },
      "source": [
        "%%file 7-6.c\n",
        "\n",
        "#include<stdio.h>\n",
        "#include<limits.h>\n",
        "\n",
        "int main() {\n",
        "    unsigned a;\n",
        "    unsigned b;\n",
        "\n",
        "    puts(\"符号なし整数値の和と積を求めます。\");\n",
        "    printf(\"UINT_MAXは%uです。\\n\", UINT_MAX);\n",
        "    printf(\"UINT_MAXを超えた演算結果は(UINT_MAX + 1)で割った剰余となります。\\n\");\n",
        "    printf(\"a :\");  scanf(\"%u\" , &a);\n",
        "    printf(\"b :\");  scanf(\"%u\" , &b);\n",
        "\n",
        "    printf(\"a + b = %u\\n\", a + b);\n",
        "    printf(\"a * b = %u\\n\", a * b);\n",
        "\n",
        "    return 0;\n",
        "}"
      ],
      "execution_count": 62,
      "outputs": [
        {
          "output_type": "stream",
          "text": [
            "Overwriting 7-6.c\n"
          ],
          "name": "stdout"
        }
      ]
    },
    {
      "cell_type": "code",
      "metadata": {
        "colab": {
          "base_uri": "https://localhost:8080/"
        },
        "id": "Xlq99QrTMBWw",
        "outputId": "06348d4b-e252-4465-ebb9-cb1112bcb680"
      },
      "source": [
        "!gcc 7-6.c -o prog && ./prog"
      ],
      "execution_count": 65,
      "outputs": [
        {
          "output_type": "stream",
          "text": [
            "符号なし整数値の和と積を求めます。\n",
            "UINT_MAXは4294967295です。\n",
            "UINT_MAXを超えた演算結果は(UINT_MAX + 1)で割った剰余となります。\n",
            "a :4294967295\n",
            "b :1\n",
            "a + b = 0\n",
            "a * b = 4294967295\n"
          ],
          "name": "stdout"
        }
      ]
    }
  ]
}