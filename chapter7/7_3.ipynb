{
  "nbformat": 4,
  "nbformat_minor": 0,
  "metadata": {
    "colab": {
      "name": "7-3.ipynb",
      "provenance": []
    },
    "kernelspec": {
      "name": "python3",
      "display_name": "Python 3"
    }
  },
  "cells": [
    {
      "cell_type": "code",
      "metadata": {
        "colab": {
          "base_uri": "https://localhost:8080/"
        },
        "id": "buNGkTXELe_m",
        "outputId": "3747f973-93b0-45ef-bcdd-85d9787516c8"
      },
      "source": [
        "%%file 7-3.c\n",
        "\n",
        "#include<stdio.h>\n",
        "\n",
        "/*-- 整数x中のセットされたビット数を返す*/\n",
        "int count_bits(unsigned x)\n",
        "{\n",
        "    int bits = 0;\n",
        "    while(x) {\n",
        "        if(x & 1U) bits++;   /*1U は unsigned型の1 */\n",
        "        x >>= 1;\n",
        "    }\n",
        "    return bits;\n",
        "}\n",
        "\n",
        "/*-- unsigned型のビット数を返す --*/\n",
        "int int_bits(void)\n",
        "{\n",
        "    return count_bits(~0U);\n",
        "}\n",
        "\n",
        "/*-- unsigned型のビット内容を表示 --*/\n",
        "void print_bits(unsigned x)\n",
        "{\n",
        "    int i;\n",
        "    for(i = int_bits() - 1; i >= 0; i--){\n",
        "        putchar(((x >> i) & 1U) ? '1' : '0');\n",
        "    }\n",
        "}\n",
        "\n",
        "/*-- xを右にnビット回転した値を返す --*/\n",
        "unsigned rrotate(unsigned x, int n)\n",
        "{\n",
        "    unsigned lrotate(unsigned, int);\n",
        "    if(n < 0)\n",
        "      lrotate(x, -n);\n",
        "    else {\n",
        "        int bits = int_bits();\n",
        "        n %= bits;\n",
        "        return n ? (x >> n) | (x << (bits - n)) : x;\n",
        "    }\n",
        "}\n",
        "\n",
        "/*-- xを左にnビット回転した値を返す --*/\n",
        "unsigned lrotate(unsigned x, int n)\n",
        "{\n",
        "    if(n < 0)\n",
        "      rrotate(x, -n);\n",
        "    else {\n",
        "        int bits = int_bits();\n",
        "        n %= bits;\n",
        "        return n ? (x << n) | (x >> (bits - n)) : x;\n",
        "    }\n",
        "}\n",
        "\n",
        "int main() {\n",
        "    unsigned x, n;\n",
        "\n",
        "    printf(\"符号なし整数xをnビット回転します。\\n\");\n",
        "    printf(\"x :\");  scanf(\"%u\", &x);\n",
        "    printf(\"n :\");  scanf(\"%u\", &n);\n",
        "\n",
        "    printf(\"\\n回転前=\"); print_bits(x);\n",
        "    printf(\"\\n右回転=\"); print_bits(rrotate(x, n));\n",
        "    printf(\"\\n左回転=\"); print_bits(lrotate(x, n));\n",
        "    putchar('\\n');\n",
        "\n",
        "    return 0;\n",
        "}"
      ],
      "execution_count": 45,
      "outputs": [
        {
          "output_type": "stream",
          "text": [
            "Overwriting 7-3.c\n"
          ],
          "name": "stdout"
        }
      ]
    },
    {
      "cell_type": "code",
      "metadata": {
        "colab": {
          "base_uri": "https://localhost:8080/"
        },
        "id": "Xlq99QrTMBWw",
        "outputId": "d6861bf3-d7e8-4e38-f8a0-c30cbd0d6643"
      },
      "source": [
        "!gcc 7-3.c -o prog && ./prog"
      ],
      "execution_count": 49,
      "outputs": [
        {
          "output_type": "stream",
          "text": [
            "符号なし整数xをnビット回転します。\n",
            "x :12345\n",
            "n :4\n",
            "\n",
            "回転前=00000000000000000011000000111001\n",
            "右回転=10010000000000000000001100000011\n",
            "左回転=00000000000000110000001110010000\n"
          ],
          "name": "stdout"
        }
      ]
    }
  ]
}