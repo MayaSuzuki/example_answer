{
  "nbformat": 4,
  "nbformat_minor": 0,
  "metadata": {
    "colab": {
      "name": "4_23_2.ipynb",
      "provenance": []
    },
    "kernelspec": {
      "name": "python3",
      "display_name": "Python 3"
    }
  },
  "cells": [
    {
      "cell_type": "code",
      "metadata": {
        "id": "dozY-L1I13zU",
        "outputId": "ea919d1e-348d-4573-92a9-9ceb6b11c53e",
        "colab": {
          "base_uri": "https://localhost:8080/"
        }
      },
      "source": [
        "%%file 4-23_2.c\n",
        "#include<stdio.h>\n",
        "\n",
        "int main() {\n",
        "\n",
        "    int i, j, len;\n",
        "\n",
        "    puts(\"左上直角二等辺三角形を作ります。\");\n",
        "    printf(\"短辺: \");\n",
        "    scanf(\"%d\", &len);\n",
        "\n",
        "    for(i = len; i >= 1; i--) {\n",
        "        for(j = 1; j <= i; j++){\n",
        "            putchar('*');\n",
        "        }\n",
        "        putchar('\\n');\n",
        "    }\n",
        "\n",
        "    return 0;\n",
        "}"
      ],
      "execution_count": 13,
      "outputs": [
        {
          "output_type": "stream",
          "text": [
            "Writing 4-23_2.c\n"
          ],
          "name": "stdout"
        }
      ]
    },
    {
      "cell_type": "code",
      "metadata": {
        "id": "N5tak6rU2Gg_",
        "outputId": "8a8f24f4-8ca8-4097-a0c6-d53759c827d4",
        "colab": {
          "base_uri": "https://localhost:8080/"
        }
      },
      "source": [
        "!gcc 4-23_2.c -o prog && ./prog"
      ],
      "execution_count": 14,
      "outputs": [
        {
          "output_type": "stream",
          "text": [
            "左上直角二等辺三角形を作ります。\n",
            "短辺: 6\n",
            "******\n",
            "*****\n",
            "****\n",
            "***\n",
            "**\n",
            "*\n"
          ],
          "name": "stdout"
        }
      ]
    }
  ]
}