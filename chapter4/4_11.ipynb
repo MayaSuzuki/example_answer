{
  "nbformat": 4,
  "nbformat_minor": 0,
  "metadata": {
    "colab": {
      "name": "4-11",
      "provenance": []
    },
    "kernelspec": {
      "name": "python3",
      "display_name": "Python 3"
    }
  },
  "cells": [
    {
      "cell_type": "code",
      "metadata": {
        "id": "dozY-L1I13zU",
        "outputId": "b4dcccf7-85ee-4a6f-f4a4-a1ddad6394ca",
        "colab": {
          "base_uri": "https://localhost:8080/"
        }
      },
      "source": [
        "%%file 4-11.c\n",
        "#include<stdio.h>\n",
        "\n",
        "int main() {\n",
        "\n",
        "    int no;\n",
        "\n",
        "    do {\n",
        "        printf(\"正の整数を入力してください: \");\n",
        "        scanf(\"%d\", &no);\n",
        "        if(no <= 0)\n",
        "            puts(\"\\a正でない数を入力しないでください。\");\n",
        "    }while(no <= 0);\n",
        "\n",
        "    printf(\"その数を逆から読むと\");\n",
        "    while(no > 0) {\n",
        "        printf(\"%d\", no % 10);\n",
        "        no /= 10;\n",
        "    }\n",
        "    puts(\"です。\");\n",
        "\n",
        "    return 0;\n",
        "}"
      ],
      "execution_count": 75,
      "outputs": [
        {
          "output_type": "stream",
          "text": [
            "Writing 4-11.c\n"
          ],
          "name": "stdout"
        }
      ]
    },
    {
      "cell_type": "code",
      "metadata": {
        "id": "N5tak6rU2Gg_",
        "outputId": "b76652df-e74c-416c-a6e5-1ce3d8588052",
        "colab": {
          "base_uri": "https://localhost:8080/"
        }
      },
      "source": [
        "!gcc 4-11.c -o prog && ./prog"
      ],
      "execution_count": 77,
      "outputs": [
        {
          "output_type": "stream",
          "text": [
            "正の整数を入力してください: 35447\n",
            "その数を逆から読むと74453です。\n"
          ],
          "name": "stdout"
        }
      ]
    }
  ]
}