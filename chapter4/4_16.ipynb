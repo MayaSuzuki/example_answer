{
  "nbformat": 4,
  "nbformat_minor": 0,
  "metadata": {
    "colab": {
      "name": "4_16.ipynb",
      "provenance": []
    },
    "kernelspec": {
      "name": "python3",
      "display_name": "Python 3"
    }
  },
  "cells": [
    {
      "cell_type": "code",
      "metadata": {
        "id": "dozY-L1I13zU",
        "outputId": "e35d8681-2fd5-4cb1-9ca8-1cc1d2c638ff",
        "colab": {
          "base_uri": "https://localhost:8080/"
        }
      },
      "source": [
        "%%file 4-16.c\n",
        "#include<stdio.h>\n",
        "\n",
        "int main() {\n",
        "\n",
        "    int i, no;\n",
        "\n",
        "    printf(\"整数値: \");\n",
        "    scanf(\"%d\", &no);\n",
        "\n",
        "    for(i = 1; i <= no; i += 2) {\n",
        "        printf(\"%d \", i);\n",
        "    }\n",
        "    putchar('\\n');\n",
        "\n",
        "    return 0;\n",
        "}"
      ],
      "execution_count": 3,
      "outputs": [
        {
          "output_type": "stream",
          "text": [
            "Overwriting 4-16.c\n"
          ],
          "name": "stdout"
        }
      ]
    },
    {
      "cell_type": "code",
      "metadata": {
        "id": "N5tak6rU2Gg_",
        "outputId": "afd6240a-a2cd-4463-cdcf-0e6309d9a659",
        "colab": {
          "base_uri": "https://localhost:8080/"
        }
      },
      "source": [
        "!gcc 4-16.c -o prog && ./prog"
      ],
      "execution_count": 4,
      "outputs": [
        {
          "output_type": "stream",
          "text": [
            "整数値: 15\n",
            "1 3 5 7 9 11 13 15 \n"
          ],
          "name": "stdout"
        }
      ]
    }
  ]
}