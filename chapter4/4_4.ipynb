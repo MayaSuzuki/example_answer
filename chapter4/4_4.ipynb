{
  "nbformat": 4,
  "nbformat_minor": 0,
  "metadata": {
    "colab": {
      "name": "4-4",
      "provenance": []
    },
    "kernelspec": {
      "name": "python3",
      "display_name": "Python 3"
    }
  },
  "cells": [
    {
      "cell_type": "code",
      "metadata": {
        "id": "dozY-L1I13zU",
        "outputId": "da7fb2b6-9d7c-4909-9a63-719df42d4517",
        "colab": {
          "base_uri": "https://localhost:8080/"
        }
      },
      "source": [
        "%%file 4-4.c\n",
        "#include<stdio.h>\n",
        "\n",
        "int main() {\n",
        "\n",
        "    int no;\n",
        "\n",
        "    puts(\"整数を入力してください。\");\n",
        "    scanf(\"%d\", &no);\n",
        " \n",
        "    if(no >= 1) {\n",
        "        while(no >= 1){\n",
        "            printf(\"%d \", no--);\n",
        "        }\n",
        "        printf(\"\\n\");\n",
        "    }\n",
        "\n",
        "    return 0;\n",
        "}"
      ],
      "execution_count": 51,
      "outputs": [
        {
          "output_type": "stream",
          "text": [
            "Writing 4-4.c\n"
          ],
          "name": "stdout"
        }
      ]
    },
    {
      "cell_type": "code",
      "metadata": {
        "id": "N5tak6rU2Gg_",
        "outputId": "c3a5767d-0738-4930-e932-27e140287699",
        "colab": {
          "base_uri": "https://localhost:8080/"
        }
      },
      "source": [
        "!gcc 4-4.c -o prog && ./prog"
      ],
      "execution_count": 52,
      "outputs": [
        {
          "output_type": "stream",
          "text": [
            "整数を入力してください。\n",
            "30\n",
            "30 29 28 27 26 25 24 23 22 21 20 19 18 17 16 15 14 13 12 11 10 9 8 7 6 5 4 3 2 1 \n"
          ],
          "name": "stdout"
        }
      ]
    }
  ]
}