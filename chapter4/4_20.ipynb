{
  "nbformat": 4,
  "nbformat_minor": 0,
  "metadata": {
    "colab": {
      "name": "4_20.ipynb",
      "provenance": []
    },
    "kernelspec": {
      "name": "python3",
      "display_name": "Python 3"
    }
  },
  "cells": [
    {
      "cell_type": "code",
      "metadata": {
        "id": "dozY-L1I13zU",
        "outputId": "0728da3b-9d40-4026-a491-4064e42627b4",
        "colab": {
          "base_uri": "https://localhost:8080/"
        }
      },
      "source": [
        "%%file 4-20.c\n",
        "#include<stdio.h>\n",
        "\n",
        "int main() {\n",
        "\n",
        "    int i, j;\n",
        "    \n",
        "    printf(\"  |\");\n",
        "\n",
        "    for(i = 1; i <= 9; i++) {\n",
        "        printf(\"%3d\", i);\n",
        "    }\n",
        "    putchar('\\n');\n",
        "\n",
        "    puts(\"--+-----------------------------\");\n",
        "\n",
        "    for(i = 1; i <= 9; i++) {\n",
        "        printf(\"%d |\", i);\n",
        "        for(j = 1; j <= 9; j++) {\n",
        "            printf(\"%3d\", i * j);\n",
        "        }\n",
        "        putchar('\\n');\n",
        "    }\n",
        "\n",
        "    return 0;\n",
        "}\n"
      ],
      "execution_count": 37,
      "outputs": [
        {
          "output_type": "stream",
          "text": [
            "Overwriting 4-20.c\n"
          ],
          "name": "stdout"
        }
      ]
    },
    {
      "cell_type": "code",
      "metadata": {
        "id": "N5tak6rU2Gg_",
        "outputId": "1a395f4e-fce3-4b1f-8749-8fe794c776e3",
        "colab": {
          "base_uri": "https://localhost:8080/"
        }
      },
      "source": [
        "!gcc 4-20.c -o prog && ./prog"
      ],
      "execution_count": 38,
      "outputs": [
        {
          "output_type": "stream",
          "text": [
            "  |  1  2  3  4  5  6  7  8  9\n",
            "--+-----------------------------\n",
            "1 |  1  2  3  4  5  6  7  8  9\n",
            "2 |  2  4  6  8 10 12 14 16 18\n",
            "3 |  3  6  9 12 15 18 21 24 27\n",
            "4 |  4  8 12 16 20 24 28 32 36\n",
            "5 |  5 10 15 20 25 30 35 40 45\n",
            "6 |  6 12 18 24 30 36 42 48 54\n",
            "7 |  7 14 21 28 35 42 49 56 63\n",
            "8 |  8 16 24 32 40 48 56 64 72\n",
            "9 |  9 18 27 36 45 54 63 72 81\n"
          ],
          "name": "stdout"
        }
      ]
    }
  ]
}