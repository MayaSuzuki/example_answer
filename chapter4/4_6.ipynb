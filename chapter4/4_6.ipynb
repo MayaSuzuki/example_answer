{
  "nbformat": 4,
  "nbformat_minor": 0,
  "metadata": {
    "colab": {
      "name": "4-6",
      "provenance": []
    },
    "kernelspec": {
      "name": "python3",
      "display_name": "Python 3"
    }
  },
  "cells": [
    {
      "cell_type": "code",
      "metadata": {
        "id": "dozY-L1I13zU",
        "outputId": "9718fa52-32a1-4cdb-df52-c059bc92b1e5",
        "colab": {
          "base_uri": "https://localhost:8080/"
        }
      },
      "source": [
        "%%file 4-6.c\n",
        "#include<stdio.h>\n",
        "\n",
        "int main() {\n",
        "\n",
        "    int no, i;\n",
        "\n",
        "    i = 2;\n",
        "\n",
        "    puts(\"整数を入力してください。\");\n",
        "    scanf(\"%d\", &no);\n",
        " \n",
        "    if(no >= 1) {\n",
        "        while(i <= no){\n",
        "            printf(\"%d \", i);\n",
        "            i+=2;\n",
        "        }\n",
        "        printf(\"\\n\");\n",
        "    }\n",
        "\n",
        "    return 0;\n",
        "}"
      ],
      "execution_count": 58,
      "outputs": [
        {
          "output_type": "stream",
          "text": [
            "Overwriting 4-6.c\n"
          ],
          "name": "stdout"
        }
      ]
    },
    {
      "cell_type": "code",
      "metadata": {
        "id": "N5tak6rU2Gg_",
        "outputId": "5d384e03-e9db-4e47-ea93-895635a728cf",
        "colab": {
          "base_uri": "https://localhost:8080/"
        }
      },
      "source": [
        "!gcc 4-6.c -o prog && ./prog"
      ],
      "execution_count": 59,
      "outputs": [
        {
          "output_type": "stream",
          "text": [
            "整数を入力してください。\n",
            "30\n",
            "2 4 6 8 10 12 14 16 18 20 22 24 26 28 30 \n"
          ],
          "name": "stdout"
        }
      ]
    }
  ]
}