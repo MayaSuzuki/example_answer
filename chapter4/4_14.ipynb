{
  "nbformat": 4,
  "nbformat_minor": 0,
  "metadata": {
    "colab": {
      "name": "4-14",
      "provenance": []
    },
    "kernelspec": {
      "name": "python3",
      "display_name": "Python 3"
    }
  },
  "cells": [
    {
      "cell_type": "code",
      "metadata": {
        "id": "dozY-L1I13zU",
        "outputId": "0b288f4e-c95e-4093-c9d8-c7d2a259024f",
        "colab": {
          "base_uri": "https://localhost:8080/"
        }
      },
      "source": [
        "%%file 4-14.c\n",
        "#include<stdio.h>\n",
        "\n",
        "int main() {\n",
        "\n",
        "    int i, no;\n",
        "\n",
        "    printf(\"正の整数を入力してください: \");\n",
        "    scanf(\"%d\", &no);\n",
        "\n",
        "    for(i = 1; i <= no; i++) {\n",
        "        printf(\"%d\", i % 10);\n",
        "    }\n",
        "    putchar('\\n');\n",
        "\n",
        "    return 0;\n",
        "}"
      ],
      "execution_count": 87,
      "outputs": [
        {
          "output_type": "stream",
          "text": [
            "Writing 4-14.c\n"
          ],
          "name": "stdout"
        }
      ]
    },
    {
      "cell_type": "code",
      "metadata": {
        "id": "N5tak6rU2Gg_",
        "outputId": "f2b0a672-b88b-4c8b-d72a-fa6354c9cba4",
        "colab": {
          "base_uri": "https://localhost:8080/"
        }
      },
      "source": [
        "!gcc 4-14.c -o prog && ./prog"
      ],
      "execution_count": 88,
      "outputs": [
        {
          "output_type": "stream",
          "text": [
            "正の整数を入力してください: 25\n",
            "1234567890123456789012345\n"
          ],
          "name": "stdout"
        }
      ]
    }
  ]
}