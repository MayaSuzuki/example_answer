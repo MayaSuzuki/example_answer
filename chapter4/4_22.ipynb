{
  "nbformat": 4,
  "nbformat_minor": 0,
  "metadata": {
    "colab": {
      "name": "4_22.ipynb",
      "provenance": []
    },
    "kernelspec": {
      "name": "python3",
      "display_name": "Python 3"
    }
  },
  "cells": [
    {
      "cell_type": "code",
      "metadata": {
        "id": "dozY-L1I13zU",
        "outputId": "667aa182-bfb5-4b11-c6c5-6d478b288c78",
        "colab": {
          "base_uri": "https://localhost:8080/"
        }
      },
      "source": [
        "%%file 4-22.c\n",
        "#include<stdio.h>\n",
        "\n",
        "int main() {\n",
        "\n",
        "    int i, j;\n",
        "    int side1, side2 ,height, width;\n",
        "\n",
        "    puts(\"横長の長方形を作ります。\");\n",
        "    printf(\"一辺(その1): \");\n",
        "    scanf(\"%d\", &side1);\n",
        "    printf(\"一辺(その2): \");\n",
        "    scanf(\"%d\", &side2);\n",
        "\n",
        "    if( side1 < side2) {\n",
        "        height = side1;\n",
        "        width = side2;\n",
        "    }else {\n",
        "        height = side2;\n",
        "        width = side1;\n",
        "    }\n",
        "\n",
        "    for(i = 1; i <= height; i++) {\n",
        "        for(j = 1; j <= width; j++){\n",
        "            putchar('*');\n",
        "        }\n",
        "        putchar('\\n');\n",
        "    }\n",
        "\n",
        "    return 0;\n",
        "}"
      ],
      "execution_count": 6,
      "outputs": [
        {
          "output_type": "stream",
          "text": [
            "Writing 4-22.c\n"
          ],
          "name": "stdout"
        }
      ]
    },
    {
      "cell_type": "code",
      "metadata": {
        "id": "N5tak6rU2Gg_",
        "outputId": "1f022109-d852-4286-d46f-6b48ce6fe86f",
        "colab": {
          "base_uri": "https://localhost:8080/"
        }
      },
      "source": [
        "!gcc 4-22.c -o prog && ./prog"
      ],
      "execution_count": 7,
      "outputs": [
        {
          "output_type": "stream",
          "text": [
            "横長の長方形を作ります。\n",
            "一辺(その1): 7\n",
            "一辺(その2): 3\n",
            "*******\n",
            "*******\n",
            "*******\n"
          ],
          "name": "stdout"
        }
      ]
    }
  ]
}