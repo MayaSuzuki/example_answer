{
  "nbformat": 4,
  "nbformat_minor": 0,
  "metadata": {
    "colab": {
      "name": "4-1",
      "provenance": []
    },
    "kernelspec": {
      "name": "python3",
      "display_name": "Python 3"
    }
  },
  "cells": [
    {
      "cell_type": "code",
      "metadata": {
        "id": "dozY-L1I13zU",
        "outputId": "2940b50b-6430-4b25-8d0e-f428efe97a8a",
        "colab": {
          "base_uri": "https://localhost:8080/"
        }
      },
      "source": [
        "%%file 4-1.c\n",
        "#include<stdio.h>\n",
        "\n",
        "int main() {\n",
        "    int retry;\n",
        "\n",
        "    do {\n",
        "        int no;\n",
        "\n",
        "        puts(\"整数を入力してください。\");\n",
        "        scanf(\"%d\", &no);\n",
        "\n",
        "        if(no == 0)\n",
        "            printf(\"その数は0です。\");\n",
        "        else if (no > 0)\n",
        "            printf(\"その数は正です。\");\n",
        "        else\n",
        "            printf(\"その数は負です。\");        \n",
        "\n",
        "        printf(\"まだ続けますか？<Yes---0/No---9> :\");\n",
        "        scanf(\"%d\", &retry);\n",
        "    } while(retry == 0);\n",
        "    \n",
        "    \n",
        "    return 0;\n",
        "}"
      ],
      "execution_count": 45,
      "outputs": [
        {
          "output_type": "stream",
          "text": [
            "Writing 4-1.c\n"
          ],
          "name": "stdout"
        }
      ]
    },
    {
      "cell_type": "code",
      "metadata": {
        "id": "N5tak6rU2Gg_",
        "outputId": "dcc0b9a4-70fc-46c8-b0a4-a7a5af29eb99",
        "colab": {
          "base_uri": "https://localhost:8080/"
        }
      },
      "source": [
        "!gcc 4-1.c -o prog && ./prog"
      ],
      "execution_count": 46,
      "outputs": [
        {
          "output_type": "stream",
          "text": [
            "整数を入力してください。\n",
            "0\n",
            "その数は0です。まだ続けますか？<Yes---0/No---9> :0\n",
            "整数を入力してください。\n",
            "5\n",
            "その数は正です。まだ続けますか？<Yes---0/No---9> :0\n",
            "整数を入力してください。\n",
            "-9\n",
            "その数は負です。まだ続けますか？<Yes---0/No---9> :9\n"
          ],
          "name": "stdout"
        }
      ]
    }
  ]
}