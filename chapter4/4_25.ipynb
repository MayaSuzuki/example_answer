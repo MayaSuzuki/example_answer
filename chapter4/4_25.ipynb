{
  "nbformat": 4,
  "nbformat_minor": 0,
  "metadata": {
    "colab": {
      "name": "4_25.ipynb",
      "provenance": []
    },
    "kernelspec": {
      "name": "python3",
      "display_name": "Python 3"
    }
  },
  "cells": [
    {
      "cell_type": "code",
      "metadata": {
        "id": "dozY-L1I13zU",
        "outputId": "5043bd2b-2bd1-44bc-8d82-c8e0262f7dd0",
        "colab": {
          "base_uri": "https://localhost:8080/"
        }
      },
      "source": [
        "%%file 4-25.c\n",
        "#include<stdio.h>\n",
        "\n",
        "int main() {\n",
        "\n",
        "    int i, j;\n",
        "    int height;\n",
        "\n",
        "    puts(\"下向きミラミッドを作ります。\");\n",
        "    printf(\"何段ですかぁ: \");\n",
        "    scanf(\"%d\", &height);\n",
        "\n",
        "    for(i = 1; i <= height; i++) {\n",
        "        for(j = 1; j <= i - 1 ; j++){\n",
        "            putchar(' ');\n",
        "        }\n",
        "        for(j = 1; j <= 2 * (height - i) + 1; j++) {\n",
        "            printf(\"%d\", i % 10);\n",
        "        }\n",
        "        putchar('\\n');\n",
        "    }\n",
        "\n",
        "    return 0;\n",
        "}"
      ],
      "execution_count": 31,
      "outputs": [
        {
          "output_type": "stream",
          "text": [
            "Overwriting 4-25.c\n"
          ],
          "name": "stdout"
        }
      ]
    },
    {
      "cell_type": "code",
      "metadata": {
        "id": "N5tak6rU2Gg_",
        "outputId": "512483a3-71b6-4491-822a-b211acfeaa30",
        "colab": {
          "base_uri": "https://localhost:8080/"
        }
      },
      "source": [
        "!gcc 4-25.c -o prog && ./prog"
      ],
      "execution_count": 32,
      "outputs": [
        {
          "output_type": "stream",
          "text": [
            "下向きミラミッドを作ります。\n",
            "何段ですかぁ: 7\n",
            "1111111111111\n",
            " 22222222222\n",
            "  333333333\n",
            "   4444444\n",
            "    55555\n",
            "     666\n",
            "      7\n"
          ],
          "name": "stdout"
        }
      ]
    }
  ]
}