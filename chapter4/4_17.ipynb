{
  "nbformat": 4,
  "nbformat_minor": 0,
  "metadata": {
    "colab": {
      "name": "4_17.ipynb",
      "provenance": []
    },
    "kernelspec": {
      "name": "python3",
      "display_name": "Python 3"
    }
  },
  "cells": [
    {
      "cell_type": "code",
      "metadata": {
        "id": "dozY-L1I13zU",
        "outputId": "9c9d85b4-b924-4dd6-ecea-cda9fc62b2d3",
        "colab": {
          "base_uri": "https://localhost:8080/"
        }
      },
      "source": [
        "%%file 4-17.c\n",
        "#include<stdio.h>\n",
        "\n",
        "int main() {\n",
        "\n",
        "    int i, n;\n",
        "\n",
        "    printf(\"nの値: \");\n",
        "    scanf(\"%d\", &n);\n",
        "\n",
        "    for(i = 1; i <= n; i++) {\n",
        "        printf(\"%d の 2 乗は %d\\n\", i, i * i);\n",
        "    }\n",
        "\n",
        "    return 0;\n",
        "}"
      ],
      "execution_count": 5,
      "outputs": [
        {
          "output_type": "stream",
          "text": [
            "Writing 4-17.c\n"
          ],
          "name": "stdout"
        }
      ]
    },
    {
      "cell_type": "code",
      "metadata": {
        "id": "N5tak6rU2Gg_",
        "outputId": "12c62b27-8a6d-420a-be1d-b78a04f6891a",
        "colab": {
          "base_uri": "https://localhost:8080/"
        }
      },
      "source": [
        "!gcc 4-17.c -o prog && ./prog"
      ],
      "execution_count": 6,
      "outputs": [
        {
          "output_type": "stream",
          "text": [
            "nの値: 3\n",
            "1 の 2 乗は 1\n",
            "2 の 2 乗は 4\n",
            "3 の 2 乗は 9\n"
          ],
          "name": "stdout"
        }
      ]
    }
  ]
}