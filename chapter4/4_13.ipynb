{
  "nbformat": 4,
  "nbformat_minor": 0,
  "metadata": {
    "colab": {
      "name": "4-13",
      "provenance": []
    },
    "kernelspec": {
      "name": "python3",
      "display_name": "Python 3"
    }
  },
  "cells": [
    {
      "cell_type": "code",
      "metadata": {
        "id": "dozY-L1I13zU",
        "outputId": "a303bb50-ed2e-48cc-eb90-7f1790cccd73",
        "colab": {
          "base_uri": "https://localhost:8080/"
        }
      },
      "source": [
        "%%file 4-13.c\n",
        "#include<stdio.h>\n",
        "\n",
        "int main() {\n",
        "\n",
        "    int i, no, sum;\n",
        "\n",
        "    sum = 0;\n",
        "\n",
        "    printf(\"nの値: \");\n",
        "    scanf(\"%d\", &no);\n",
        "\n",
        "    for(i=1; i<=no; i++) {\n",
        "        sum += i;\n",
        "    }\n",
        "\n",
        "    printf(\"1から %d までの和は %d です。\", no, sum);\n",
        "\n",
        "    return 0;\n",
        "}"
      ],
      "execution_count": 84,
      "outputs": [
        {
          "output_type": "stream",
          "text": [
            "Overwriting 4-13.c\n"
          ],
          "name": "stdout"
        }
      ]
    },
    {
      "cell_type": "code",
      "metadata": {
        "id": "N5tak6rU2Gg_",
        "outputId": "f7898da4-678e-4ec4-c904-384e95860127",
        "colab": {
          "base_uri": "https://localhost:8080/"
        }
      },
      "source": [
        "!gcc 4-13.c -o prog && ./prog"
      ],
      "execution_count": 86,
      "outputs": [
        {
          "output_type": "stream",
          "text": [
            "nの値: 10\n",
            "1から 10 までの和は 55 です。"
          ],
          "name": "stdout"
        }
      ]
    }
  ]
}