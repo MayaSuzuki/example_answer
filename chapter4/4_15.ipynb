{
  "nbformat": 4,
  "nbformat_minor": 0,
  "metadata": {
    "colab": {
      "name": "4-15",
      "provenance": []
    },
    "kernelspec": {
      "name": "python3",
      "display_name": "Python 3"
    }
  },
  "cells": [
    {
      "cell_type": "code",
      "metadata": {
        "id": "dozY-L1I13zU",
        "outputId": "32403c12-5811-44f4-90ad-0c1048d0d9a7",
        "colab": {
          "base_uri": "https://localhost:8080/"
        }
      },
      "source": [
        "%%file 4-15.c\n",
        "#include<stdio.h>\n",
        "\n",
        "int main() {\n",
        "\n",
        "    int height;\n",
        "    int lower, upper, step;\n",
        "\n",
        "    printf(\"何cmから: \");  scanf(\"%d\", &lower);\n",
        "    printf(\"何cmまで: \");  scanf(\"%d\", &upper);\n",
        "    printf(\"何cmごと: \");  scanf(\"%d\", &step);\n",
        "\n",
        "    for(height = lower; height <= upper; height += step) {\n",
        "        printf(\"%dcm %.2f kg\\n\", height, (height - 100) * 0.9);\n",
        "    }\n",
        "\n",
        "    return 0;\n",
        "}"
      ],
      "execution_count": 90,
      "outputs": [
        {
          "output_type": "stream",
          "text": [
            "Overwriting 4-15.c\n"
          ],
          "name": "stdout"
        }
      ]
    },
    {
      "cell_type": "code",
      "metadata": {
        "id": "N5tak6rU2Gg_",
        "outputId": "37d555cb-855f-4a35-de66-7132aceb4213",
        "colab": {
          "base_uri": "https://localhost:8080/"
        }
      },
      "source": [
        "!gcc 4-15.c -o prog && ./prog"
      ],
      "execution_count": 91,
      "outputs": [
        {
          "output_type": "stream",
          "text": [
            "何cmから: 155\n",
            "何cmまで: 190\n",
            "何cmごと: 5\n",
            "155cm 49.50 kg\n",
            "160cm 54.00 kg\n",
            "165cm 58.50 kg\n",
            "170cm 63.00 kg\n",
            "175cm 67.50 kg\n",
            "180cm 72.00 kg\n",
            "185cm 76.50 kg\n",
            "190cm 81.00 kg\n"
          ],
          "name": "stdout"
        }
      ]
    }
  ]
}