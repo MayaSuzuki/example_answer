{
  "nbformat": 4,
  "nbformat_minor": 0,
  "metadata": {
    "colab": {
      "name": "4-10",
      "provenance": []
    },
    "kernelspec": {
      "name": "python3",
      "display_name": "Python 3"
    }
  },
  "cells": [
    {
      "cell_type": "code",
      "metadata": {
        "id": "dozY-L1I13zU",
        "outputId": "b50f2c92-6cb8-4ac5-8c4c-c084ce91c078",
        "colab": {
          "base_uri": "https://localhost:8080/"
        }
      },
      "source": [
        "%%file 4-10.c\n",
        "#include<stdio.h>\n",
        "\n",
        "int main() {\n",
        "\n",
        "    int no;\n",
        "\n",
        "    puts(\"正の整数: \");\n",
        "    scanf(\"%d\", &no);\n",
        " \n",
        "    if(no >= 1) {\n",
        "        while(no-- >0){\n",
        "            putchar('*');\n",
        "            putchar('\\n');\n",
        "        }\n",
        "    }\n",
        "\n",
        "    return 0;\n",
        "}"
      ],
      "execution_count": 73,
      "outputs": [
        {
          "output_type": "stream",
          "text": [
            "Overwriting 4-10.c\n"
          ],
          "name": "stdout"
        }
      ]
    },
    {
      "cell_type": "code",
      "metadata": {
        "id": "N5tak6rU2Gg_",
        "outputId": "59daa8b3-878e-420d-b6c4-99a3b4be6949",
        "colab": {
          "base_uri": "https://localhost:8080/"
        }
      },
      "source": [
        "!gcc 4-10.c -o prog && ./prog"
      ],
      "execution_count": 74,
      "outputs": [
        {
          "output_type": "stream",
          "text": [
            "正の整数: \n",
            "7\n",
            "*\n",
            "*\n",
            "*\n",
            "*\n",
            "*\n",
            "*\n",
            "*\n"
          ],
          "name": "stdout"
        }
      ]
    }
  ]
}