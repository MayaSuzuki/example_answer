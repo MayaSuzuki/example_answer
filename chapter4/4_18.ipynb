{
  "nbformat": 4,
  "nbformat_minor": 0,
  "metadata": {
    "colab": {
      "name": "4_18.ipynb",
      "provenance": []
    },
    "kernelspec": {
      "name": "python3",
      "display_name": "Python 3"
    }
  },
  "cells": [
    {
      "cell_type": "code",
      "metadata": {
        "id": "dozY-L1I13zU",
        "outputId": "bb6663f9-8c98-4435-d05f-abe6a8654a4d",
        "colab": {
          "base_uri": "https://localhost:8080/"
        }
      },
      "source": [
        "%%file 4-18.c\n",
        "#include<stdio.h>\n",
        "\n",
        "int main() {\n",
        "\n",
        "    int no;\n",
        "\n",
        "    printf(\"何個 * を表示しますか: \");\n",
        "    scanf(\"%d\", &no);\n",
        "\n",
        "    if (no > 0) {\n",
        "        int i;\n",
        "        for (i = 0; i < no; i++) {\n",
        "            putchar('*');\n",
        "            if(i % 5 == 4)\n",
        "              putchar('\\n');\n",
        "        }\n",
        "        if(i % 5 != 0)\n",
        "          putchar('\\n');\n",
        "    }\n",
        "\n",
        "    return 0;\n",
        "}"
      ],
      "execution_count": 14,
      "outputs": [
        {
          "output_type": "stream",
          "text": [
            "Overwriting 4-18.c\n"
          ],
          "name": "stdout"
        }
      ]
    },
    {
      "cell_type": "code",
      "metadata": {
        "id": "N5tak6rU2Gg_",
        "outputId": "3e405781-a974-4d28-d57e-557f9d27c7ba",
        "colab": {
          "base_uri": "https://localhost:8080/"
        }
      },
      "source": [
        "!gcc 4-18.c -o prog && ./prog"
      ],
      "execution_count": 15,
      "outputs": [
        {
          "output_type": "stream",
          "text": [
            "何個 * を表示しますか: 12\n",
            "*****\n",
            "*****\n",
            "**\n"
          ],
          "name": "stdout"
        }
      ]
    }
  ]
}