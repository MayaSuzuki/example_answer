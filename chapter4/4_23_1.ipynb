{
  "nbformat": 4,
  "nbformat_minor": 0,
  "metadata": {
    "colab": {
      "name": "4_23_1.ipynb",
      "provenance": []
    },
    "kernelspec": {
      "name": "python3",
      "display_name": "Python 3"
    }
  },
  "cells": [
    {
      "cell_type": "code",
      "metadata": {
        "id": "dozY-L1I13zU",
        "outputId": "e376662f-2f9c-416b-e9ab-81308feea841",
        "colab": {
          "base_uri": "https://localhost:8080/"
        }
      },
      "source": [
        "%%file 4-23_1.c\n",
        "#include<stdio.h>\n",
        "\n",
        "int main() {\n",
        "\n",
        "    int i, j, len;\n",
        "\n",
        "    puts(\"左下直角二等辺三角形を作ります。\");\n",
        "    printf(\"短辺: \");\n",
        "    scanf(\"%d\", &len);\n",
        "\n",
        "    for(i = 1; i <= len; i++) {\n",
        "        for(j = 1; j <= i; j++){\n",
        "            putchar('*');\n",
        "        }\n",
        "        putchar('\\n');\n",
        "    }\n",
        "\n",
        "    return 0;\n",
        "}"
      ],
      "execution_count": 10,
      "outputs": [
        {
          "output_type": "stream",
          "text": [
            "Overwriting 4-23_1.c\n"
          ],
          "name": "stdout"
        }
      ]
    },
    {
      "cell_type": "code",
      "metadata": {
        "id": "N5tak6rU2Gg_",
        "outputId": "5f237fd8-8fed-46a2-9dd7-edef36aa3e2e",
        "colab": {
          "base_uri": "https://localhost:8080/"
        }
      },
      "source": [
        "!gcc 4-23_1.c -o prog && ./prog"
      ],
      "execution_count": 11,
      "outputs": [
        {
          "output_type": "stream",
          "text": [
            "左下直角二等辺三角形を作ります。\n",
            "短辺: 6\n",
            "*\n",
            "**\n",
            "***\n",
            "****\n",
            "*****\n",
            "******\n"
          ],
          "name": "stdout"
        }
      ]
    }
  ]
}