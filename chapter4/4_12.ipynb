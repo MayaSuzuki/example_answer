{
  "nbformat": 4,
  "nbformat_minor": 0,
  "metadata": {
    "colab": {
      "name": "4-12",
      "provenance": []
    },
    "kernelspec": {
      "name": "python3",
      "display_name": "Python 3"
    }
  },
  "cells": [
    {
      "cell_type": "code",
      "metadata": {
        "id": "dozY-L1I13zU",
        "outputId": "2721930f-c36f-4b84-bdb6-d3e7c84bbfde",
        "colab": {
          "base_uri": "https://localhost:8080/"
        }
      },
      "source": [
        "%%file 4-12.c\n",
        "#include<stdio.h>\n",
        "\n",
        "int main() {\n",
        "\n",
        "    int no, i;\n",
        "\n",
        "    i = 0;  /*繰り返し回数をカウントする用の変数*/\n",
        "\n",
        "    do {\n",
        "        printf(\"正の整数を入力してください: \");\n",
        "        scanf(\"%d\", &no);\n",
        "        if(no <= 0)\n",
        "            puts(\"\\a正でない数を入力しないでください。\");\n",
        "    }while(no <= 0);\n",
        "\n",
        "    printf(\"%d は\", no);\n",
        "    while(no > 0) {\n",
        "        /*printf(\"%d\", no % 10);*/\n",
        "        no /= 10;\n",
        "        i++;\n",
        "    }\n",
        "    printf(\"%d 桁です。\", i);\n",
        "\n",
        "    return 0;\n",
        "}"
      ],
      "execution_count": 78,
      "outputs": [
        {
          "output_type": "stream",
          "text": [
            "Writing 4-12.c\n"
          ],
          "name": "stdout"
        }
      ]
    },
    {
      "cell_type": "code",
      "metadata": {
        "id": "N5tak6rU2Gg_",
        "outputId": "d5588161-c700-444f-8c84-3876eec91e8c",
        "colab": {
          "base_uri": "https://localhost:8080/"
        }
      },
      "source": [
        "!gcc 4-12.c -o prog && ./prog"
      ],
      "execution_count": 79,
      "outputs": [
        {
          "output_type": "stream",
          "text": [
            "正の整数を入力してください: 35447\n",
            "35447 は5 桁です。"
          ],
          "name": "stdout"
        }
      ]
    }
  ]
}