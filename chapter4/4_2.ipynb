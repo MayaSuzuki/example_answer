{
  "nbformat": 4,
  "nbformat_minor": 0,
  "metadata": {
    "colab": {
      "name": "4-2",
      "provenance": []
    },
    "kernelspec": {
      "name": "python3",
      "display_name": "Python 3"
    }
  },
  "cells": [
    {
      "cell_type": "code",
      "metadata": {
        "id": "dozY-L1I13zU",
        "outputId": "b3e02294-d2fa-448c-d452-c45ad57319c2",
        "colab": {
          "base_uri": "https://localhost:8080/"
        }
      },
      "source": [
        "%%file 4-2.c\n",
        "#include<stdio.h>\n",
        "\n",
        "int main() {\n",
        "    int val1, val2;\n",
        "    int low, hight, sum, no;\n",
        "\n",
        "    sum = 0;\n",
        "\n",
        "    puts(\"二つの整数を入力してください。\");\n",
        "    printf(\"整数a :\");   scanf(\"%d\", &val1);\n",
        "    printf(\"整数b :\");   scanf(\"%d\", &val2);\n",
        "\n",
        "    if(val1 < val2) {\n",
        "        low = val1;\n",
        "        hight = val2;\n",
        "    }\n",
        "    else{\n",
        "        low = val2;\n",
        "        hight = val1;\n",
        "    }\n",
        "\n",
        "    no = low;\n",
        "\n",
        "    do{\n",
        "        sum = sum + no;\n",
        "\n",
        "        no = no + 1;\n",
        "    }while(hight >= no);\n",
        "    \n",
        "    printf(\"%d 以上 %d 以下の全整数の和は %d です。\",low , hight, sum);\n",
        "\n",
        "    return 0;\n",
        "}"
      ],
      "execution_count": 47,
      "outputs": [
        {
          "output_type": "stream",
          "text": [
            "Writing 4-2.c\n"
          ],
          "name": "stdout"
        }
      ]
    },
    {
      "cell_type": "code",
      "metadata": {
        "id": "N5tak6rU2Gg_",
        "outputId": "747d3179-d870-4015-b1a8-3e69c8fff2da",
        "colab": {
          "base_uri": "https://localhost:8080/"
        }
      },
      "source": [
        "!gcc 4-2.c -o prog && ./prog"
      ],
      "execution_count": 48,
      "outputs": [
        {
          "output_type": "stream",
          "text": [
            "二つの整数を入力してください。\n",
            "整数a :37\n",
            "整数b :58\n",
            "37 以上 58 以下の全整数の和は 1045 です。"
          ],
          "name": "stdout"
        }
      ]
    }
  ]
}