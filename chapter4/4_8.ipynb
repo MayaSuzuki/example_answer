{
  "nbformat": 4,
  "nbformat_minor": 0,
  "metadata": {
    "colab": {
      "name": "4-8",
      "provenance": []
    },
    "kernelspec": {
      "name": "python3",
      "display_name": "Python 3"
    }
  },
  "cells": [
    {
      "cell_type": "code",
      "metadata": {
        "id": "dozY-L1I13zU",
        "outputId": "0d8b8588-0636-4077-a3f7-3b5f46053320",
        "colab": {
          "base_uri": "https://localhost:8080/"
        }
      },
      "source": [
        "%%file 4-8.c\n",
        "#include<stdio.h>\n",
        "\n",
        "int main() {\n",
        "\n",
        "    int no;\n",
        "\n",
        "    puts(\"正の整数: \");\n",
        "    scanf(\"%d\", &no);\n",
        " \n",
        "    if(no >= 1) {\n",
        "        while(no-- >0){\n",
        "            putchar('*');\n",
        "        }\n",
        "        putchar('\\n');\n",
        "    }\n",
        "\n",
        "    return 0;\n",
        "}"
      ],
      "execution_count": 64,
      "outputs": [
        {
          "output_type": "stream",
          "text": [
            "Overwriting 4-8.c\n"
          ],
          "name": "stdout"
        }
      ]
    },
    {
      "cell_type": "code",
      "metadata": {
        "id": "N5tak6rU2Gg_",
        "outputId": "dbe67bf1-1bcb-493b-fef2-6ea888c61c58",
        "colab": {
          "base_uri": "https://localhost:8080/"
        }
      },
      "source": [
        "!gcc 4-8.c -o prog && ./prog"
      ],
      "execution_count": 65,
      "outputs": [
        {
          "output_type": "stream",
          "text": [
            "正の整数: \n",
            "5\n",
            "*****\n"
          ],
          "name": "stdout"
        }
      ]
    }
  ]
}