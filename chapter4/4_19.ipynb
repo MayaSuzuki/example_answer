{
  "nbformat": 4,
  "nbformat_minor": 0,
  "metadata": {
    "colab": {
      "name": "4_19.ipynb",
      "provenance": []
    },
    "kernelspec": {
      "name": "python3",
      "display_name": "Python 3"
    }
  },
  "cells": [
    {
      "cell_type": "code",
      "metadata": {
        "id": "dozY-L1I13zU",
        "outputId": "962acdb5-7013-4361-ad46-2669612c96b7",
        "colab": {
          "base_uri": "https://localhost:8080/"
        }
      },
      "source": [
        "%%file 4-19.c\n",
        "#include<stdio.h>\n",
        "\n",
        "int main() {\n",
        "\n",
        "    int i, n;\n",
        "    int count;  /*約数の個数をカウントする*/\n",
        "\n",
        "    printf(\"整数値: \");\n",
        "    scanf(\"%d\", &n);\n",
        "\n",
        "    count = 0;\n",
        "\n",
        "    for (i = 1; i <= n; i++) {\n",
        "        if(n % i == 0) {\n",
        "            printf(\"%d\\n\", i);\n",
        "            count++;\n",
        "        }\n",
        "    }\n",
        "    printf(\"約数は %d 個です。\\n\", count);\n",
        "\n",
        "    return 0;\n",
        "}\n"
      ],
      "execution_count": 21,
      "outputs": [
        {
          "output_type": "stream",
          "text": [
            "Overwriting 4-19.c\n"
          ],
          "name": "stdout"
        }
      ]
    },
    {
      "cell_type": "code",
      "metadata": {
        "id": "N5tak6rU2Gg_",
        "outputId": "6e7b96ed-5e38-40be-ace5-2d64260f0fa9",
        "colab": {
          "base_uri": "https://localhost:8080/"
        }
      },
      "source": [
        "!gcc 4-19.c -o prog && ./prog"
      ],
      "execution_count": 22,
      "outputs": [
        {
          "output_type": "stream",
          "text": [
            "整数値: 12\n",
            "1\n",
            "2\n",
            "3\n",
            "4\n",
            "6\n",
            "12\n",
            "約数は 6 個です。\n"
          ],
          "name": "stdout"
        }
      ]
    }
  ]
}