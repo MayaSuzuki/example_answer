{
  "nbformat": 4,
  "nbformat_minor": 0,
  "metadata": {
    "colab": {
      "name": "4_24.ipynb",
      "provenance": []
    },
    "kernelspec": {
      "name": "python3",
      "display_name": "Python 3"
    }
  },
  "cells": [
    {
      "cell_type": "code",
      "metadata": {
        "id": "dozY-L1I13zU",
        "outputId": "50b1c55e-e76a-4fda-b09d-089837dd942a",
        "colab": {
          "base_uri": "https://localhost:8080/"
        }
      },
      "source": [
        "%%file 4-24.c\n",
        "#include<stdio.h>\n",
        "\n",
        "int main() {\n",
        "\n",
        "    int i, j;\n",
        "    int height;\n",
        "\n",
        "    puts(\"ミラミッドを作ります。\");\n",
        "    printf(\"何段ですかぁ: \");\n",
        "    scanf(\"%d\", &height);\n",
        "\n",
        "    for(i = 1; i <= height; i++) {\n",
        "        for(j = 1; j <= height - i ; j++){\n",
        "            putchar(' ');\n",
        "        }\n",
        "        for(j = 1; j <= 2 * i -1; j++) {\n",
        "            putchar('*');\n",
        "        }\n",
        "        putchar('\\n');\n",
        "    }\n",
        "\n",
        "    return 0;\n",
        "}"
      ],
      "execution_count": 25,
      "outputs": [
        {
          "output_type": "stream",
          "text": [
            "Overwriting 4-24.c\n"
          ],
          "name": "stdout"
        }
      ]
    },
    {
      "cell_type": "code",
      "metadata": {
        "id": "N5tak6rU2Gg_",
        "outputId": "ea3244b2-d640-46c7-ddaa-f2898ff5c95e",
        "colab": {
          "base_uri": "https://localhost:8080/"
        }
      },
      "source": [
        "!gcc 4-24.c -o prog && ./prog"
      ],
      "execution_count": 26,
      "outputs": [
        {
          "output_type": "stream",
          "text": [
            "ミラミッドを作ります。\n",
            "何段ですかぁ: 8\n",
            "       *\n",
            "      ***\n",
            "     *****\n",
            "    *******\n",
            "   *********\n",
            "  ***********\n",
            " *************\n",
            "***************\n"
          ],
          "name": "stdout"
        }
      ]
    }
  ]
}