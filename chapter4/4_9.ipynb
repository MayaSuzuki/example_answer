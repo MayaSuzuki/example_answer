{
  "nbformat": 4,
  "nbformat_minor": 0,
  "metadata": {
    "colab": {
      "name": "4-9",
      "provenance": []
    },
    "kernelspec": {
      "name": "python3",
      "display_name": "Python 3"
    }
  },
  "cells": [
    {
      "cell_type": "code",
      "metadata": {
        "id": "dozY-L1I13zU",
        "outputId": "cd68a10e-9658-483a-f979-83321f864b16",
        "colab": {
          "base_uri": "https://localhost:8080/"
        }
      },
      "source": [
        "%%file 4-9.c\n",
        "#include<stdio.h>\n",
        "\n",
        "int main() {\n",
        "\n",
        "    int no, i;\n",
        "\n",
        "    i = 1;\n",
        "\n",
        "    puts(\"正の整数: \");\n",
        "    scanf(\"%d\", &no);\n",
        " \n",
        "    if(no >= 1) {\n",
        "        while(i <= no){\n",
        "            if(i % 2 == 0)\n",
        "                putchar('-');\n",
        "            else\n",
        "                putchar('+');\n",
        "            \n",
        "            i++;\n",
        "        }\n",
        "        printf(\"\\n\");\n",
        "    }\n",
        "\n",
        "    return 0;\n",
        "}"
      ],
      "execution_count": 68,
      "outputs": [
        {
          "output_type": "stream",
          "text": [
            "Overwriting 4-9.c\n"
          ],
          "name": "stdout"
        }
      ]
    },
    {
      "cell_type": "code",
      "metadata": {
        "id": "N5tak6rU2Gg_",
        "outputId": "c4521e42-3bd3-40d6-9515-c797f3dd48c1",
        "colab": {
          "base_uri": "https://localhost:8080/"
        }
      },
      "source": [
        "!gcc 4-9.c -o prog && ./prog"
      ],
      "execution_count": 70,
      "outputs": [
        {
          "output_type": "stream",
          "text": [
            "正の整数: \n",
            "40\n",
            "+-+-+-+-+-+-+-+-+-+-+-+-+-+-+-+-+-+-+-+-\n"
          ],
          "name": "stdout"
        }
      ]
    }
  ]
}