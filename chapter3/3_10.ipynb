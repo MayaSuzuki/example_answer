{
  "nbformat": 4,
  "nbformat_minor": 0,
  "metadata": {
    "colab": {
      "name": "3-10",
      "provenance": []
    },
    "kernelspec": {
      "name": "python3",
      "display_name": "Python 3"
    }
  },
  "cells": [
    {
      "cell_type": "code",
      "metadata": {
        "id": "dozY-L1I13zU",
        "outputId": "e5de1edf-a4de-4d51-d252-4c3fe600a2ae",
        "colab": {
          "base_uri": "https://localhost:8080/"
        }
      },
      "source": [
        "%%file 3-10.c\n",
        "#include<stdio.h>\n",
        "\n",
        "int main() {\n",
        "    int val1, val2, val3;\n",
        "\n",
        "    puts(\"三つの整数を入力してください。\");\n",
        "    printf(\"整数a :\");   scanf(\"%d\", &val1);\n",
        "    printf(\"整数b :\");   scanf(\"%d\", &val2);\n",
        "    printf(\"整数c :\");   scanf(\"%d\", &val3);\n",
        "\n",
        "    if(val1 == val2 && val2 == val3 && val1 == val3)\n",
        "        printf(\"三つの値は等しいです。\");\n",
        "    else if(val1 == val2 || val2 == val3 || val1 == val3)\n",
        "        printf(\"二つの値が等しいです。\");\n",
        "    else \n",
        "        printf(\"三つの値は異なります。\");\n",
        "    return 0;\n",
        "}"
      ],
      "execution_count": 37,
      "outputs": [
        {
          "output_type": "stream",
          "text": [
            "Overwriting 3-10.c\n"
          ],
          "name": "stdout"
        }
      ]
    },
    {
      "cell_type": "code",
      "metadata": {
        "id": "N5tak6rU2Gg_",
        "outputId": "051af1ce-d7b0-4a4f-e953-25a3f53622f8",
        "colab": {
          "base_uri": "https://localhost:8080/"
        }
      },
      "source": [
        "!gcc 3-10.c -o prog && ./prog"
      ],
      "execution_count": 36,
      "outputs": [
        {
          "output_type": "stream",
          "text": [
            "三つの整数を入力してください。\n",
            "整数a :7\n",
            "整数b :4\n",
            "整数c :7\n",
            "二つの値が等しいです。"
          ],
          "name": "stdout"
        }
      ]
    }
  ]
}