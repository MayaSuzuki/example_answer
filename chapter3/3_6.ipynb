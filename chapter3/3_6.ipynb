{
  "nbformat": 4,
  "nbformat_minor": 0,
  "metadata": {
    "colab": {
      "name": "3-6",
      "provenance": []
    },
    "kernelspec": {
      "name": "python3",
      "display_name": "Python 3"
    }
  },
  "cells": [
    {
      "cell_type": "code",
      "metadata": {
        "id": "dozY-L1I13zU",
        "outputId": "4a97f5d4-41a5-452f-c5da-dc0b456b3585",
        "colab": {
          "base_uri": "https://localhost:8080/"
        }
      },
      "source": [
        "%%file 3-6.c\n",
        "#include<stdio.h>\n",
        "\n",
        "int main() {\n",
        "    int val1, val2, val3;\n",
        "\n",
        "    int min;\n",
        "\n",
        "    puts(\"三つの整数を入力してください。\");\n",
        "    printf(\"整数a :\");   scanf(\"%d\", &val1);\n",
        "    printf(\"整数b :\");   scanf(\"%d\", &val2);\n",
        "    printf(\"整数c :\");   scanf(\"%d\", &val3);\n",
        "\n",
        "    min = val1;\n",
        "\n",
        "    if(min > val2)\n",
        "        min = val2;\n",
        "    if(min > val3)\n",
        "        min = val3;\n",
        "\n",
        "    printf(\"最小値は %d です。\", min);\n",
        "\n",
        "    return 0;\n",
        "}"
      ],
      "execution_count": 27,
      "outputs": [
        {
          "output_type": "stream",
          "text": [
            "Writing 3-6.c\n"
          ],
          "name": "stdout"
        }
      ]
    },
    {
      "cell_type": "code",
      "metadata": {
        "id": "N5tak6rU2Gg_",
        "outputId": "899d8052-0b79-49db-9a65-b26c649489e1",
        "colab": {
          "base_uri": "https://localhost:8080/"
        }
      },
      "source": [
        "!gcc 3-6.c -o prog && ./prog"
      ],
      "execution_count": 28,
      "outputs": [
        {
          "output_type": "stream",
          "text": [
            "三つの整数を入力してください。\n",
            "整数a :4\n",
            "整数b :6\n",
            "整数c :9\n",
            "最小値は 4 です。"
          ],
          "name": "stdout"
        }
      ]
    }
  ]
}