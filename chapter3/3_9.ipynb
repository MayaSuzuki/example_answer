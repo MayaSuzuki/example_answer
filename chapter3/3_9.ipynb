{
  "nbformat": 4,
  "nbformat_minor": 0,
  "metadata": {
    "colab": {
      "name": "3-9",
      "provenance": []
    },
    "kernelspec": {
      "name": "python3",
      "display_name": "Python 3"
    }
  },
  "cells": [
    {
      "cell_type": "code",
      "metadata": {
        "id": "dozY-L1I13zU",
        "outputId": "9dbfae86-f9ad-4d85-b960-4a8643a17c3c",
        "colab": {
          "base_uri": "https://localhost:8080/"
        }
      },
      "source": [
        "%%file 3-9.c\n",
        "#include<stdio.h>\n",
        "\n",
        "int main() {\n",
        "    int val1, val2, val3;\n",
        "\n",
        "    puts(\"三つの整数を入力してください。\");\n",
        "    printf(\"整数a :\");   scanf(\"%d\", &val1);\n",
        "    printf(\"整数b :\");   scanf(\"%d\", &val2);\n",
        "    printf(\"整数c :\");   scanf(\"%d\", &val3);\n",
        "\n",
        "    printf(\"最小値は %d です。\", (val1 < val2) ? ((val1 < val3) ? val1 : val3) : ((val2 < val3) ? val2 : val3));\n",
        "\n",
        "    return 0;\n",
        "}"
      ],
      "execution_count": 33,
      "outputs": [
        {
          "output_type": "stream",
          "text": [
            "Writing 3-9.c\n"
          ],
          "name": "stdout"
        }
      ]
    },
    {
      "cell_type": "code",
      "metadata": {
        "id": "N5tak6rU2Gg_",
        "outputId": "8c68f66a-db80-4386-d119-a77914134b9b",
        "colab": {
          "base_uri": "https://localhost:8080/"
        }
      },
      "source": [
        "!gcc 3-9.c -o prog && ./prog"
      ],
      "execution_count": 34,
      "outputs": [
        {
          "output_type": "stream",
          "text": [
            "三つの整数を入力してください。\n",
            "整数a :6\n",
            "整数b :4\n",
            "整数c :8\n",
            "最小値は 4 です。"
          ],
          "name": "stdout"
        }
      ]
    }
  ]
}