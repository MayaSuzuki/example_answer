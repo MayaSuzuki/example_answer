{
  "nbformat": 4,
  "nbformat_minor": 0,
  "metadata": {
    "colab": {
      "name": "3-2",
      "provenance": []
    },
    "kernelspec": {
      "name": "python3",
      "display_name": "Python 3"
    }
  },
  "cells": [
    {
      "cell_type": "code",
      "metadata": {
        "id": "dozY-L1I13zU",
        "outputId": "4c5d0b1f-531f-4162-a4cc-9188d238bf4b",
        "colab": {
          "base_uri": "https://localhost:8080/"
        }
      },
      "source": [
        "%%file 3-2.c\n",
        "#include<stdio.h>\n",
        "\n",
        "int main() {\n",
        "    int no;\n",
        "\n",
        "    puts(\"整数を入力してください。\");\n",
        "    scanf(\"%d\", &no);\n",
        "    \n",
        "    if(no == 0)\n",
        "        puts(\"その数は0です。\");\n",
        "    else if (no > 0)\n",
        "        puts(\"その数は正です。\");\n",
        "    else if (no < 0)  /*else でもＯＫ*/\n",
        "        puts(\"その数は負です。\");\n",
        "\n",
        "    return 0;\n",
        "}"
      ],
      "execution_count": 18,
      "outputs": [
        {
          "output_type": "stream",
          "text": [
            "Overwriting 3-2.c\n"
          ],
          "name": "stdout"
        }
      ]
    },
    {
      "cell_type": "code",
      "metadata": {
        "id": "N5tak6rU2Gg_",
        "outputId": "f27bb91e-d5de-4516-ee48-88bb35043f0c",
        "colab": {
          "base_uri": "https://localhost:8080/"
        }
      },
      "source": [
        "!gcc 3-2.c -o prog && ./prog"
      ],
      "execution_count": 19,
      "outputs": [
        {
          "output_type": "stream",
          "text": [
            "整数を入力してください。\n",
            "-8\n",
            "その数は負です。\n"
          ],
          "name": "stdout"
        }
      ]
    }
  ]
}