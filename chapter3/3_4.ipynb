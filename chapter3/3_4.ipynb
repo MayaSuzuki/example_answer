{
  "nbformat": 4,
  "nbformat_minor": 0,
  "metadata": {
    "colab": {
      "name": "3-4",
      "provenance": []
    },
    "kernelspec": {
      "name": "python3",
      "display_name": "Python 3"
    }
  },
  "cells": [
    {
      "cell_type": "code",
      "metadata": {
        "id": "dozY-L1I13zU",
        "outputId": "13715f61-6f62-410a-f742-9e6c9049c885",
        "colab": {
          "base_uri": "https://localhost:8080/"
        }
      },
      "source": [
        "%%file 3-4.c\n",
        "#include<stdio.h>\n",
        "\n",
        "int main() {\n",
        "    int val1, val2;\n",
        "\n",
        "    puts(\"二つの整数を入力してください。\");\n",
        "    printf(\"整数a :\");   scanf(\"%d\", &val1);\n",
        "    printf(\"整数b :\");   scanf(\"%d\", &val2);\n",
        "\n",
        "    if(val1 == val2)\n",
        "        printf(\"AはBと等しいです。\");\n",
        "    else if(val1 < val2)\n",
        "        printf(\"AはBより小さいです。\");\n",
        "    else if(val1 > val2)\n",
        "        printf(\"AはBより大きいです。\");\n",
        "\n",
        "    return 0;\n",
        "}"
      ],
      "execution_count": 22,
      "outputs": [
        {
          "output_type": "stream",
          "text": [
            "Writing 3-4.c\n"
          ],
          "name": "stdout"
        }
      ]
    },
    {
      "cell_type": "code",
      "metadata": {
        "id": "N5tak6rU2Gg_",
        "outputId": "f2263df5-f943-4702-9969-4a2d1a36c378",
        "colab": {
          "base_uri": "https://localhost:8080/"
        }
      },
      "source": [
        "!gcc 3-4.c -o prog && ./prog"
      ],
      "execution_count": 23,
      "outputs": [
        {
          "output_type": "stream",
          "text": [
            "二つの整数を入力してください。\n",
            "整数a :6\n",
            "整数b :4\n",
            "AはBより大きいです。"
          ],
          "name": "stdout"
        }
      ]
    }
  ]
}