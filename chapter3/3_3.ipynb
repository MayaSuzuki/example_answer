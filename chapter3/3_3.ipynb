{
  "nbformat": 4,
  "nbformat_minor": 0,
  "metadata": {
    "colab": {
      "name": "3-3",
      "provenance": []
    },
    "kernelspec": {
      "name": "python3",
      "display_name": "Python 3"
    }
  },
  "cells": [
    {
      "cell_type": "code",
      "metadata": {
        "id": "dozY-L1I13zU",
        "outputId": "735cd125-fb00-4e88-ae4d-0ff52b3211a4",
        "colab": {
          "base_uri": "https://localhost:8080/"
        }
      },
      "source": [
        "%%file 3-3.c\n",
        "#include<stdio.h>\n",
        "\n",
        "int main() {\n",
        "    int no;\n",
        "\n",
        "    puts(\"整数を入力してください。\");\n",
        "    scanf(\"%d\", &no);\n",
        "    \n",
        "    if(no < 0)\n",
        "        no = -no;\n",
        "\n",
        "    printf(\"絶対値は %d です。\", no);\n",
        "\n",
        "    return 0;\n",
        "}"
      ],
      "execution_count": 20,
      "outputs": [
        {
          "output_type": "stream",
          "text": [
            "Writing 3-3.c\n"
          ],
          "name": "stdout"
        }
      ]
    },
    {
      "cell_type": "code",
      "metadata": {
        "id": "N5tak6rU2Gg_",
        "outputId": "50509338-463f-4444-8b85-2837fa0116e9",
        "colab": {
          "base_uri": "https://localhost:8080/"
        }
      },
      "source": [
        "!gcc 3-3.c -o prog && ./prog"
      ],
      "execution_count": 21,
      "outputs": [
        {
          "output_type": "stream",
          "text": [
            "整数を入力してください。\n",
            "-88\n",
            "絶対値は 88 です。"
          ],
          "name": "stdout"
        }
      ]
    }
  ]
}