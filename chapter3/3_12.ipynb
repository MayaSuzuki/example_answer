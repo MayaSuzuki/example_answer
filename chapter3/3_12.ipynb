{
  "nbformat": 4,
  "nbformat_minor": 0,
  "metadata": {
    "colab": {
      "name": "3-12",
      "provenance": []
    },
    "kernelspec": {
      "name": "python3",
      "display_name": "Python 3"
    }
  },
  "cells": [
    {
      "cell_type": "code",
      "metadata": {
        "id": "dozY-L1I13zU",
        "outputId": "e3bb1e53-2b57-4473-ffaa-84023018d6ff",
        "colab": {
          "base_uri": "https://localhost:8080/"
        }
      },
      "source": [
        "%%file 3-12.c\n",
        "#include<stdio.h>\n",
        "\n",
        "int main() {\n",
        "    int no;\n",
        "\n",
        "    puts(\"整数を入力してください。\");\n",
        "    scanf(\"%d\", &no);\n",
        "\n",
        "    switch(no % 2){\n",
        "        case 0: printf(\"その数は偶数です。\"); break;\n",
        "        case 1: printf(\"その数は奇数です。\"); break;\n",
        "        dafault : break;\n",
        "    }\n",
        "    return 0;\n",
        "}"
      ],
      "execution_count": 40,
      "outputs": [
        {
          "output_type": "stream",
          "text": [
            "Writing 3-12.c\n"
          ],
          "name": "stdout"
        }
      ]
    },
    {
      "cell_type": "code",
      "metadata": {
        "id": "N5tak6rU2Gg_",
        "outputId": "ec923d2f-7ef9-4e55-94e0-61823f2a2db3",
        "colab": {
          "base_uri": "https://localhost:8080/"
        }
      },
      "source": [
        "!gcc 3-12.c -o prog && ./prog"
      ],
      "execution_count": 41,
      "outputs": [
        {
          "output_type": "stream",
          "text": [
            "整数を入力してください。\n",
            "6\n",
            "その数は偶数です。"
          ],
          "name": "stdout"
        }
      ]
    }
  ]
}