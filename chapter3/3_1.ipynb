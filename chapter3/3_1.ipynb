{
  "nbformat": 4,
  "nbformat_minor": 0,
  "metadata": {
    "colab": {
      "name": "3-1",
      "provenance": []
    },
    "kernelspec": {
      "name": "python3",
      "display_name": "Python 3"
    }
  },
  "cells": [
    {
      "cell_type": "code",
      "metadata": {
        "id": "dozY-L1I13zU",
        "outputId": "943112be-ab5f-417e-92ac-d396810499c3",
        "colab": {
          "base_uri": "https://localhost:8080/"
        }
      },
      "source": [
        "%%file 3-1.c\n",
        "#include<stdio.h>\n",
        "\n",
        "int main() {\n",
        "    int val1, val2;\n",
        "\n",
        "    puts(\"二つの整数を入力してください。\");\n",
        "    printf(\"整数a :\");   scanf(\"%d\", &val1);\n",
        "    printf(\"整数b :\");   scanf(\"%d\", &val2);\n",
        "\n",
        "    if(val1 % val2 == 0)\n",
        "        printf(\"BはAの約数です。\");\n",
        "    else\n",
        "        printf(\"BはAの約数ではありません。\");\n",
        "    \n",
        "    \n",
        "\n",
        "    return 0;\n",
        "}"
      ],
      "execution_count": 15,
      "outputs": [
        {
          "output_type": "stream",
          "text": [
            "Writing 3-1.c\n"
          ],
          "name": "stdout"
        }
      ]
    },
    {
      "cell_type": "code",
      "metadata": {
        "id": "N5tak6rU2Gg_",
        "outputId": "24b92a94-6448-4c6a-9de8-0e26e0c254df",
        "colab": {
          "base_uri": "https://localhost:8080/"
        }
      },
      "source": [
        "!gcc 3-1.c -o prog && ./prog"
      ],
      "execution_count": 16,
      "outputs": [
        {
          "output_type": "stream",
          "text": [
            "二つの整数を入力してください。\n",
            "整数a :4\n",
            "整数b :2\n",
            "BはAの約数です。"
          ],
          "name": "stdout"
        }
      ]
    }
  ]
}