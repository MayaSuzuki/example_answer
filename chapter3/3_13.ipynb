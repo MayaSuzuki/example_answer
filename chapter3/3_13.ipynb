{
  "nbformat": 4,
  "nbformat_minor": 0,
  "metadata": {
    "colab": {
      "name": "3-13",
      "provenance": []
    },
    "kernelspec": {
      "name": "python3",
      "display_name": "Python 3"
    }
  },
  "cells": [
    {
      "cell_type": "code",
      "metadata": {
        "id": "dozY-L1I13zU",
        "outputId": "44ed8b4b-1b35-4dbf-8387-d46a6ddd6deb",
        "colab": {
          "base_uri": "https://localhost:8080/"
        }
      },
      "source": [
        "%%file 3-13.c\n",
        "#include<stdio.h>\n",
        "\n",
        "int main() {\n",
        "    int month;\n",
        "\n",
        "    puts(\"何月ですか: \");\n",
        "    scanf(\"%d\", &month);\n",
        "\n",
        "    switch(month){\n",
        "        case 3:\n",
        "        case 4:\n",
        "        case 5: printf(\"%d 月は春です。\", month); break;\n",
        "        case 6:\n",
        "        case 7:\n",
        "        case 8: printf(\"%d 月は夏です。\", month); break;\n",
        "        case 9:\n",
        "        case 10:\n",
        "        case 11: printf(\"%d 月は秋です。\", month); break;\n",
        "        case 12:\n",
        "        case 1:\n",
        "        case 2: printf(\"%d 月は冬です。\", month); break;\n",
        "        default : printf(\"%d 月はありません。\", month);\n",
        "    }\n",
        "\n",
        "    return 0;\n",
        "}"
      ],
      "execution_count": 43,
      "outputs": [
        {
          "output_type": "stream",
          "text": [
            "Overwriting 3-13.c\n"
          ],
          "name": "stdout"
        }
      ]
    },
    {
      "cell_type": "code",
      "metadata": {
        "id": "N5tak6rU2Gg_",
        "outputId": "d0072476-2cf5-4430-93ba-4a37fd843850",
        "colab": {
          "base_uri": "https://localhost:8080/"
        }
      },
      "source": [
        "!gcc 3-13.c -o prog && ./prog"
      ],
      "execution_count": 44,
      "outputs": [
        {
          "output_type": "stream",
          "text": [
            "何月ですか: \n",
            "12\n",
            "12 月は冬です。"
          ],
          "name": "stdout"
        }
      ]
    }
  ]
}