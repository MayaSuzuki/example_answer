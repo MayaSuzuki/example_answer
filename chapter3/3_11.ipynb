{
  "nbformat": 4,
  "nbformat_minor": 0,
  "metadata": {
    "colab": {
      "name": "3-11",
      "provenance": []
    },
    "kernelspec": {
      "name": "python3",
      "display_name": "Python 3"
    }
  },
  "cells": [
    {
      "cell_type": "code",
      "metadata": {
        "id": "dozY-L1I13zU",
        "outputId": "df6591c6-75f8-4a03-913e-11a42541a8b5",
        "colab": {
          "base_uri": "https://localhost:8080/"
        }
      },
      "source": [
        "%%file 3-11.c\n",
        "#include<stdio.h>\n",
        "\n",
        "int main() {\n",
        "    int val1, val2;\n",
        "\n",
        "    puts(\"二つの整数を入力してください。\");\n",
        "    printf(\"整数a :\");   scanf(\"%d\", &val1);\n",
        "    printf(\"整数b :\");   scanf(\"%d\", &val2);\n",
        "\n",
        "    if((val1 - val2) > 10 || (val1 - val2) < -10)\n",
        "        printf(\"それらの差は11以上です。\");\n",
        "    else\n",
        "        printf(\"それらの差は10以下です。\");\n",
        "    \n",
        "\n",
        "    return 0;\n",
        "}"
      ],
      "execution_count": 38,
      "outputs": [
        {
          "output_type": "stream",
          "text": [
            "Writing 3-11.c\n"
          ],
          "name": "stdout"
        }
      ]
    },
    {
      "cell_type": "code",
      "metadata": {
        "id": "N5tak6rU2Gg_",
        "outputId": "87d02818-39ef-447a-ce97-98d637a30d49",
        "colab": {
          "base_uri": "https://localhost:8080/"
        }
      },
      "source": [
        "!gcc 3-11.c -o prog && ./prog"
      ],
      "execution_count": 39,
      "outputs": [
        {
          "output_type": "stream",
          "text": [
            "二つの整数を入力してください。\n",
            "整数a :4\n",
            "整数b :80\n",
            "それらの差は11以上です。"
          ],
          "name": "stdout"
        }
      ]
    }
  ]
}