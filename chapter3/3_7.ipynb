{
  "nbformat": 4,
  "nbformat_minor": 0,
  "metadata": {
    "colab": {
      "name": "3-7",
      "provenance": []
    },
    "kernelspec": {
      "name": "python3",
      "display_name": "Python 3"
    }
  },
  "cells": [
    {
      "cell_type": "code",
      "metadata": {
        "id": "dozY-L1I13zU",
        "outputId": "f36e14e5-4d3c-456a-f63d-57e7d42312a4",
        "colab": {
          "base_uri": "https://localhost:8080/"
        }
      },
      "source": [
        "%%file 3-7.c\n",
        "#include<stdio.h>\n",
        "\n",
        "int main() {\n",
        "    int val1, val2, val3, val4;\n",
        "\n",
        "    int max;\n",
        "\n",
        "    puts(\"四つの整数を入力してください。\");\n",
        "    printf(\"整数a :\");   scanf(\"%d\", &val1);\n",
        "    printf(\"整数b :\");   scanf(\"%d\", &val2);\n",
        "    printf(\"整数c :\");   scanf(\"%d\", &val3);\n",
        "    printf(\"整数d :\");   scanf(\"%d\", &val4);\n",
        "\n",
        "    max = val1;\n",
        "\n",
        "    if(max < val2)\n",
        "        max = val2;\n",
        "    if(max < val3)\n",
        "        max = val3;\n",
        "    if(max < val4)\n",
        "        max = val4;\n",
        "\n",
        "    printf(\"最大値は %d です。\", max);\n",
        "\n",
        "    return 0;\n",
        "}"
      ],
      "execution_count": 29,
      "outputs": [
        {
          "output_type": "stream",
          "text": [
            "Writing 3-7.c\n"
          ],
          "name": "stdout"
        }
      ]
    },
    {
      "cell_type": "code",
      "metadata": {
        "id": "N5tak6rU2Gg_",
        "outputId": "1aec6e3f-273b-4f1d-84e4-b8c90774f9f5",
        "colab": {
          "base_uri": "https://localhost:8080/"
        }
      },
      "source": [
        "!gcc 3-7.c -o prog && ./prog"
      ],
      "execution_count": 30,
      "outputs": [
        {
          "output_type": "stream",
          "text": [
            "四つの整数を入力してください。\n",
            "整数a :4\n",
            "整数b :6\n",
            "整数c :1\n",
            "整数d :5\n",
            "最大値は 6 です。"
          ],
          "name": "stdout"
        }
      ]
    }
  ]
}