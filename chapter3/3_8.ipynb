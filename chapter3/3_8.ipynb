{
  "nbformat": 4,
  "nbformat_minor": 0,
  "metadata": {
    "colab": {
      "name": "3-8",
      "provenance": []
    },
    "kernelspec": {
      "name": "python3",
      "display_name": "Python 3"
    }
  },
  "cells": [
    {
      "cell_type": "code",
      "metadata": {
        "id": "dozY-L1I13zU",
        "outputId": "e8b37e70-8dd9-4e81-db37-f08b41bc0a70",
        "colab": {
          "base_uri": "https://localhost:8080/"
        }
      },
      "source": [
        "%%file 3-8.c\n",
        "#include<stdio.h>\n",
        "\n",
        "int main() {\n",
        "    int val1, val2, dif;\n",
        "\n",
        "    puts(\"二つの整数を入力してください。\");\n",
        "    printf(\"整数a :\");   scanf(\"%d\", &val1);\n",
        "    printf(\"整数b :\");   scanf(\"%d\", &val2);\n",
        "\n",
        "    if(val1 > val2)\n",
        "        dif = val1 - val2;\n",
        "    else\n",
        "        dif = val2 - val1;\n",
        "    \n",
        "\n",
        "    printf(\"それらの差は %d です。\", dif);\n",
        "\n",
        "    return 0;\n",
        "}"
      ],
      "execution_count": 31,
      "outputs": [
        {
          "output_type": "stream",
          "text": [
            "Writing 3-8.c\n"
          ],
          "name": "stdout"
        }
      ]
    },
    {
      "cell_type": "code",
      "metadata": {
        "id": "N5tak6rU2Gg_",
        "outputId": "43b68284-afe2-439d-e56f-c4c0798c4365",
        "colab": {
          "base_uri": "https://localhost:8080/"
        }
      },
      "source": [
        "!gcc 3-8.c -o prog && ./prog"
      ],
      "execution_count": 32,
      "outputs": [
        {
          "output_type": "stream",
          "text": [
            "二つの整数を入力してください。\n",
            "整数a :6\n",
            "整数b :4\n",
            "それらの差は 2 です。"
          ],
          "name": "stdout"
        }
      ]
    }
  ]
}