{
  "nbformat": 4,
  "nbformat_minor": 0,
  "metadata": {
    "colab": {
      "name": "3-5",
      "provenance": []
    },
    "kernelspec": {
      "name": "python3",
      "display_name": "Python 3"
    }
  },
  "cells": [
    {
      "cell_type": "code",
      "metadata": {
        "id": "dozY-L1I13zU",
        "outputId": "cd8f0b7b-394b-4b62-f4df-f1b155016538",
        "colab": {
          "base_uri": "https://localhost:8080/"
        }
      },
      "source": [
        "%%file 3-5.c\n",
        "#include<stdio.h>\n",
        "\n",
        "int main() {\n",
        "    int val = 4;\n",
        "\n",
        "    printf(\"4 > 0の値: %d\\n\", val > 0);\n",
        "    printf(\"4 < 0の値: %d\\n\", val < 0);\n",
        "    printf(\"4 == 0の値: %d\\n\", val == 0);\n",
        "    printf(\"4 != 0の値: %d\\n\", val != 0);\n",
        "    printf(\"(val > 0) + (val != 0)の値: %d\\n\", (val > 0) + (val != 0));\n",
        "\n",
        "    return 0;\n",
        "}"
      ],
      "execution_count": 25,
      "outputs": [
        {
          "output_type": "stream",
          "text": [
            "Overwriting 3-5.c\n"
          ],
          "name": "stdout"
        }
      ]
    },
    {
      "cell_type": "code",
      "metadata": {
        "id": "N5tak6rU2Gg_",
        "outputId": "e604bc80-492e-4827-e0b4-0320df53b91b",
        "colab": {
          "base_uri": "https://localhost:8080/"
        }
      },
      "source": [
        "!gcc 3-5.c -o prog && ./prog"
      ],
      "execution_count": 26,
      "outputs": [
        {
          "output_type": "stream",
          "text": [
            "4 > 0の値: 1\n",
            "4 < 0の値: 0\n",
            "4 == 0の値: 0\n",
            "4 != 0の値: 1\n",
            "(val > 0) + (val != 0)の値: 2\n"
          ],
          "name": "stdout"
        }
      ]
    }
  ]
}