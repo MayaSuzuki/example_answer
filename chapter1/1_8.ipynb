{
  "nbformat": 4,
  "nbformat_minor": 0,
  "metadata": {
    "colab": {
      "name": "1-8.ipynb",
      "provenance": []
    },
    "kernelspec": {
      "name": "python3",
      "display_name": "Python 3"
    }
  },
  "cells": [
    {
      "cell_type": "code",
      "metadata": {
        "id": "dozY-L1I13zU",
        "outputId": "21ac7eb9-704a-4bed-be23-d57ab1f78605",
        "colab": {
          "base_uri": "https://localhost:8080/"
        }
      },
      "source": [
        "%%file 1-8.c\n",
        "#include<stdio.h>\n",
        "\n",
        "int main() {\n",
        "    int val1, val2;\n",
        "    int mul;\n",
        "\n",
        "    puts(\"二つの整数を入力してください。\");\n",
        "    printf(\"整数1 :\");   scanf(\"%d\", &val1);\n",
        "    printf(\"整数2 :\");   scanf(\"%d\", &val2);\n",
        "\n",
        "    mul = val1 * val2;\n",
        "\n",
        "    printf(\"それらの積は %d です。\", mul);\n",
        "\n",
        "    return 0;\n",
        "}"
      ],
      "execution_count": 13,
      "outputs": [
        {
          "output_type": "stream",
          "text": [
            "Writing 1-8.c\n"
          ],
          "name": "stdout"
        }
      ]
    },
    {
      "cell_type": "code",
      "metadata": {
        "id": "N5tak6rU2Gg_",
        "outputId": "e5ff1977-36b5-4e6f-803f-86a56a75e11a",
        "colab": {
          "base_uri": "https://localhost:8080/"
        }
      },
      "source": [
        "!gcc 1-8.c -o prog && ./prog"
      ],
      "execution_count": 14,
      "outputs": [
        {
          "output_type": "stream",
          "text": [
            "二つの整数を入力してください。\n",
            "整数1 :2\n",
            "整数2 :3\n",
            "それらの積は 6 です。"
          ],
          "name": "stdout"
        }
      ]
    }
  ]
}