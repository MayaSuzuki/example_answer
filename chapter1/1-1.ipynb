{
  "nbformat": 4,
  "nbformat_minor": 0,
  "metadata": {
    "colab": {
      "name": "Untitled2.ipynb",
      "provenance": []
    },
    "kernelspec": {
      "name": "python3",
      "display_name": "Python 3"
    }
  },
  "cells": [
    {
      "cell_type": "code",
      "metadata": {
        "id": "P7BrxHYxzAyw",
        "outputId": "5efeab17-2eb2-4518-b24c-032f4939db14",
        "colab": {
          "base_uri": "https://localhost:8080/"
        }
      },
      "source": [
        "%%file 1-1.c\n",
        "#include<stdio.h>\n",
        "\n",
        "int main() {\n",
        "    printf(\"15 から 37 を引いた値は %d です。\",15-37);\n",
        "\n",
        "    return 0;\n",
        "}"
      ],
      "execution_count": 3,
      "outputs": [
        {
          "output_type": "stream",
          "text": [
            "Overwriting 1-1.c\n"
          ],
          "name": "stdout"
        }
      ]
    },
    {
      "cell_type": "code",
      "metadata": {
        "id": "B3VJuoA2zXpn",
        "outputId": "43453e94-ad54-4e82-baf4-63059b695ef6",
        "colab": {
          "base_uri": "https://localhost:8080/"
        }
      },
      "source": [
        "!gcc 1-1.c -o prog && ./prog"
      ],
      "execution_count": 4,
      "outputs": [
        {
          "output_type": "stream",
          "text": [
            "15 から 37 を引いた値は -22 です。"
          ],
          "name": "stdout"
        }
      ]
    }
  ]
}