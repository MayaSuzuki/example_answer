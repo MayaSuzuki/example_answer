{
  "nbformat": 4,
  "nbformat_minor": 0,
  "metadata": {
    "colab": {
      "name": "1-5.ipynb",
      "provenance": []
    },
    "kernelspec": {
      "name": "python3",
      "display_name": "Python 3"
    }
  },
  "cells": [
    {
      "cell_type": "code",
      "metadata": {
        "id": "dozY-L1I13zU",
        "outputId": "9b439e7e-48d0-4aeb-e083-9190530b6bcf",
        "colab": {
          "base_uri": "https://localhost:8080/"
        }
      },
      "source": [
        "%%file 1-5.c\n",
        "#include<stdio.h>\n",
        "\n",
        "int main() {\n",
        "    int val;\n",
        "\n",
        "    printf(\"整数を入力してください :\");\n",
        "    scanf(\"%d\", &val);\n",
        "\n",
        "    printf(\"%d に 12 を加えると %d です。\", val, val + 12);\n",
        "\n",
        "    return 0;\n",
        "}"
      ],
      "execution_count": 7,
      "outputs": [
        {
          "output_type": "stream",
          "text": [
            "Writing 1-5.c\n"
          ],
          "name": "stdout"
        }
      ]
    },
    {
      "cell_type": "code",
      "metadata": {
        "id": "N5tak6rU2Gg_",
        "outputId": "66f47ca0-5850-42c7-c1af-3961021e514f",
        "colab": {
          "base_uri": "https://localhost:8080/"
        }
      },
      "source": [
        "!gcc 1-5.c -o prog && ./prog"
      ],
      "execution_count": 8,
      "outputs": [
        {
          "output_type": "stream",
          "text": [
            "整数を入力してください :33\n",
            "33 に 12 を加えると 45 です。"
          ],
          "name": "stdout"
        }
      ]
    }
  ]
}