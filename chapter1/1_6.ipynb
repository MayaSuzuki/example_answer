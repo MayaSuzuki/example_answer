{
  "nbformat": 4,
  "nbformat_minor": 0,
  "metadata": {
    "colab": {
      "name": "1-6.ipynb",
      "provenance": []
    },
    "kernelspec": {
      "name": "python3",
      "display_name": "Python 3"
    }
  },
  "cells": [
    {
      "cell_type": "code",
      "metadata": {
        "id": "dozY-L1I13zU",
        "outputId": "a866e3f3-46ed-4d33-c164-aaab1416964d",
        "colab": {
          "base_uri": "https://localhost:8080/"
        }
      },
      "source": [
        "%%file 1-6.c\n",
        "#include<stdio.h>\n",
        "\n",
        "int main() {\n",
        "    int val;\n",
        "\n",
        "    printf(\"整数を入力してください :\");\n",
        "    scanf(\"%d\", &val);\n",
        "\n",
        "    printf(\"%d に 6 を減じると %d です。\", val, val - 6);\n",
        "\n",
        "    return 0;\n",
        "}"
      ],
      "execution_count": 9,
      "outputs": [
        {
          "output_type": "stream",
          "text": [
            "Writing 1-6.c\n"
          ],
          "name": "stdout"
        }
      ]
    },
    {
      "cell_type": "code",
      "metadata": {
        "id": "N5tak6rU2Gg_",
        "outputId": "31b48789-27a0-4f63-e788-d78cf85e0b9d",
        "colab": {
          "base_uri": "https://localhost:8080/"
        }
      },
      "source": [
        "!gcc 1-6.c -o prog && ./prog"
      ],
      "execution_count": 10,
      "outputs": [
        {
          "output_type": "stream",
          "text": [
            "整数を入力してください :33\n",
            "33 に 6 を減じると 27 です。"
          ],
          "name": "stdout"
        }
      ]
    }
  ]
}