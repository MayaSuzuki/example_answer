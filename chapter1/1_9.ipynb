{
  "nbformat": 4,
  "nbformat_minor": 0,
  "metadata": {
    "colab": {
      "name": "1-9.ipynb",
      "provenance": []
    },
    "kernelspec": {
      "name": "python3",
      "display_name": "Python 3"
    }
  },
  "cells": [
    {
      "cell_type": "code",
      "metadata": {
        "id": "dozY-L1I13zU",
        "outputId": "65fd673d-3a64-43bf-fa79-542e0873b033",
        "colab": {
          "base_uri": "https://localhost:8080/"
        }
      },
      "source": [
        "%%file 1-9.c\n",
        "#include<stdio.h>\n",
        "\n",
        "int main() {\n",
        "    int val1, val2, val3;\n",
        "    int wa;\n",
        "\n",
        "    puts(\"二つの整数を入力してください。\");\n",
        "    printf(\"整数1 :\");   scanf(\"%d\", &val1);\n",
        "    printf(\"整数2 :\");   scanf(\"%d\", &val2);\n",
        "    printf(\"整数3 :\");   scanf(\"%d\", &val3);\n",
        "\n",
        "    wa = val1 + val2 + val3;\n",
        "\n",
        "    printf(\"それらの和は %d です。\", wa);\n",
        "\n",
        "    return 0;\n",
        "}"
      ],
      "execution_count": 15,
      "outputs": [
        {
          "output_type": "stream",
          "text": [
            "Writing 1-9.c\n"
          ],
          "name": "stdout"
        }
      ]
    },
    {
      "cell_type": "code",
      "metadata": {
        "id": "N5tak6rU2Gg_",
        "outputId": "0ed5ad60-957b-4298-9682-161066ef5287",
        "colab": {
          "base_uri": "https://localhost:8080/"
        }
      },
      "source": [
        "!gcc 1-9.c -o prog && ./prog"
      ],
      "execution_count": 16,
      "outputs": [
        {
          "output_type": "stream",
          "text": [
            "二つの整数を入力してください。\n",
            "整数1 :4\n",
            "整数2 :4\n",
            "整数3 :6\n",
            "それらの和は 14 です。"
          ],
          "name": "stdout"
        }
      ]
    }
  ]
}